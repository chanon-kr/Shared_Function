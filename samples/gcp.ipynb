{
 "cells": [
  {
   "cell_type": "markdown",
   "id": "inner-guatemala",
   "metadata": {},
   "source": [
    "# Import Library\n",
    "\n",
    " - ```pip install google-cloud-storage```<br> \n",
    " <br>change from da_tran_bucket since 0.3.11"
   ]
  },
  {
   "cell_type": "code",
   "execution_count": null,
   "id": "inappropriate-accommodation",
   "metadata": {},
   "outputs": [],
   "source": [
    "from py_topping.data_connection.database import lazy_GCS"
   ]
  },
  {
   "cell_type": "markdown",
   "id": "alternate-application",
   "metadata": {},
   "source": [
    "# Initiate Class"
   ]
  },
  {
   "cell_type": "code",
   "execution_count": null,
   "id": "killing-heating",
   "metadata": {},
   "outputs": [],
   "source": [
    "gcs = lazy_GCS(project_id = '{Your Project ID}'\n",
    "                     , bucket_name = '{Your Bucket Name}'\n",
    "                     ,credential = '{Path to Your Credential Json File (Optional)}')"
   ]
  },
  {
   "cell_type": "markdown",
   "id": "abroad-physics",
   "metadata": {},
   "source": [
    "# Download Single File\n",
    "\n",
    "Need 2 permissions \n",
    "- Storage Legacy Object Reader\n",
    "- Storage Legacy Bucket Writer "
   ]
  },
  {
   "cell_type": "code",
   "execution_count": null,
   "id": "superior-component",
   "metadata": {},
   "outputs": [],
   "source": [
    "gcs.download(bucket_file = '{Name of file you want to download}'\n",
    "             , local_file = '{Location + Filename you want to save in your PC}')"
   ]
  },
  {
   "cell_type": "markdown",
   "id": "ambient-crime",
   "metadata": {},
   "source": [
    "# Download Whole Folder\n",
    "Need 2 permissions \n",
    "- Storage Legacy Object Reader\n",
    "- Storage Legacy Bucket Writer "
   ]
  },
  {
   "cell_type": "code",
   "execution_count": null,
   "id": "royal-landscape",
   "metadata": {},
   "outputs": [],
   "source": [
    "gcs.download_folder(bucket_folder = '{Name of Folder you want to download}'\n",
    "                    , local_folder = '{Location + Folder you want to save in your PC}'\n",
    "                    , create_folder = False) # <= If true, will create folder if not exists"
   ]
  },
  {
   "cell_type": "markdown",
   "id": "agricultural-symphony",
   "metadata": {},
   "source": [
    "# Upload File\n",
    "Need a permissions : Storage Legacy Bucket Writer "
   ]
  },
  {
   "cell_type": "code",
   "execution_count": null,
   "id": "featured-prior",
   "metadata": {},
   "outputs": [],
   "source": [
    "gcs.upload(bucket_file = '{Destination + File name you want to upload}'\n",
    "           , local_file = '{Your local file}'\n",
    "           , remove_file = False) # <= If true, remove file from that folder "
   ]
  },
  {
   "cell_type": "markdown",
   "id": "7da859b6",
   "metadata": {},
   "source": [
    "From version 0.3.17, upload method can also create the signed_url<br><br>\n",
    "Reference from : \n",
    "https://github.com/GoogleCloudPlatform/python-docs-samples/tree/e7379a8b33ab29b354292d370c3655f481bf3be5/storage/signed_urls"
   ]
  },
  {
   "cell_type": "code",
   "execution_count": null,
   "id": "f025f1f5",
   "metadata": {},
   "outputs": [],
   "source": [
    "gcs.upload(bucket_file = '{Destination + File name you want to upload}'\n",
    "           , local_file = '{Your local file}'\n",
    "           , remove_file = False # Suggest to set as True for signed url\n",
    "           , generate_signed_url = True # Set to True to create signed url\n",
    "           , url_expiration = 60) # Expiration time of the url in second"
   ]
  },
  {
   "cell_type": "markdown",
   "id": "57c48b44",
   "metadata": {},
   "source": [
    "Return signed url as a string"
   ]
  },
  {
   "cell_type": "markdown",
   "id": "09237d10",
   "metadata": {},
   "source": [
    "# Upload Folder\n",
    "Need a permissions : Storage Legacy Bucket Writer "
   ]
  },
  {
   "cell_type": "code",
   "execution_count": null,
   "id": "ae7c510a",
   "metadata": {},
   "outputs": [],
   "source": [
    "gcs.upload_folder(bucket_folder = '{Destination folder you want to upload}'\n",
    "                  , local_folder = '{Your local Folder}'\n",
    "                  , remove_file = False) # <= If true, remove file from that folder "
   ]
  },
  {
   "cell_type": "markdown",
   "id": "99cca58c",
   "metadata": {},
   "source": [
    "From version 0.3.17, upload_folder method can also create the signed_url<br><br>\n",
    "Reference from : \n",
    "https://github.com/GoogleCloudPlatform/python-docs-samples/tree/e7379a8b33ab29b354292d370c3655f481bf3be5/storage/signed_urls"
   ]
  },
  {
   "cell_type": "code",
   "execution_count": null,
   "id": "74afc657",
   "metadata": {},
   "outputs": [],
   "source": [
    "gcs.upload_folder(bucket_folder = '{Destination folder you want to upload}'\n",
    "                  , local_folder = '{Your local Folder}'\n",
    "                  , remove_file = False # Suggest to set as True for signed url\n",
    "                  , generate_signed_url = True # Set to True to create signed url\n",
    "                  , url_expiration = 60) # Expiration time of the url in second"
   ]
  },
  {
   "cell_type": "markdown",
   "id": "d703d1df",
   "metadata": {},
   "source": [
    "Return signed urls as a list of string"
   ]
  }
 ],
 "metadata": {
  "kernelspec": {
   "display_name": "Python 3 (ipykernel)",
   "language": "python",
   "name": "python3"
  },
  "language_info": {
   "codemirror_mode": {
    "name": "ipython",
    "version": 3
   },
   "file_extension": ".py",
   "mimetype": "text/x-python",
   "name": "python",
   "nbconvert_exporter": "python",
   "pygments_lexer": "ipython3",
   "version": "3.9.8"
  }
 },
 "nbformat": 4,
 "nbformat_minor": 5
}
