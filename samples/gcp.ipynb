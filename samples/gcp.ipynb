{
 "cells": [
  {
   "cell_type": "markdown",
   "id": "dental-vector",
   "metadata": {},
   "source": [
    "# Import Library"
   ]
  },
  {
   "cell_type": "code",
   "execution_count": null,
   "id": "blocked-community",
   "metadata": {},
   "outputs": [],
   "source": [
    "from py_topping.data_connection.database import da_tran_bucket"
   ]
  },
  {
   "cell_type": "markdown",
   "id": "committed-genius",
   "metadata": {},
   "source": [
    "# Initiate Class"
   ]
  },
  {
   "cell_type": "code",
   "execution_count": null,
   "id": "elder-intranet",
   "metadata": {},
   "outputs": [],
   "source": [
    "gcs = da_tran_bucket(project_id = '{Your Project ID}'\n",
    "                     , bucket_name = '{Your Bucket Name}'\n",
    "                     ,credential = '{Path to Your Credential Json File (Optional)}')"
   ]
  },
  {
   "cell_type": "markdown",
   "id": "given-harvest",
   "metadata": {},
   "source": [
    "# Download Single File"
   ]
  },
  {
   "cell_type": "code",
   "execution_count": null,
   "id": "motivated-diary",
   "metadata": {},
   "outputs": [],
   "source": [
    "gcs.download(bucket_file = '{Name of file you want to download}'\n",
    "             , local_file = '{Location + Filename you want to save in your PC}')"
   ]
  },
  {
   "cell_type": "markdown",
   "id": "blocked-calculation",
   "metadata": {},
   "source": [
    "# Download Whole Folder"
   ]
  },
  {
   "cell_type": "code",
   "execution_count": null,
   "id": "devoted-moldova",
   "metadata": {},
   "outputs": [],
   "source": [
    "gcs.download_folder(bucket_folder = '{Name of Folder you want to download}'\n",
    "                    , local_folder = '{Location + Folder you want to save in your PC}')"
   ]
  },
  {
   "cell_type": "markdown",
   "id": "enclosed-checklist",
   "metadata": {},
   "source": [
    "# Upload File"
   ]
  },
  {
   "cell_type": "code",
   "execution_count": null,
   "id": "spatial-closure",
   "metadata": {},
   "outputs": [],
   "source": [
    "gcs.upload(bucket_file = '{Destination + File name you want to upload}'\n",
    "           , local_file = '{Your local file}')"
   ]
  }
 ],
 "metadata": {
  "kernelspec": {
   "display_name": "Python 3",
   "language": "python",
   "name": "python3"
  },
  "language_info": {
   "codemirror_mode": {
    "name": "ipython",
    "version": 3
   },
   "file_extension": ".py",
   "mimetype": "text/x-python",
   "name": "python",
   "nbconvert_exporter": "python",
   "pygments_lexer": "ipython3",
   "version": "3.7.6"
  }
 },
 "nbformat": 4,
 "nbformat_minor": 5
}
