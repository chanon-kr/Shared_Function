{
 "cells": [
  {
   "cell_type": "markdown",
   "id": "inner-guatemala",
   "metadata": {},
   "source": [
    "# Import Library\n",
    "\n",
    " - ```pip install google-cloud-storage```<br> "
   ]
  },
  {
   "cell_type": "code",
   "execution_count": null,
   "id": "inappropriate-accommodation",
   "metadata": {},
   "outputs": [],
   "source": [
    "from py_topping.data_connection.database import da_tran_bucket"
   ]
  },
  {
   "cell_type": "markdown",
   "id": "alternate-application",
   "metadata": {},
   "source": [
    "# Initiate Class"
   ]
  },
  {
   "cell_type": "code",
   "execution_count": null,
   "id": "killing-heating",
   "metadata": {},
   "outputs": [],
   "source": [
    "gcs = da_tran_bucket(project_id = '{Your Project ID}'\n",
    "                     , bucket_name = '{Your Bucket Name}'\n",
    "                     ,credential = '{Path to Your Credential Json File (Optional)}')"
   ]
  },
  {
   "cell_type": "markdown",
   "id": "abroad-physics",
   "metadata": {},
   "source": [
    "# Download Single File"
   ]
  },
  {
   "cell_type": "code",
   "execution_count": null,
   "id": "superior-component",
   "metadata": {},
   "outputs": [],
   "source": [
    "gcs.download(bucket_file = '{Name of file you want to download}'\n",
    "             , local_file = '{Location + Filename you want to save in your PC}')"
   ]
  },
  {
   "cell_type": "markdown",
   "id": "ambient-crime",
   "metadata": {},
   "source": [
    "# Download Whole Folder"
   ]
  },
  {
   "cell_type": "code",
   "execution_count": null,
   "id": "royal-landscape",
   "metadata": {},
   "outputs": [],
   "source": [
    "gcs.download_folder(bucket_folder = '{Name of Folder you want to download}'\n",
    "                    , local_folder = '{Location + Folder you want to save in your PC}'\n",
    "                    , create_folder = False) # <= If true, will create folder if not exists"
   ]
  },
  {
   "cell_type": "markdown",
   "id": "agricultural-symphony",
   "metadata": {},
   "source": [
    "# Upload File"
   ]
  },
  {
   "cell_type": "code",
   "execution_count": null,
   "id": "featured-prior",
   "metadata": {},
   "outputs": [],
   "source": [
    "gcs.upload(bucket_file = '{Destination + File name you want to upload}'\n",
    "           , local_file = '{Your local file}')"
   ]
  },
  {
   "cell_type": "markdown",
   "id": "09237d10",
   "metadata": {},
   "source": [
    "# Upload Folder"
   ]
  },
  {
   "cell_type": "code",
   "execution_count": null,
   "id": "ae7c510a",
   "metadata": {},
   "outputs": [],
   "source": [
    "gcs.upload_folder(bucket_folder = '{Destination folder you want to upload}'\n",
    "                  , local_folder = '{Your local Folder}'\n",
    "                  , remove_file = False) # <= If true, remove file from that folder "
   ]
  }
 ],
 "metadata": {
  "kernelspec": {
   "display_name": "Python 3 (ipykernel)",
   "language": "python",
   "name": "python3"
  },
  "language_info": {
   "codemirror_mode": {
    "name": "ipython",
    "version": 3
   },
   "file_extension": ".py",
   "mimetype": "text/x-python",
   "name": "python",
   "nbconvert_exporter": "python",
   "pygments_lexer": "ipython3",
   "version": "3.9.8"
  }
 },
 "nbformat": 4,
 "nbformat_minor": 5
}
