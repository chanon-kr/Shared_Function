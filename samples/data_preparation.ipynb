{
 "cells": [
  {
   "cell_type": "markdown",
   "id": "radical-character",
   "metadata": {},
   "source": [
    "## Load Required Libraries\n",
    " - ```pip install pandas```<br>\n",
    " - ```pip install sklearn```<br> \n",
    " \n",
    "## Set up Raw Data"
   ]
  },
  {
   "cell_type": "code",
   "execution_count": 20,
   "id": "juvenile-breeding",
   "metadata": {},
   "outputs": [
    {
     "data": {
      "text/html": [
       "<div>\n",
       "<style scoped>\n",
       "    .dataframe tbody tr th:only-of-type {\n",
       "        vertical-align: middle;\n",
       "    }\n",
       "\n",
       "    .dataframe tbody tr th {\n",
       "        vertical-align: top;\n",
       "    }\n",
       "\n",
       "    .dataframe thead th {\n",
       "        text-align: right;\n",
       "    }\n",
       "</style>\n",
       "<table border=\"1\" class=\"dataframe\">\n",
       "  <thead>\n",
       "    <tr style=\"text-align: right;\">\n",
       "      <th></th>\n",
       "      <th>col1</th>\n",
       "      <th>col2</th>\n",
       "    </tr>\n",
       "  </thead>\n",
       "  <tbody>\n",
       "    <tr>\n",
       "      <th>0</th>\n",
       "      <td>0</td>\n",
       "      <td>a</td>\n",
       "    </tr>\n",
       "    <tr>\n",
       "      <th>1</th>\n",
       "      <td>1</td>\n",
       "      <td>b</td>\n",
       "    </tr>\n",
       "    <tr>\n",
       "      <th>2</th>\n",
       "      <td>2</td>\n",
       "      <td>c</td>\n",
       "    </tr>\n",
       "    <tr>\n",
       "      <th>3</th>\n",
       "      <td>3</td>\n",
       "      <td>a</td>\n",
       "    </tr>\n",
       "    <tr>\n",
       "      <th>4</th>\n",
       "      <td>4</td>\n",
       "      <td>b</td>\n",
       "    </tr>\n",
       "  </tbody>\n",
       "</table>\n",
       "</div>"
      ],
      "text/plain": [
       "   col1 col2\n",
       "0     0    a\n",
       "1     1    b\n",
       "2     2    c\n",
       "3     3    a\n",
       "4     4    b"
      ]
     },
     "execution_count": 20,
     "metadata": {},
     "output_type": "execute_result"
    }
   ],
   "source": [
    "import pandas as pd\n",
    "import numpy as np\n",
    "\n",
    "df = pd.DataFrame({'col1' : np.arange(7)\n",
    "                   ,'col2' : ['a','b','c','a','b','d','e']})\n",
    "df.head()"
   ]
  },
  {
   "cell_type": "markdown",
   "id": "broke-moisture",
   "metadata": {},
   "source": [
    "## Import Library"
   ]
  },
  {
   "cell_type": "code",
   "execution_count": 21,
   "id": "canadian-blowing",
   "metadata": {},
   "outputs": [],
   "source": [
    "import py_topping.data_preparation as prep"
   ]
  },
  {
   "cell_type": "markdown",
   "id": "national-radar",
   "metadata": {},
   "source": [
    "***\n",
    "## Create Lag\n",
    "***"
   ]
  },
  {
   "cell_type": "code",
   "execution_count": null,
   "id": "equipped-corporation",
   "metadata": {},
   "outputs": [],
   "source": [
    "prep.create_lag(df_in \n",
    "                , col_in \n",
    "                , lag_range \n",
    "                , lag_name = 'lag' \n",
    "                , drop_null = True\n",
    "                , debug = False)"
   ]
  },
  {
   "cell_type": "markdown",
   "id": "precise-monitoring",
   "metadata": {},
   "source": [
    "### Standard Lagging"
   ]
  },
  {
   "cell_type": "code",
   "execution_count": 23,
   "id": "placed-reliance",
   "metadata": {},
   "outputs": [
    {
     "data": {
      "text/html": [
       "<div>\n",
       "<style scoped>\n",
       "    .dataframe tbody tr th:only-of-type {\n",
       "        vertical-align: middle;\n",
       "    }\n",
       "\n",
       "    .dataframe tbody tr th {\n",
       "        vertical-align: top;\n",
       "    }\n",
       "\n",
       "    .dataframe thead th {\n",
       "        text-align: right;\n",
       "    }\n",
       "</style>\n",
       "<table border=\"1\" class=\"dataframe\">\n",
       "  <thead>\n",
       "    <tr style=\"text-align: right;\">\n",
       "      <th></th>\n",
       "      <th>col1</th>\n",
       "      <th>col2</th>\n",
       "      <th>col1_lag_1</th>\n",
       "      <th>col2_lag_1</th>\n",
       "      <th>col1_lag_2</th>\n",
       "      <th>col2_lag_2</th>\n",
       "    </tr>\n",
       "  </thead>\n",
       "  <tbody>\n",
       "    <tr>\n",
       "      <th>2</th>\n",
       "      <td>2</td>\n",
       "      <td>c</td>\n",
       "      <td>1.0</td>\n",
       "      <td>b</td>\n",
       "      <td>0.0</td>\n",
       "      <td>a</td>\n",
       "    </tr>\n",
       "    <tr>\n",
       "      <th>3</th>\n",
       "      <td>3</td>\n",
       "      <td>a</td>\n",
       "      <td>2.0</td>\n",
       "      <td>c</td>\n",
       "      <td>1.0</td>\n",
       "      <td>b</td>\n",
       "    </tr>\n",
       "    <tr>\n",
       "      <th>4</th>\n",
       "      <td>4</td>\n",
       "      <td>b</td>\n",
       "      <td>3.0</td>\n",
       "      <td>a</td>\n",
       "      <td>2.0</td>\n",
       "      <td>c</td>\n",
       "    </tr>\n",
       "    <tr>\n",
       "      <th>5</th>\n",
       "      <td>5</td>\n",
       "      <td>d</td>\n",
       "      <td>4.0</td>\n",
       "      <td>b</td>\n",
       "      <td>3.0</td>\n",
       "      <td>a</td>\n",
       "    </tr>\n",
       "    <tr>\n",
       "      <th>6</th>\n",
       "      <td>6</td>\n",
       "      <td>e</td>\n",
       "      <td>5.0</td>\n",
       "      <td>d</td>\n",
       "      <td>4.0</td>\n",
       "      <td>b</td>\n",
       "    </tr>\n",
       "  </tbody>\n",
       "</table>\n",
       "</div>"
      ],
      "text/plain": [
       "   col1 col2  col1_lag_1 col2_lag_1  col1_lag_2 col2_lag_2\n",
       "2     2    c         1.0          b         0.0          a\n",
       "3     3    a         2.0          c         1.0          b\n",
       "4     4    b         3.0          a         2.0          c\n",
       "5     5    d         4.0          b         3.0          a\n",
       "6     6    e         5.0          d         4.0          b"
      ]
     },
     "execution_count": 23,
     "metadata": {},
     "output_type": "execute_result"
    }
   ],
   "source": [
    "prep.create_lag(df_in = df \n",
    "                , col_in = ['col1','col2']\n",
    "                , lag_range = 2)"
   ]
  },
  {
   "cell_type": "markdown",
   "id": "democratic-moderator",
   "metadata": {},
   "source": [
    "### Edit Name"
   ]
  },
  {
   "cell_type": "code",
   "execution_count": 24,
   "id": "worst-ireland",
   "metadata": {},
   "outputs": [
    {
     "data": {
      "text/html": [
       "<div>\n",
       "<style scoped>\n",
       "    .dataframe tbody tr th:only-of-type {\n",
       "        vertical-align: middle;\n",
       "    }\n",
       "\n",
       "    .dataframe tbody tr th {\n",
       "        vertical-align: top;\n",
       "    }\n",
       "\n",
       "    .dataframe thead th {\n",
       "        text-align: right;\n",
       "    }\n",
       "</style>\n",
       "<table border=\"1\" class=\"dataframe\">\n",
       "  <thead>\n",
       "    <tr style=\"text-align: right;\">\n",
       "      <th></th>\n",
       "      <th>col1</th>\n",
       "      <th>col2</th>\n",
       "      <th>col1_GAG_1</th>\n",
       "      <th>col2_GAG_1</th>\n",
       "      <th>col1_GAG_2</th>\n",
       "      <th>col2_GAG_2</th>\n",
       "    </tr>\n",
       "  </thead>\n",
       "  <tbody>\n",
       "    <tr>\n",
       "      <th>2</th>\n",
       "      <td>2</td>\n",
       "      <td>c</td>\n",
       "      <td>1.0</td>\n",
       "      <td>b</td>\n",
       "      <td>0.0</td>\n",
       "      <td>a</td>\n",
       "    </tr>\n",
       "    <tr>\n",
       "      <th>3</th>\n",
       "      <td>3</td>\n",
       "      <td>a</td>\n",
       "      <td>2.0</td>\n",
       "      <td>c</td>\n",
       "      <td>1.0</td>\n",
       "      <td>b</td>\n",
       "    </tr>\n",
       "    <tr>\n",
       "      <th>4</th>\n",
       "      <td>4</td>\n",
       "      <td>b</td>\n",
       "      <td>3.0</td>\n",
       "      <td>a</td>\n",
       "      <td>2.0</td>\n",
       "      <td>c</td>\n",
       "    </tr>\n",
       "    <tr>\n",
       "      <th>5</th>\n",
       "      <td>5</td>\n",
       "      <td>d</td>\n",
       "      <td>4.0</td>\n",
       "      <td>b</td>\n",
       "      <td>3.0</td>\n",
       "      <td>a</td>\n",
       "    </tr>\n",
       "    <tr>\n",
       "      <th>6</th>\n",
       "      <td>6</td>\n",
       "      <td>e</td>\n",
       "      <td>5.0</td>\n",
       "      <td>d</td>\n",
       "      <td>4.0</td>\n",
       "      <td>b</td>\n",
       "    </tr>\n",
       "  </tbody>\n",
       "</table>\n",
       "</div>"
      ],
      "text/plain": [
       "   col1 col2  col1_GAG_1 col2_GAG_1  col1_GAG_2 col2_GAG_2\n",
       "2     2    c         1.0          b         0.0          a\n",
       "3     3    a         2.0          c         1.0          b\n",
       "4     4    b         3.0          a         2.0          c\n",
       "5     5    d         4.0          b         3.0          a\n",
       "6     6    e         5.0          d         4.0          b"
      ]
     },
     "execution_count": 24,
     "metadata": {},
     "output_type": "execute_result"
    }
   ],
   "source": [
    "prep.create_lag(df_in = df , col_in = ['col1','col2'] , lag_range = 2 \n",
    "                , lag_name = 'GAG' )"
   ]
  },
  {
   "cell_type": "markdown",
   "id": "juvenile-powder",
   "metadata": {},
   "source": [
    "### Keep Null Value"
   ]
  },
  {
   "cell_type": "code",
   "execution_count": 25,
   "id": "fossil-genealogy",
   "metadata": {},
   "outputs": [
    {
     "data": {
      "text/html": [
       "<div>\n",
       "<style scoped>\n",
       "    .dataframe tbody tr th:only-of-type {\n",
       "        vertical-align: middle;\n",
       "    }\n",
       "\n",
       "    .dataframe tbody tr th {\n",
       "        vertical-align: top;\n",
       "    }\n",
       "\n",
       "    .dataframe thead th {\n",
       "        text-align: right;\n",
       "    }\n",
       "</style>\n",
       "<table border=\"1\" class=\"dataframe\">\n",
       "  <thead>\n",
       "    <tr style=\"text-align: right;\">\n",
       "      <th></th>\n",
       "      <th>col1</th>\n",
       "      <th>col2</th>\n",
       "      <th>col1_lag_1</th>\n",
       "      <th>col2_lag_1</th>\n",
       "      <th>col1_lag_2</th>\n",
       "      <th>col2_lag_2</th>\n",
       "    </tr>\n",
       "  </thead>\n",
       "  <tbody>\n",
       "    <tr>\n",
       "      <th>0</th>\n",
       "      <td>0</td>\n",
       "      <td>a</td>\n",
       "      <td>NaN</td>\n",
       "      <td>NaN</td>\n",
       "      <td>NaN</td>\n",
       "      <td>NaN</td>\n",
       "    </tr>\n",
       "    <tr>\n",
       "      <th>1</th>\n",
       "      <td>1</td>\n",
       "      <td>b</td>\n",
       "      <td>0.0</td>\n",
       "      <td>a</td>\n",
       "      <td>NaN</td>\n",
       "      <td>NaN</td>\n",
       "    </tr>\n",
       "    <tr>\n",
       "      <th>2</th>\n",
       "      <td>2</td>\n",
       "      <td>c</td>\n",
       "      <td>1.0</td>\n",
       "      <td>b</td>\n",
       "      <td>0.0</td>\n",
       "      <td>a</td>\n",
       "    </tr>\n",
       "    <tr>\n",
       "      <th>3</th>\n",
       "      <td>3</td>\n",
       "      <td>a</td>\n",
       "      <td>2.0</td>\n",
       "      <td>c</td>\n",
       "      <td>1.0</td>\n",
       "      <td>b</td>\n",
       "    </tr>\n",
       "    <tr>\n",
       "      <th>4</th>\n",
       "      <td>4</td>\n",
       "      <td>b</td>\n",
       "      <td>3.0</td>\n",
       "      <td>a</td>\n",
       "      <td>2.0</td>\n",
       "      <td>c</td>\n",
       "    </tr>\n",
       "    <tr>\n",
       "      <th>5</th>\n",
       "      <td>5</td>\n",
       "      <td>d</td>\n",
       "      <td>4.0</td>\n",
       "      <td>b</td>\n",
       "      <td>3.0</td>\n",
       "      <td>a</td>\n",
       "    </tr>\n",
       "    <tr>\n",
       "      <th>6</th>\n",
       "      <td>6</td>\n",
       "      <td>e</td>\n",
       "      <td>5.0</td>\n",
       "      <td>d</td>\n",
       "      <td>4.0</td>\n",
       "      <td>b</td>\n",
       "    </tr>\n",
       "  </tbody>\n",
       "</table>\n",
       "</div>"
      ],
      "text/plain": [
       "   col1 col2  col1_lag_1 col2_lag_1  col1_lag_2 col2_lag_2\n",
       "0     0    a         NaN        NaN         NaN        NaN\n",
       "1     1    b         0.0          a         NaN        NaN\n",
       "2     2    c         1.0          b         0.0          a\n",
       "3     3    a         2.0          c         1.0          b\n",
       "4     4    b         3.0          a         2.0          c\n",
       "5     5    d         4.0          b         3.0          a\n",
       "6     6    e         5.0          d         4.0          b"
      ]
     },
     "execution_count": 25,
     "metadata": {},
     "output_type": "execute_result"
    }
   ],
   "source": [
    "prep.create_lag(df_in = df , col_in = ['col1','col2'] , lag_range = 2 \n",
    "                , drop_null = False)"
   ]
  },
  {
   "cell_type": "markdown",
   "id": "convertible-passport",
   "metadata": {},
   "source": [
    "***\n",
    "## Encoder\n",
    "***"
   ]
  },
  {
   "cell_type": "markdown",
   "id": "selected-attraction",
   "metadata": {},
   "source": [
    "### Create Encoder"
   ]
  },
  {
   "cell_type": "code",
   "execution_count": null,
   "id": "little-variable",
   "metadata": {},
   "outputs": [],
   "source": [
    "prep.create_encoder(df_in \n",
    "                    , col_in\n",
    "                    , folder_in \n",
    "                    , debug = False)"
   ]
  },
  {
   "cell_type": "markdown",
   "id": "sexual-burlington",
   "metadata": {},
   "source": [
    "### Encode Column"
   ]
  },
  {
   "cell_type": "code",
   "execution_count": null,
   "id": "limited-bolivia",
   "metadata": {},
   "outputs": [],
   "source": [
    "prep.encode_col(df_in \n",
    "                , col_in \n",
    "                , folder_in \n",
    "                , debug = False)"
   ]
  },
  {
   "cell_type": "markdown",
   "id": "worst-logic",
   "metadata": {},
   "source": [
    "### Decode Column"
   ]
  },
  {
   "cell_type": "code",
   "execution_count": null,
   "id": "subject-image",
   "metadata": {},
   "outputs": [],
   "source": [
    "prep.decode_col(df_in \n",
    "                , col_in \n",
    "                , folder_in \n",
    "                , debug = False)"
   ]
  },
  {
   "cell_type": "markdown",
   "id": "experimental-great",
   "metadata": {},
   "source": [
    "### Encoder in Action\n",
    "\n",
    "Row 1 - 3 is train data set<br>\n",
    "Row 4 - 7 is test data set"
   ]
  },
  {
   "cell_type": "code",
   "execution_count": 26,
   "id": "after-trunk",
   "metadata": {},
   "outputs": [
    {
     "data": {
      "text/html": [
       "<div>\n",
       "<style scoped>\n",
       "    .dataframe tbody tr th:only-of-type {\n",
       "        vertical-align: middle;\n",
       "    }\n",
       "\n",
       "    .dataframe tbody tr th {\n",
       "        vertical-align: top;\n",
       "    }\n",
       "\n",
       "    .dataframe thead th {\n",
       "        text-align: right;\n",
       "    }\n",
       "</style>\n",
       "<table border=\"1\" class=\"dataframe\">\n",
       "  <thead>\n",
       "    <tr style=\"text-align: right;\">\n",
       "      <th></th>\n",
       "      <th>col1</th>\n",
       "      <th>col2</th>\n",
       "    </tr>\n",
       "  </thead>\n",
       "  <tbody>\n",
       "    <tr>\n",
       "      <th>0</th>\n",
       "      <td>0</td>\n",
       "      <td>a</td>\n",
       "    </tr>\n",
       "    <tr>\n",
       "      <th>1</th>\n",
       "      <td>1</td>\n",
       "      <td>b</td>\n",
       "    </tr>\n",
       "    <tr>\n",
       "      <th>2</th>\n",
       "      <td>2</td>\n",
       "      <td>c</td>\n",
       "    </tr>\n",
       "  </tbody>\n",
       "</table>\n",
       "</div>"
      ],
      "text/plain": [
       "   col1 col2\n",
       "0     0    a\n",
       "1     1    b\n",
       "2     2    c"
      ]
     },
     "execution_count": 26,
     "metadata": {},
     "output_type": "execute_result"
    }
   ],
   "source": [
    "df_train = df.loc[:2]\n",
    "df_train"
   ]
  },
  {
   "cell_type": "code",
   "execution_count": 27,
   "id": "round-yemen",
   "metadata": {},
   "outputs": [
    {
     "data": {
      "text/html": [
       "<div>\n",
       "<style scoped>\n",
       "    .dataframe tbody tr th:only-of-type {\n",
       "        vertical-align: middle;\n",
       "    }\n",
       "\n",
       "    .dataframe tbody tr th {\n",
       "        vertical-align: top;\n",
       "    }\n",
       "\n",
       "    .dataframe thead th {\n",
       "        text-align: right;\n",
       "    }\n",
       "</style>\n",
       "<table border=\"1\" class=\"dataframe\">\n",
       "  <thead>\n",
       "    <tr style=\"text-align: right;\">\n",
       "      <th></th>\n",
       "      <th>col1</th>\n",
       "      <th>col2</th>\n",
       "    </tr>\n",
       "  </thead>\n",
       "  <tbody>\n",
       "    <tr>\n",
       "      <th>3</th>\n",
       "      <td>3</td>\n",
       "      <td>a</td>\n",
       "    </tr>\n",
       "    <tr>\n",
       "      <th>4</th>\n",
       "      <td>4</td>\n",
       "      <td>b</td>\n",
       "    </tr>\n",
       "    <tr>\n",
       "      <th>5</th>\n",
       "      <td>5</td>\n",
       "      <td>d</td>\n",
       "    </tr>\n",
       "    <tr>\n",
       "      <th>6</th>\n",
       "      <td>6</td>\n",
       "      <td>e</td>\n",
       "    </tr>\n",
       "  </tbody>\n",
       "</table>\n",
       "</div>"
      ],
      "text/plain": [
       "   col1 col2\n",
       "3     3    a\n",
       "4     4    b\n",
       "5     5    d\n",
       "6     6    e"
      ]
     },
     "execution_count": 27,
     "metadata": {},
     "output_type": "execute_result"
    }
   ],
   "source": [
    "df_test = df.loc[3:]\n",
    "df_test"
   ]
  },
  {
   "cell_type": "markdown",
   "id": "stainless-method",
   "metadata": {},
   "source": [
    "**Create Encoder from train set**"
   ]
  },
  {
   "cell_type": "code",
   "execution_count": 28,
   "id": "aggressive-glucose",
   "metadata": {},
   "outputs": [
    {
     "name": "stdout",
     "output_type": "stream",
     "text": [
      "Created\n"
     ]
    }
   ],
   "source": [
    "prep.create_encoder(df_train\n",
    "                   , col_in = ['col2']\n",
    "                   , folder_in = 'encoder')\n",
    "print('Created')"
   ]
  },
  {
   "cell_type": "markdown",
   "id": "strong-scene",
   "metadata": {},
   "source": [
    "Encoder will store sklearn's LaberEncoding Model <br>\n",
    "in folder name \"encoder\" as pkl format"
   ]
  },
  {
   "cell_type": "markdown",
   "id": "demonstrated-completion",
   "metadata": {},
   "source": [
    "**Transform train set**"
   ]
  },
  {
   "cell_type": "code",
   "execution_count": 29,
   "id": "configured-family",
   "metadata": {},
   "outputs": [
    {
     "data": {
      "text/html": [
       "<div>\n",
       "<style scoped>\n",
       "    .dataframe tbody tr th:only-of-type {\n",
       "        vertical-align: middle;\n",
       "    }\n",
       "\n",
       "    .dataframe tbody tr th {\n",
       "        vertical-align: top;\n",
       "    }\n",
       "\n",
       "    .dataframe thead th {\n",
       "        text-align: right;\n",
       "    }\n",
       "</style>\n",
       "<table border=\"1\" class=\"dataframe\">\n",
       "  <thead>\n",
       "    <tr style=\"text-align: right;\">\n",
       "      <th></th>\n",
       "      <th>col1</th>\n",
       "      <th>col2</th>\n",
       "    </tr>\n",
       "  </thead>\n",
       "  <tbody>\n",
       "    <tr>\n",
       "      <th>0</th>\n",
       "      <td>0</td>\n",
       "      <td>0</td>\n",
       "    </tr>\n",
       "    <tr>\n",
       "      <th>1</th>\n",
       "      <td>1</td>\n",
       "      <td>1</td>\n",
       "    </tr>\n",
       "    <tr>\n",
       "      <th>2</th>\n",
       "      <td>2</td>\n",
       "      <td>2</td>\n",
       "    </tr>\n",
       "  </tbody>\n",
       "</table>\n",
       "</div>"
      ],
      "text/plain": [
       "   col1 col2\n",
       "0     0    0\n",
       "1     1    1\n",
       "2     2    2"
      ]
     },
     "execution_count": 29,
     "metadata": {},
     "output_type": "execute_result"
    }
   ],
   "source": [
    "df_train2 = prep.encode_col(df_in = df_train \n",
    "                        , col_in = ['col2']\n",
    "                        , folder_in = 'encoder')\n",
    "df_train2"
   ]
  },
  {
   "cell_type": "markdown",
   "id": "orange-myrtle",
   "metadata": {},
   "source": [
    "**Decode encoded train set**"
   ]
  },
  {
   "cell_type": "code",
   "execution_count": 30,
   "id": "french-webster",
   "metadata": {},
   "outputs": [
    {
     "data": {
      "text/html": [
       "<div>\n",
       "<style scoped>\n",
       "    .dataframe tbody tr th:only-of-type {\n",
       "        vertical-align: middle;\n",
       "    }\n",
       "\n",
       "    .dataframe tbody tr th {\n",
       "        vertical-align: top;\n",
       "    }\n",
       "\n",
       "    .dataframe thead th {\n",
       "        text-align: right;\n",
       "    }\n",
       "</style>\n",
       "<table border=\"1\" class=\"dataframe\">\n",
       "  <thead>\n",
       "    <tr style=\"text-align: right;\">\n",
       "      <th></th>\n",
       "      <th>col1</th>\n",
       "      <th>col2</th>\n",
       "    </tr>\n",
       "  </thead>\n",
       "  <tbody>\n",
       "    <tr>\n",
       "      <th>0</th>\n",
       "      <td>0</td>\n",
       "      <td>a</td>\n",
       "    </tr>\n",
       "    <tr>\n",
       "      <th>1</th>\n",
       "      <td>1</td>\n",
       "      <td>b</td>\n",
       "    </tr>\n",
       "    <tr>\n",
       "      <th>2</th>\n",
       "      <td>2</td>\n",
       "      <td>c</td>\n",
       "    </tr>\n",
       "  </tbody>\n",
       "</table>\n",
       "</div>"
      ],
      "text/plain": [
       "   col1 col2\n",
       "0     0    a\n",
       "1     1    b\n",
       "2     2    c"
      ]
     },
     "execution_count": 30,
     "metadata": {},
     "output_type": "execute_result"
    }
   ],
   "source": [
    "prep.decode_col(df_in = df_train2 \n",
    "                , col_in = ['col2']\n",
    "                , folder_in = 'encoder')"
   ]
  },
  {
   "cell_type": "markdown",
   "id": "loaded-resident",
   "metadata": {},
   "source": [
    "**Transform test set** <br>\n",
    "Noted that test set has \"d\" and \"e\" that not in train set"
   ]
  },
  {
   "cell_type": "code",
   "execution_count": 34,
   "id": "plastic-region",
   "metadata": {},
   "outputs": [
    {
     "data": {
      "text/html": [
       "<div>\n",
       "<style scoped>\n",
       "    .dataframe tbody tr th:only-of-type {\n",
       "        vertical-align: middle;\n",
       "    }\n",
       "\n",
       "    .dataframe tbody tr th {\n",
       "        vertical-align: top;\n",
       "    }\n",
       "\n",
       "    .dataframe thead th {\n",
       "        text-align: right;\n",
       "    }\n",
       "</style>\n",
       "<table border=\"1\" class=\"dataframe\">\n",
       "  <thead>\n",
       "    <tr style=\"text-align: right;\">\n",
       "      <th></th>\n",
       "      <th>col1</th>\n",
       "      <th>col2</th>\n",
       "    </tr>\n",
       "  </thead>\n",
       "  <tbody>\n",
       "    <tr>\n",
       "      <th>3</th>\n",
       "      <td>3</td>\n",
       "      <td>0</td>\n",
       "    </tr>\n",
       "    <tr>\n",
       "      <th>4</th>\n",
       "      <td>4</td>\n",
       "      <td>1</td>\n",
       "    </tr>\n",
       "    <tr>\n",
       "      <th>5</th>\n",
       "      <td>5</td>\n",
       "      <td>3</td>\n",
       "    </tr>\n",
       "    <tr>\n",
       "      <th>6</th>\n",
       "      <td>6</td>\n",
       "      <td>3</td>\n",
       "    </tr>\n",
       "  </tbody>\n",
       "</table>\n",
       "</div>"
      ],
      "text/plain": [
       "   col1  col2\n",
       "3     3     0\n",
       "4     4     1\n",
       "5     5     3\n",
       "6     6     3"
      ]
     },
     "execution_count": 34,
     "metadata": {},
     "output_type": "execute_result"
    }
   ],
   "source": [
    "df_test2 = prep.encode_col(df_in = df_test\n",
    "                        , col_in = ['col2']\n",
    "                        , folder_in = 'encoder')\n",
    "df_test2"
   ]
  },
  {
   "cell_type": "markdown",
   "id": "breathing-silicon",
   "metadata": {},
   "source": [
    "encode_col will automatic use max number + 1 for data that never seen before\n",
    "<br><br><br>\n",
    "**Decode encoded test set**<br>\n",
    "Noted that encoded test set has \"3\" which is not in train set"
   ]
  },
  {
   "cell_type": "code",
   "execution_count": 35,
   "id": "powered-methodology",
   "metadata": {},
   "outputs": [
    {
     "data": {
      "text/html": [
       "<div>\n",
       "<style scoped>\n",
       "    .dataframe tbody tr th:only-of-type {\n",
       "        vertical-align: middle;\n",
       "    }\n",
       "\n",
       "    .dataframe tbody tr th {\n",
       "        vertical-align: top;\n",
       "    }\n",
       "\n",
       "    .dataframe thead th {\n",
       "        text-align: right;\n",
       "    }\n",
       "</style>\n",
       "<table border=\"1\" class=\"dataframe\">\n",
       "  <thead>\n",
       "    <tr style=\"text-align: right;\">\n",
       "      <th></th>\n",
       "      <th>col1</th>\n",
       "      <th>col2</th>\n",
       "    </tr>\n",
       "  </thead>\n",
       "  <tbody>\n",
       "    <tr>\n",
       "      <th>3</th>\n",
       "      <td>3</td>\n",
       "      <td>a</td>\n",
       "    </tr>\n",
       "    <tr>\n",
       "      <th>4</th>\n",
       "      <td>4</td>\n",
       "      <td>b</td>\n",
       "    </tr>\n",
       "    <tr>\n",
       "      <th>5</th>\n",
       "      <td>5</td>\n",
       "      <td>unknown</td>\n",
       "    </tr>\n",
       "    <tr>\n",
       "      <th>6</th>\n",
       "      <td>6</td>\n",
       "      <td>unknown</td>\n",
       "    </tr>\n",
       "  </tbody>\n",
       "</table>\n",
       "</div>"
      ],
      "text/plain": [
       "   col1     col2\n",
       "3     3        a\n",
       "4     4        b\n",
       "5     5  unknown\n",
       "6     6  unknown"
      ]
     },
     "execution_count": 35,
     "metadata": {},
     "output_type": "execute_result"
    }
   ],
   "source": [
    "prep.decode_col(df_in = df_test2\n",
    "                , col_in = ['col2']\n",
    "                , folder_in = 'encoder')"
   ]
  },
  {
   "cell_type": "markdown",
   "id": "whole-jacket",
   "metadata": {},
   "source": [
    "Decode will automatic decode \"3\" that not in train set as \"unknown\""
   ]
  },
  {
   "cell_type": "markdown",
   "id": "2b6a0bfb",
   "metadata": {},
   "source": [
    "# Auto Explain Decision Tree Logic\n",
    "\n",
    "# Article about this function\n",
    " - https://faun.pub/explain-decision-trees-logic-d1b06369bf3d\n",
    " \n",
    "## Create Simple model"
   ]
  },
  {
   "cell_type": "code",
   "execution_count": 1,
   "id": "20e10357",
   "metadata": {},
   "outputs": [
    {
     "data": {
      "text/plain": [
       "DecisionTreeClassifier(max_depth=4, random_state=0)"
      ]
     },
     "execution_count": 1,
     "metadata": {},
     "output_type": "execute_result"
    }
   ],
   "source": [
    "from sklearn.datasets import load_iris\n",
    "from sklearn.tree import DecisionTreeClassifier\n",
    "import pandas as pd\n",
    "import numpy as np\n",
    "\n",
    "iris = load_iris()\n",
    "col_name = [i.replace(' ','_') for i in iris['feature_names']]\n",
    "X = pd.DataFrame(iris['data'], columns = col_name)\n",
    "y = iris['target']\n",
    "model = DecisionTreeClassifier(random_state=0, max_depth=4)\n",
    "model = model.fit(X, y)\n",
    "model"
   ]
  },
  {
   "cell_type": "markdown",
   "id": "d6775c77",
   "metadata": {},
   "source": [
    "## Import Function"
   ]
  },
  {
   "cell_type": "code",
   "execution_count": 2,
   "id": "9932e711",
   "metadata": {},
   "outputs": [],
   "source": [
    "from py_topping.data_preparation import lazy_tree_logic"
   ]
  },
  {
   "cell_type": "markdown",
   "id": "fcea4704",
   "metadata": {},
   "source": [
    "## Create explainer"
   ]
  },
  {
   "cell_type": "code",
   "execution_count": 4,
   "id": "d41e96e9",
   "metadata": {},
   "outputs": [],
   "source": [
    "tree_explain = lazy_tree_logic(model, list(X.columns))"
   ]
  },
  {
   "cell_type": "markdown",
   "id": "dcfb938f",
   "metadata": {},
   "source": [
    "## Explain the logic"
   ]
  },
  {
   "cell_type": "code",
   "execution_count": 5,
   "id": "2340ec72",
   "metadata": {},
   "outputs": [
    {
     "data": {
      "text/html": [
       "<div>\n",
       "<style scoped>\n",
       "    .dataframe tbody tr th:only-of-type {\n",
       "        vertical-align: middle;\n",
       "    }\n",
       "\n",
       "    .dataframe tbody tr th {\n",
       "        vertical-align: top;\n",
       "    }\n",
       "\n",
       "    .dataframe thead th {\n",
       "        text-align: right;\n",
       "    }\n",
       "</style>\n",
       "<table border=\"1\" class=\"dataframe\">\n",
       "  <thead>\n",
       "    <tr style=\"text-align: right;\">\n",
       "      <th></th>\n",
       "      <th>sepal_length_(cm)</th>\n",
       "      <th>sepal_width_(cm)</th>\n",
       "      <th>petal_length_(cm)</th>\n",
       "      <th>petal_width_(cm)</th>\n",
       "      <th>reason</th>\n",
       "    </tr>\n",
       "  </thead>\n",
       "  <tbody>\n",
       "    <tr>\n",
       "      <th>0</th>\n",
       "      <td>5.1</td>\n",
       "      <td>3.5</td>\n",
       "      <td>1.4</td>\n",
       "      <td>0.2</td>\n",
       "      <td>[[petal_width_(cm), &lt;=, 0.8000], class: 0]</td>\n",
       "    </tr>\n",
       "    <tr>\n",
       "      <th>1</th>\n",
       "      <td>4.9</td>\n",
       "      <td>3.0</td>\n",
       "      <td>1.4</td>\n",
       "      <td>0.2</td>\n",
       "      <td>[[petal_width_(cm), &lt;=, 0.8000], class: 0]</td>\n",
       "    </tr>\n",
       "    <tr>\n",
       "      <th>2</th>\n",
       "      <td>4.7</td>\n",
       "      <td>3.2</td>\n",
       "      <td>1.3</td>\n",
       "      <td>0.2</td>\n",
       "      <td>[[petal_width_(cm), &lt;=, 0.8000], class: 0]</td>\n",
       "    </tr>\n",
       "    <tr>\n",
       "      <th>3</th>\n",
       "      <td>4.6</td>\n",
       "      <td>3.1</td>\n",
       "      <td>1.5</td>\n",
       "      <td>0.2</td>\n",
       "      <td>[[petal_width_(cm), &lt;=, 0.8000], class: 0]</td>\n",
       "    </tr>\n",
       "    <tr>\n",
       "      <th>4</th>\n",
       "      <td>5.0</td>\n",
       "      <td>3.6</td>\n",
       "      <td>1.4</td>\n",
       "      <td>0.2</td>\n",
       "      <td>[[petal_width_(cm), &lt;=, 0.8000], class: 0]</td>\n",
       "    </tr>\n",
       "  </tbody>\n",
       "</table>\n",
       "</div>"
      ],
      "text/plain": [
       "   sepal_length_(cm)  sepal_width_(cm)  petal_length_(cm)  petal_width_(cm)  \\\n",
       "0                5.1               3.5                1.4               0.2   \n",
       "1                4.9               3.0                1.4               0.2   \n",
       "2                4.7               3.2                1.3               0.2   \n",
       "3                4.6               3.1                1.5               0.2   \n",
       "4                5.0               3.6                1.4               0.2   \n",
       "\n",
       "                                       reason  \n",
       "0  [[petal_width_(cm), <=, 0.8000], class: 0]  \n",
       "1  [[petal_width_(cm), <=, 0.8000], class: 0]  \n",
       "2  [[petal_width_(cm), <=, 0.8000], class: 0]  \n",
       "3  [[petal_width_(cm), <=, 0.8000], class: 0]  \n",
       "4  [[petal_width_(cm), <=, 0.8000], class: 0]  "
      ]
     },
     "execution_count": 5,
     "metadata": {},
     "output_type": "execute_result"
    }
   ],
   "source": [
    "X['reason'] = X.apply(tree_explain.explain, axis =1)\n",
    "X.head()"
   ]
  },
  {
   "cell_type": "code",
   "execution_count": 6,
   "id": "93e1a5a7",
   "metadata": {},
   "outputs": [
    {
     "data": {
      "text/plain": [
       "[['petal_width_(cm)', '<=', '0.8000'], 'class: 0']"
      ]
     },
     "execution_count": 6,
     "metadata": {},
     "output_type": "execute_result"
    }
   ],
   "source": [
    "X.loc[0,'reason']"
   ]
  }
 ],
 "metadata": {
  "kernelspec": {
   "display_name": "Python 3 (ipykernel)",
   "language": "python",
   "name": "python3"
  },
  "language_info": {
   "codemirror_mode": {
    "name": "ipython",
    "version": 3
   },
   "file_extension": ".py",
   "mimetype": "text/x-python",
   "name": "python",
   "nbconvert_exporter": "python",
   "pygments_lexer": "ipython3",
   "version": "3.9.8"
  }
 },
 "nbformat": 4,
 "nbformat_minor": 5
}
