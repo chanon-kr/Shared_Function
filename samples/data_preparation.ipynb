{
 "cells": [
  {
   "cell_type": "markdown",
   "id": "compliant-distance",
   "metadata": {},
   "source": [
    "## Set up Raw Data"
   ]
  },
  {
   "cell_type": "code",
   "execution_count": 20,
   "id": "foster-airport",
   "metadata": {},
   "outputs": [
    {
     "data": {
      "text/html": [
       "<div>\n",
       "<style scoped>\n",
       "    .dataframe tbody tr th:only-of-type {\n",
       "        vertical-align: middle;\n",
       "    }\n",
       "\n",
       "    .dataframe tbody tr th {\n",
       "        vertical-align: top;\n",
       "    }\n",
       "\n",
       "    .dataframe thead th {\n",
       "        text-align: right;\n",
       "    }\n",
       "</style>\n",
       "<table border=\"1\" class=\"dataframe\">\n",
       "  <thead>\n",
       "    <tr style=\"text-align: right;\">\n",
       "      <th></th>\n",
       "      <th>col1</th>\n",
       "      <th>col2</th>\n",
       "    </tr>\n",
       "  </thead>\n",
       "  <tbody>\n",
       "    <tr>\n",
       "      <th>0</th>\n",
       "      <td>0</td>\n",
       "      <td>a</td>\n",
       "    </tr>\n",
       "    <tr>\n",
       "      <th>1</th>\n",
       "      <td>1</td>\n",
       "      <td>b</td>\n",
       "    </tr>\n",
       "    <tr>\n",
       "      <th>2</th>\n",
       "      <td>2</td>\n",
       "      <td>c</td>\n",
       "    </tr>\n",
       "    <tr>\n",
       "      <th>3</th>\n",
       "      <td>3</td>\n",
       "      <td>a</td>\n",
       "    </tr>\n",
       "    <tr>\n",
       "      <th>4</th>\n",
       "      <td>4</td>\n",
       "      <td>b</td>\n",
       "    </tr>\n",
       "  </tbody>\n",
       "</table>\n",
       "</div>"
      ],
      "text/plain": [
       "   col1 col2\n",
       "0     0    a\n",
       "1     1    b\n",
       "2     2    c\n",
       "3     3    a\n",
       "4     4    b"
      ]
     },
     "execution_count": 20,
     "metadata": {},
     "output_type": "execute_result"
    }
   ],
   "source": [
    "import pandas as pd\n",
    "import numpy as np\n",
    "\n",
    "df = pd.DataFrame({'col1' : np.arange(7)\n",
    "                   ,'col2' : ['a','b','c','a','b','d','e']})\n",
    "df.head()"
   ]
  },
  {
   "cell_type": "markdown",
   "id": "yellow-shape",
   "metadata": {},
   "source": [
    "## Import Library"
   ]
  },
  {
   "cell_type": "code",
   "execution_count": 21,
   "id": "pursuant-richardson",
   "metadata": {},
   "outputs": [],
   "source": [
    "import py_topping.data_preparation as prep"
   ]
  },
  {
   "cell_type": "markdown",
   "id": "forward-seven",
   "metadata": {},
   "source": [
    "***\n",
    "## Create Lag\n",
    "***"
   ]
  },
  {
   "cell_type": "code",
   "execution_count": null,
   "id": "acute-michael",
   "metadata": {},
   "outputs": [],
   "source": [
    "prep.create_lag(df_in \n",
    "                , col_in \n",
    "                , lag_range \n",
    "                , lag_name = 'lag' \n",
    "                , drop_null = True\n",
    "                , debug = False)"
   ]
  },
  {
   "cell_type": "markdown",
   "id": "boolean-words",
   "metadata": {},
   "source": [
    "### Standard Lagging"
   ]
  },
  {
   "cell_type": "code",
   "execution_count": 23,
   "id": "broad-deficit",
   "metadata": {},
   "outputs": [
    {
     "data": {
      "text/html": [
       "<div>\n",
       "<style scoped>\n",
       "    .dataframe tbody tr th:only-of-type {\n",
       "        vertical-align: middle;\n",
       "    }\n",
       "\n",
       "    .dataframe tbody tr th {\n",
       "        vertical-align: top;\n",
       "    }\n",
       "\n",
       "    .dataframe thead th {\n",
       "        text-align: right;\n",
       "    }\n",
       "</style>\n",
       "<table border=\"1\" class=\"dataframe\">\n",
       "  <thead>\n",
       "    <tr style=\"text-align: right;\">\n",
       "      <th></th>\n",
       "      <th>col1</th>\n",
       "      <th>col2</th>\n",
       "      <th>col1_lag_1</th>\n",
       "      <th>col2_lag_1</th>\n",
       "      <th>col1_lag_2</th>\n",
       "      <th>col2_lag_2</th>\n",
       "    </tr>\n",
       "  </thead>\n",
       "  <tbody>\n",
       "    <tr>\n",
       "      <th>2</th>\n",
       "      <td>2</td>\n",
       "      <td>c</td>\n",
       "      <td>1.0</td>\n",
       "      <td>b</td>\n",
       "      <td>0.0</td>\n",
       "      <td>a</td>\n",
       "    </tr>\n",
       "    <tr>\n",
       "      <th>3</th>\n",
       "      <td>3</td>\n",
       "      <td>a</td>\n",
       "      <td>2.0</td>\n",
       "      <td>c</td>\n",
       "      <td>1.0</td>\n",
       "      <td>b</td>\n",
       "    </tr>\n",
       "    <tr>\n",
       "      <th>4</th>\n",
       "      <td>4</td>\n",
       "      <td>b</td>\n",
       "      <td>3.0</td>\n",
       "      <td>a</td>\n",
       "      <td>2.0</td>\n",
       "      <td>c</td>\n",
       "    </tr>\n",
       "    <tr>\n",
       "      <th>5</th>\n",
       "      <td>5</td>\n",
       "      <td>d</td>\n",
       "      <td>4.0</td>\n",
       "      <td>b</td>\n",
       "      <td>3.0</td>\n",
       "      <td>a</td>\n",
       "    </tr>\n",
       "    <tr>\n",
       "      <th>6</th>\n",
       "      <td>6</td>\n",
       "      <td>e</td>\n",
       "      <td>5.0</td>\n",
       "      <td>d</td>\n",
       "      <td>4.0</td>\n",
       "      <td>b</td>\n",
       "    </tr>\n",
       "  </tbody>\n",
       "</table>\n",
       "</div>"
      ],
      "text/plain": [
       "   col1 col2  col1_lag_1 col2_lag_1  col1_lag_2 col2_lag_2\n",
       "2     2    c         1.0          b         0.0          a\n",
       "3     3    a         2.0          c         1.0          b\n",
       "4     4    b         3.0          a         2.0          c\n",
       "5     5    d         4.0          b         3.0          a\n",
       "6     6    e         5.0          d         4.0          b"
      ]
     },
     "execution_count": 23,
     "metadata": {},
     "output_type": "execute_result"
    }
   ],
   "source": [
    "prep.create_lag(df_in = df \n",
    "                , col_in = ['col1','col2']\n",
    "                , lag_range = 2)"
   ]
  },
  {
   "cell_type": "markdown",
   "id": "legendary-report",
   "metadata": {},
   "source": [
    "### Edit Name"
   ]
  },
  {
   "cell_type": "code",
   "execution_count": 24,
   "id": "attempted-tactics",
   "metadata": {},
   "outputs": [
    {
     "data": {
      "text/html": [
       "<div>\n",
       "<style scoped>\n",
       "    .dataframe tbody tr th:only-of-type {\n",
       "        vertical-align: middle;\n",
       "    }\n",
       "\n",
       "    .dataframe tbody tr th {\n",
       "        vertical-align: top;\n",
       "    }\n",
       "\n",
       "    .dataframe thead th {\n",
       "        text-align: right;\n",
       "    }\n",
       "</style>\n",
       "<table border=\"1\" class=\"dataframe\">\n",
       "  <thead>\n",
       "    <tr style=\"text-align: right;\">\n",
       "      <th></th>\n",
       "      <th>col1</th>\n",
       "      <th>col2</th>\n",
       "      <th>col1_GAG_1</th>\n",
       "      <th>col2_GAG_1</th>\n",
       "      <th>col1_GAG_2</th>\n",
       "      <th>col2_GAG_2</th>\n",
       "    </tr>\n",
       "  </thead>\n",
       "  <tbody>\n",
       "    <tr>\n",
       "      <th>2</th>\n",
       "      <td>2</td>\n",
       "      <td>c</td>\n",
       "      <td>1.0</td>\n",
       "      <td>b</td>\n",
       "      <td>0.0</td>\n",
       "      <td>a</td>\n",
       "    </tr>\n",
       "    <tr>\n",
       "      <th>3</th>\n",
       "      <td>3</td>\n",
       "      <td>a</td>\n",
       "      <td>2.0</td>\n",
       "      <td>c</td>\n",
       "      <td>1.0</td>\n",
       "      <td>b</td>\n",
       "    </tr>\n",
       "    <tr>\n",
       "      <th>4</th>\n",
       "      <td>4</td>\n",
       "      <td>b</td>\n",
       "      <td>3.0</td>\n",
       "      <td>a</td>\n",
       "      <td>2.0</td>\n",
       "      <td>c</td>\n",
       "    </tr>\n",
       "    <tr>\n",
       "      <th>5</th>\n",
       "      <td>5</td>\n",
       "      <td>d</td>\n",
       "      <td>4.0</td>\n",
       "      <td>b</td>\n",
       "      <td>3.0</td>\n",
       "      <td>a</td>\n",
       "    </tr>\n",
       "    <tr>\n",
       "      <th>6</th>\n",
       "      <td>6</td>\n",
       "      <td>e</td>\n",
       "      <td>5.0</td>\n",
       "      <td>d</td>\n",
       "      <td>4.0</td>\n",
       "      <td>b</td>\n",
       "    </tr>\n",
       "  </tbody>\n",
       "</table>\n",
       "</div>"
      ],
      "text/plain": [
       "   col1 col2  col1_GAG_1 col2_GAG_1  col1_GAG_2 col2_GAG_2\n",
       "2     2    c         1.0          b         0.0          a\n",
       "3     3    a         2.0          c         1.0          b\n",
       "4     4    b         3.0          a         2.0          c\n",
       "5     5    d         4.0          b         3.0          a\n",
       "6     6    e         5.0          d         4.0          b"
      ]
     },
     "execution_count": 24,
     "metadata": {},
     "output_type": "execute_result"
    }
   ],
   "source": [
    "prep.create_lag(df_in = df , col_in = ['col1','col2'] , lag_range = 2 \n",
    "                , lag_name = 'GAG' )"
   ]
  },
  {
   "cell_type": "markdown",
   "id": "considerable-combat",
   "metadata": {},
   "source": [
    "### Keep Null Value"
   ]
  },
  {
   "cell_type": "code",
   "execution_count": 25,
   "id": "threatened-sessions",
   "metadata": {},
   "outputs": [
    {
     "data": {
      "text/html": [
       "<div>\n",
       "<style scoped>\n",
       "    .dataframe tbody tr th:only-of-type {\n",
       "        vertical-align: middle;\n",
       "    }\n",
       "\n",
       "    .dataframe tbody tr th {\n",
       "        vertical-align: top;\n",
       "    }\n",
       "\n",
       "    .dataframe thead th {\n",
       "        text-align: right;\n",
       "    }\n",
       "</style>\n",
       "<table border=\"1\" class=\"dataframe\">\n",
       "  <thead>\n",
       "    <tr style=\"text-align: right;\">\n",
       "      <th></th>\n",
       "      <th>col1</th>\n",
       "      <th>col2</th>\n",
       "      <th>col1_lag_1</th>\n",
       "      <th>col2_lag_1</th>\n",
       "      <th>col1_lag_2</th>\n",
       "      <th>col2_lag_2</th>\n",
       "    </tr>\n",
       "  </thead>\n",
       "  <tbody>\n",
       "    <tr>\n",
       "      <th>0</th>\n",
       "      <td>0</td>\n",
       "      <td>a</td>\n",
       "      <td>NaN</td>\n",
       "      <td>NaN</td>\n",
       "      <td>NaN</td>\n",
       "      <td>NaN</td>\n",
       "    </tr>\n",
       "    <tr>\n",
       "      <th>1</th>\n",
       "      <td>1</td>\n",
       "      <td>b</td>\n",
       "      <td>0.0</td>\n",
       "      <td>a</td>\n",
       "      <td>NaN</td>\n",
       "      <td>NaN</td>\n",
       "    </tr>\n",
       "    <tr>\n",
       "      <th>2</th>\n",
       "      <td>2</td>\n",
       "      <td>c</td>\n",
       "      <td>1.0</td>\n",
       "      <td>b</td>\n",
       "      <td>0.0</td>\n",
       "      <td>a</td>\n",
       "    </tr>\n",
       "    <tr>\n",
       "      <th>3</th>\n",
       "      <td>3</td>\n",
       "      <td>a</td>\n",
       "      <td>2.0</td>\n",
       "      <td>c</td>\n",
       "      <td>1.0</td>\n",
       "      <td>b</td>\n",
       "    </tr>\n",
       "    <tr>\n",
       "      <th>4</th>\n",
       "      <td>4</td>\n",
       "      <td>b</td>\n",
       "      <td>3.0</td>\n",
       "      <td>a</td>\n",
       "      <td>2.0</td>\n",
       "      <td>c</td>\n",
       "    </tr>\n",
       "    <tr>\n",
       "      <th>5</th>\n",
       "      <td>5</td>\n",
       "      <td>d</td>\n",
       "      <td>4.0</td>\n",
       "      <td>b</td>\n",
       "      <td>3.0</td>\n",
       "      <td>a</td>\n",
       "    </tr>\n",
       "    <tr>\n",
       "      <th>6</th>\n",
       "      <td>6</td>\n",
       "      <td>e</td>\n",
       "      <td>5.0</td>\n",
       "      <td>d</td>\n",
       "      <td>4.0</td>\n",
       "      <td>b</td>\n",
       "    </tr>\n",
       "  </tbody>\n",
       "</table>\n",
       "</div>"
      ],
      "text/plain": [
       "   col1 col2  col1_lag_1 col2_lag_1  col1_lag_2 col2_lag_2\n",
       "0     0    a         NaN        NaN         NaN        NaN\n",
       "1     1    b         0.0          a         NaN        NaN\n",
       "2     2    c         1.0          b         0.0          a\n",
       "3     3    a         2.0          c         1.0          b\n",
       "4     4    b         3.0          a         2.0          c\n",
       "5     5    d         4.0          b         3.0          a\n",
       "6     6    e         5.0          d         4.0          b"
      ]
     },
     "execution_count": 25,
     "metadata": {},
     "output_type": "execute_result"
    }
   ],
   "source": [
    "prep.create_lag(df_in = df , col_in = ['col1','col2'] , lag_range = 2 \n",
    "                , drop_null = False)"
   ]
  },
  {
   "cell_type": "markdown",
   "id": "entertaining-afternoon",
   "metadata": {},
   "source": [
    "***\n",
    "## Encoder\n",
    "***"
   ]
  },
  {
   "cell_type": "markdown",
   "id": "quality-clark",
   "metadata": {},
   "source": [
    "### Create Encoder"
   ]
  },
  {
   "cell_type": "code",
   "execution_count": null,
   "id": "certified-delicious",
   "metadata": {},
   "outputs": [],
   "source": [
    "prep.create_encoder(df_in \n",
    "                    , col_in\n",
    "                    , folder_in \n",
    "                    , debug = False)"
   ]
  },
  {
   "cell_type": "markdown",
   "id": "waiting-organ",
   "metadata": {},
   "source": [
    "### Encode Column"
   ]
  },
  {
   "cell_type": "code",
   "execution_count": null,
   "id": "southeast-contract",
   "metadata": {},
   "outputs": [],
   "source": [
    "prep.encode_col(df_in \n",
    "                , col_in \n",
    "                , folder_in \n",
    "                , debug = False)"
   ]
  },
  {
   "cell_type": "markdown",
   "id": "technical-preparation",
   "metadata": {},
   "source": [
    "### Decode Column"
   ]
  },
  {
   "cell_type": "code",
   "execution_count": null,
   "id": "foster-tractor",
   "metadata": {},
   "outputs": [],
   "source": [
    "prep.decode_col(df_in \n",
    "                , col_in \n",
    "                , folder_in \n",
    "                , debug = False)"
   ]
  },
  {
   "cell_type": "markdown",
   "id": "adjustable-trainer",
   "metadata": {},
   "source": [
    "### Encoder in Action\n",
    "\n",
    "Row 1 - 3 is train data set<br>\n",
    "Row 4 - 7 is test data set"
   ]
  },
  {
   "cell_type": "code",
   "execution_count": 26,
   "id": "common-denial",
   "metadata": {},
   "outputs": [
    {
     "data": {
      "text/html": [
       "<div>\n",
       "<style scoped>\n",
       "    .dataframe tbody tr th:only-of-type {\n",
       "        vertical-align: middle;\n",
       "    }\n",
       "\n",
       "    .dataframe tbody tr th {\n",
       "        vertical-align: top;\n",
       "    }\n",
       "\n",
       "    .dataframe thead th {\n",
       "        text-align: right;\n",
       "    }\n",
       "</style>\n",
       "<table border=\"1\" class=\"dataframe\">\n",
       "  <thead>\n",
       "    <tr style=\"text-align: right;\">\n",
       "      <th></th>\n",
       "      <th>col1</th>\n",
       "      <th>col2</th>\n",
       "    </tr>\n",
       "  </thead>\n",
       "  <tbody>\n",
       "    <tr>\n",
       "      <th>0</th>\n",
       "      <td>0</td>\n",
       "      <td>a</td>\n",
       "    </tr>\n",
       "    <tr>\n",
       "      <th>1</th>\n",
       "      <td>1</td>\n",
       "      <td>b</td>\n",
       "    </tr>\n",
       "    <tr>\n",
       "      <th>2</th>\n",
       "      <td>2</td>\n",
       "      <td>c</td>\n",
       "    </tr>\n",
       "  </tbody>\n",
       "</table>\n",
       "</div>"
      ],
      "text/plain": [
       "   col1 col2\n",
       "0     0    a\n",
       "1     1    b\n",
       "2     2    c"
      ]
     },
     "execution_count": 26,
     "metadata": {},
     "output_type": "execute_result"
    }
   ],
   "source": [
    "df_train = df.loc[:2]\n",
    "df_train"
   ]
  },
  {
   "cell_type": "code",
   "execution_count": 27,
   "id": "saving-cleanup",
   "metadata": {},
   "outputs": [
    {
     "data": {
      "text/html": [
       "<div>\n",
       "<style scoped>\n",
       "    .dataframe tbody tr th:only-of-type {\n",
       "        vertical-align: middle;\n",
       "    }\n",
       "\n",
       "    .dataframe tbody tr th {\n",
       "        vertical-align: top;\n",
       "    }\n",
       "\n",
       "    .dataframe thead th {\n",
       "        text-align: right;\n",
       "    }\n",
       "</style>\n",
       "<table border=\"1\" class=\"dataframe\">\n",
       "  <thead>\n",
       "    <tr style=\"text-align: right;\">\n",
       "      <th></th>\n",
       "      <th>col1</th>\n",
       "      <th>col2</th>\n",
       "    </tr>\n",
       "  </thead>\n",
       "  <tbody>\n",
       "    <tr>\n",
       "      <th>3</th>\n",
       "      <td>3</td>\n",
       "      <td>a</td>\n",
       "    </tr>\n",
       "    <tr>\n",
       "      <th>4</th>\n",
       "      <td>4</td>\n",
       "      <td>b</td>\n",
       "    </tr>\n",
       "    <tr>\n",
       "      <th>5</th>\n",
       "      <td>5</td>\n",
       "      <td>d</td>\n",
       "    </tr>\n",
       "    <tr>\n",
       "      <th>6</th>\n",
       "      <td>6</td>\n",
       "      <td>e</td>\n",
       "    </tr>\n",
       "  </tbody>\n",
       "</table>\n",
       "</div>"
      ],
      "text/plain": [
       "   col1 col2\n",
       "3     3    a\n",
       "4     4    b\n",
       "5     5    d\n",
       "6     6    e"
      ]
     },
     "execution_count": 27,
     "metadata": {},
     "output_type": "execute_result"
    }
   ],
   "source": [
    "df_test = df.loc[3:]\n",
    "df_test"
   ]
  },
  {
   "cell_type": "markdown",
   "id": "prime-variable",
   "metadata": {},
   "source": [
    "**Create Encoder from train set**"
   ]
  },
  {
   "cell_type": "code",
   "execution_count": 28,
   "id": "regulation-category",
   "metadata": {},
   "outputs": [
    {
     "name": "stdout",
     "output_type": "stream",
     "text": [
      "Created\n"
     ]
    }
   ],
   "source": [
    "prep.create_encoder(df_train\n",
    "                   , col_in = ['col2']\n",
    "                   , folder_in = 'encoder')\n",
    "print('Created')"
   ]
  },
  {
   "cell_type": "markdown",
   "id": "passive-petroleum",
   "metadata": {},
   "source": [
    "Encoder will store sklearn's LaberEncoding Model <br>\n",
    "in folder name \"encoder\" as pkl format"
   ]
  },
  {
   "cell_type": "markdown",
   "id": "limiting-booth",
   "metadata": {},
   "source": [
    "**Transform train set**"
   ]
  },
  {
   "cell_type": "code",
   "execution_count": 29,
   "id": "mighty-desert",
   "metadata": {},
   "outputs": [
    {
     "data": {
      "text/html": [
       "<div>\n",
       "<style scoped>\n",
       "    .dataframe tbody tr th:only-of-type {\n",
       "        vertical-align: middle;\n",
       "    }\n",
       "\n",
       "    .dataframe tbody tr th {\n",
       "        vertical-align: top;\n",
       "    }\n",
       "\n",
       "    .dataframe thead th {\n",
       "        text-align: right;\n",
       "    }\n",
       "</style>\n",
       "<table border=\"1\" class=\"dataframe\">\n",
       "  <thead>\n",
       "    <tr style=\"text-align: right;\">\n",
       "      <th></th>\n",
       "      <th>col1</th>\n",
       "      <th>col2</th>\n",
       "    </tr>\n",
       "  </thead>\n",
       "  <tbody>\n",
       "    <tr>\n",
       "      <th>0</th>\n",
       "      <td>0</td>\n",
       "      <td>0</td>\n",
       "    </tr>\n",
       "    <tr>\n",
       "      <th>1</th>\n",
       "      <td>1</td>\n",
       "      <td>1</td>\n",
       "    </tr>\n",
       "    <tr>\n",
       "      <th>2</th>\n",
       "      <td>2</td>\n",
       "      <td>2</td>\n",
       "    </tr>\n",
       "  </tbody>\n",
       "</table>\n",
       "</div>"
      ],
      "text/plain": [
       "   col1 col2\n",
       "0     0    0\n",
       "1     1    1\n",
       "2     2    2"
      ]
     },
     "execution_count": 29,
     "metadata": {},
     "output_type": "execute_result"
    }
   ],
   "source": [
    "df_train2 = prep.encode_col(df_in = df_train \n",
    "                        , col_in = ['col2']\n",
    "                        , folder_in = 'encoder')\n",
    "df_train2"
   ]
  },
  {
   "cell_type": "markdown",
   "id": "binary-particular",
   "metadata": {},
   "source": [
    "**Decode encoded train set**"
   ]
  },
  {
   "cell_type": "code",
   "execution_count": 30,
   "id": "cheap-contest",
   "metadata": {},
   "outputs": [
    {
     "data": {
      "text/html": [
       "<div>\n",
       "<style scoped>\n",
       "    .dataframe tbody tr th:only-of-type {\n",
       "        vertical-align: middle;\n",
       "    }\n",
       "\n",
       "    .dataframe tbody tr th {\n",
       "        vertical-align: top;\n",
       "    }\n",
       "\n",
       "    .dataframe thead th {\n",
       "        text-align: right;\n",
       "    }\n",
       "</style>\n",
       "<table border=\"1\" class=\"dataframe\">\n",
       "  <thead>\n",
       "    <tr style=\"text-align: right;\">\n",
       "      <th></th>\n",
       "      <th>col1</th>\n",
       "      <th>col2</th>\n",
       "    </tr>\n",
       "  </thead>\n",
       "  <tbody>\n",
       "    <tr>\n",
       "      <th>0</th>\n",
       "      <td>0</td>\n",
       "      <td>a</td>\n",
       "    </tr>\n",
       "    <tr>\n",
       "      <th>1</th>\n",
       "      <td>1</td>\n",
       "      <td>b</td>\n",
       "    </tr>\n",
       "    <tr>\n",
       "      <th>2</th>\n",
       "      <td>2</td>\n",
       "      <td>c</td>\n",
       "    </tr>\n",
       "  </tbody>\n",
       "</table>\n",
       "</div>"
      ],
      "text/plain": [
       "   col1 col2\n",
       "0     0    a\n",
       "1     1    b\n",
       "2     2    c"
      ]
     },
     "execution_count": 30,
     "metadata": {},
     "output_type": "execute_result"
    }
   ],
   "source": [
    "prep.decode_col(df_in = df_train2 \n",
    "                , col_in = ['col2']\n",
    "                , folder_in = 'encoder')"
   ]
  },
  {
   "cell_type": "markdown",
   "id": "stupid-empty",
   "metadata": {},
   "source": [
    "**Transform test set** <br>\n",
    "Noted that test set has \"d\" and \"e\" that not in train set"
   ]
  },
  {
   "cell_type": "code",
   "execution_count": 34,
   "id": "backed-thomas",
   "metadata": {},
   "outputs": [
    {
     "data": {
      "text/html": [
       "<div>\n",
       "<style scoped>\n",
       "    .dataframe tbody tr th:only-of-type {\n",
       "        vertical-align: middle;\n",
       "    }\n",
       "\n",
       "    .dataframe tbody tr th {\n",
       "        vertical-align: top;\n",
       "    }\n",
       "\n",
       "    .dataframe thead th {\n",
       "        text-align: right;\n",
       "    }\n",
       "</style>\n",
       "<table border=\"1\" class=\"dataframe\">\n",
       "  <thead>\n",
       "    <tr style=\"text-align: right;\">\n",
       "      <th></th>\n",
       "      <th>col1</th>\n",
       "      <th>col2</th>\n",
       "    </tr>\n",
       "  </thead>\n",
       "  <tbody>\n",
       "    <tr>\n",
       "      <th>3</th>\n",
       "      <td>3</td>\n",
       "      <td>0</td>\n",
       "    </tr>\n",
       "    <tr>\n",
       "      <th>4</th>\n",
       "      <td>4</td>\n",
       "      <td>1</td>\n",
       "    </tr>\n",
       "    <tr>\n",
       "      <th>5</th>\n",
       "      <td>5</td>\n",
       "      <td>3</td>\n",
       "    </tr>\n",
       "    <tr>\n",
       "      <th>6</th>\n",
       "      <td>6</td>\n",
       "      <td>3</td>\n",
       "    </tr>\n",
       "  </tbody>\n",
       "</table>\n",
       "</div>"
      ],
      "text/plain": [
       "   col1  col2\n",
       "3     3     0\n",
       "4     4     1\n",
       "5     5     3\n",
       "6     6     3"
      ]
     },
     "execution_count": 34,
     "metadata": {},
     "output_type": "execute_result"
    }
   ],
   "source": [
    "df_test2 = prep.encode_col(df_in = df_test\n",
    "                        , col_in = ['col2']\n",
    "                        , folder_in = 'encoder')\n",
    "df_test2"
   ]
  },
  {
   "cell_type": "markdown",
   "id": "civilian-treat",
   "metadata": {},
   "source": [
    "encode_col will automatic use max number + 1 for data that never seen before\n",
    "<br><br><br>\n",
    "**Decode encoded test set**<br>\n",
    "Noted that encoded test set has \"3\" which is not in train set"
   ]
  },
  {
   "cell_type": "code",
   "execution_count": 35,
   "id": "european-mongolia",
   "metadata": {},
   "outputs": [
    {
     "data": {
      "text/html": [
       "<div>\n",
       "<style scoped>\n",
       "    .dataframe tbody tr th:only-of-type {\n",
       "        vertical-align: middle;\n",
       "    }\n",
       "\n",
       "    .dataframe tbody tr th {\n",
       "        vertical-align: top;\n",
       "    }\n",
       "\n",
       "    .dataframe thead th {\n",
       "        text-align: right;\n",
       "    }\n",
       "</style>\n",
       "<table border=\"1\" class=\"dataframe\">\n",
       "  <thead>\n",
       "    <tr style=\"text-align: right;\">\n",
       "      <th></th>\n",
       "      <th>col1</th>\n",
       "      <th>col2</th>\n",
       "    </tr>\n",
       "  </thead>\n",
       "  <tbody>\n",
       "    <tr>\n",
       "      <th>3</th>\n",
       "      <td>3</td>\n",
       "      <td>a</td>\n",
       "    </tr>\n",
       "    <tr>\n",
       "      <th>4</th>\n",
       "      <td>4</td>\n",
       "      <td>b</td>\n",
       "    </tr>\n",
       "    <tr>\n",
       "      <th>5</th>\n",
       "      <td>5</td>\n",
       "      <td>unknown</td>\n",
       "    </tr>\n",
       "    <tr>\n",
       "      <th>6</th>\n",
       "      <td>6</td>\n",
       "      <td>unknown</td>\n",
       "    </tr>\n",
       "  </tbody>\n",
       "</table>\n",
       "</div>"
      ],
      "text/plain": [
       "   col1     col2\n",
       "3     3        a\n",
       "4     4        b\n",
       "5     5  unknown\n",
       "6     6  unknown"
      ]
     },
     "execution_count": 35,
     "metadata": {},
     "output_type": "execute_result"
    }
   ],
   "source": [
    "prep.decode_col(df_in = df_test2\n",
    "                , col_in = ['col2']\n",
    "                , folder_in = 'encoder')"
   ]
  },
  {
   "cell_type": "markdown",
   "id": "latin-might",
   "metadata": {},
   "source": [
    "Decode will automatic decode \"3\" that not in train set as \"unknown\""
   ]
  }
 ],
 "metadata": {
  "kernelspec": {
   "display_name": "Python 3",
   "language": "python",
   "name": "python3"
  },
  "language_info": {
   "codemirror_mode": {
    "name": "ipython",
    "version": 3
   },
   "file_extension": ".py",
   "mimetype": "text/x-python",
   "name": "python",
   "nbconvert_exporter": "python",
   "pygments_lexer": "ipython3",
   "version": "3.7.6"
  }
 },
 "nbformat": 4,
 "nbformat_minor": 5
}
