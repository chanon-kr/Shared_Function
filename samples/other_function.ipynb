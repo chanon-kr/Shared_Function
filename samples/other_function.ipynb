{
 "cells": [
  {
   "cell_type": "markdown",
   "id": "champion-popularity",
   "metadata": {},
   "source": [
    "# This Notebook is for small functions\n",
    "\n",
    "I created these to solve small but **very annoying problems**"
   ]
  },
  {
   "cell_type": "code",
   "execution_count": 1,
   "id": "earned-career",
   "metadata": {},
   "outputs": [],
   "source": [
    "import pandas as pd"
   ]
  },
  {
   "cell_type": "markdown",
   "id": "unavailable-grocery",
   "metadata": {},
   "source": [
    "## log_csv\n",
    "\n",
    "Just log something into csv file"
   ]
  },
  {
   "cell_type": "code",
   "execution_count": 2,
   "id": "consecutive-rouge",
   "metadata": {},
   "outputs": [
    {
     "data": {
      "text/html": [
       "<div>\n",
       "<style scoped>\n",
       "    .dataframe tbody tr th:only-of-type {\n",
       "        vertical-align: middle;\n",
       "    }\n",
       "\n",
       "    .dataframe tbody tr th {\n",
       "        vertical-align: top;\n",
       "    }\n",
       "\n",
       "    .dataframe thead th {\n",
       "        text-align: right;\n",
       "    }\n",
       "</style>\n",
       "<table border=\"1\" class=\"dataframe\">\n",
       "  <thead>\n",
       "    <tr style=\"text-align: right;\">\n",
       "      <th></th>\n",
       "      <th>Timestamp</th>\n",
       "      <th>msg</th>\n",
       "    </tr>\n",
       "  </thead>\n",
       "  <tbody>\n",
       "    <tr>\n",
       "      <th>0</th>\n",
       "      <td>2021-02-14 14:41:00.192798</td>\n",
       "      <td>Hello World</td>\n",
       "    </tr>\n",
       "    <tr>\n",
       "      <th>1</th>\n",
       "      <td>2021-02-14 14:41:00.193795</td>\n",
       "      <td>Bye World</td>\n",
       "    </tr>\n",
       "  </tbody>\n",
       "</table>\n",
       "</div>"
      ],
      "text/plain": [
       "                    Timestamp          msg\n",
       "0  2021-02-14 14:41:00.192798  Hello World\n",
       "1  2021-02-14 14:41:00.193795    Bye World"
      ]
     },
     "execution_count": 2,
     "metadata": {},
     "output_type": "execute_result"
    }
   ],
   "source": [
    "from py_topping.general_use import log_csv\n",
    "log_csv('test_log_csv.csv','Hello World')\n",
    "log_csv('test_log_csv.csv','Bye World')\n",
    "pd.read_csv('test_log_csv.csv')"
   ]
  },
  {
   "cell_type": "markdown",
   "id": "demographic-arthritis",
   "metadata": {},
   "source": [
    "## check_port\n",
    "Just test port status"
   ]
  },
  {
   "cell_type": "code",
   "execution_count": 4,
   "id": "injured-miller",
   "metadata": {},
   "outputs": [
    {
     "name": "stdout",
     "output_type": "stream",
     "text": [
      "Port is open\n"
     ]
    }
   ],
   "source": [
    "from py_topping.general_use import check_port\n",
    "check_port('google.com', port = 80)"
   ]
  },
  {
   "cell_type": "markdown",
   "id": "pursuant-dietary",
   "metadata": {},
   "source": [
    "You can also leave the parameter for manual input"
   ]
  },
  {
   "cell_type": "code",
   "execution_count": 5,
   "id": "surrounded-chaos",
   "metadata": {},
   "outputs": [
    {
     "name": "stdout",
     "output_type": "stream",
     "text": [
      "Please Input IP :google.com\n",
      "Please Input port :80\n",
      "Port is open\n"
     ]
    }
   ],
   "source": [
    "check_port()"
   ]
  },
  {
   "cell_type": "markdown",
   "id": "excessive-invention",
   "metadata": {},
   "source": [
    "## check_utc\n",
    "Just return Diff hour of (Desired Timezone) - (environment's time)<br>\n",
    "Owner's test environment is in UTC+7"
   ]
  },
  {
   "cell_type": "code",
   "execution_count": 6,
   "id": "smart-rendering",
   "metadata": {},
   "outputs": [
    {
     "data": {
      "text/plain": [
       "-7"
      ]
     },
     "execution_count": 6,
     "metadata": {},
     "output_type": "execute_result"
    }
   ],
   "source": [
    "from py_topping.general_use import check_utc\n",
    "check_utc(0)"
   ]
  },
  {
   "cell_type": "markdown",
   "id": "4cd86456",
   "metadata": {},
   "source": [
    "## healthcheck\n",
    "\n",
    "Just return dict of your machine status, include\n",
    " - machine's name\n",
    " - machine's ip\n",
    " - cpu use\n",
    " - ram use\n",
    " - rom use"
   ]
  },
  {
   "cell_type": "code",
   "execution_count": 4,
   "id": "41e34d50",
   "metadata": {},
   "outputs": [
    {
     "data": {
      "text/plain": [
       "{'hostname': [''],\n",
       " 'hostip': [''],\n",
       " 'cpu_use': [0.8],\n",
       " 'ram_use': [63.8],\n",
       " 'rom_use': [23.4]}"
      ]
     },
     "execution_count": 4,
     "metadata": {},
     "output_type": "execute_result"
    }
   ],
   "source": [
    "from py_topping.general_use import healthcheck\n",
    "\n",
    "health = healthcheck()\n",
    "health['hostname'], health['hostip'] = [''] , [''] # delete my machine name\n",
    "health"
   ]
  },
  {
   "cell_type": "markdown",
   "id": "2f8e1556",
   "metadata": {},
   "source": [
    "# timeout\n",
    "\n",
    "Set timeout for your python fuction,<br>\n",
    "refer from this link : https://stackoverflow.com/questions/21827874/timeout-a-function-windows \n",
    "\n",
    "**Not working with IPython like Jupyter / Spyder**"
   ]
  },
  {
   "cell_type": "code",
   "execution_count": 2,
   "id": "25e38203",
   "metadata": {},
   "outputs": [
    {
     "name": "stdout",
     "output_type": "stream",
     "text": [
      "0\n",
      "1\n",
      "timeout\n"
     ]
    }
   ],
   "source": [
    "from py_topping.general_use import timeout\n",
    "import time\n",
    "\n",
    "def My_Function() :\n",
    "    for i in range(5) :\n",
    "        time.sleep(1)\n",
    "        print(i)\n",
    "\n",
    "func = timeout(timeout=2)(My_Function)\n",
    "try: func()\n",
    "except: print('timeout')"
   ]
  },
  {
   "cell_type": "code",
   "execution_count": null,
   "id": "191bd2f7",
   "metadata": {},
   "outputs": [],
   "source": [
    "# Use as decoration\n",
    "@timeout(2)\n",
    "def My_Function() :\n",
    "    for i in range(5) :\n",
    "        time.sleep(1)\n",
    "        print(i)\n",
    "\n",
    "try: My_Function()\n",
    "except: print('timeout')"
   ]
  },
  {
   "cell_type": "markdown",
   "id": "adbaeb64",
   "metadata": {},
   "source": [
    "## Random Text\n",
    "Create random text 'n' characters"
   ]
  },
  {
   "cell_type": "code",
   "execution_count": 1,
   "id": "85364809",
   "metadata": {},
   "outputs": [
    {
     "data": {
      "text/plain": [
       "'HpLZ8l6mdeSwg24'"
      ]
     },
     "execution_count": 1,
     "metadata": {},
     "output_type": "execute_result"
    }
   ],
   "source": [
    "from py_topping.general_use import random_text\n",
    "\n",
    "random_text(15)"
   ]
  }
 ],
 "metadata": {
  "kernelspec": {
   "display_name": "Python 3 (ipykernel)",
   "language": "python",
   "name": "python3"
  },
  "language_info": {
   "codemirror_mode": {
    "name": "ipython",
    "version": 3
   },
   "file_extension": ".py",
   "mimetype": "text/x-python",
   "name": "python",
   "nbconvert_exporter": "python",
   "pygments_lexer": "ipython3",
   "version": "3.9.8"
  }
 },
 "nbformat": 4,
 "nbformat_minor": 5
}
