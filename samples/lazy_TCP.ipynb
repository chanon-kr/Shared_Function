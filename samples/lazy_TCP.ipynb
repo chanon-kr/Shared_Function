{
 "cells": [
  {
   "cell_type": "markdown",
   "metadata": {},
   "source": [
    "# Load Required Library"
   ]
  },
  {
   "cell_type": "code",
   "execution_count": null,
   "metadata": {},
   "outputs": [],
   "source": [
    "from py_topping.data_connection.socket import lazy_TCP"
   ]
  },
  {
   "cell_type": "markdown",
   "metadata": {},
   "source": [
    "## Server"
   ]
  },
  {
   "cell_type": "code",
   "execution_count": null,
   "metadata": {},
   "outputs": [],
   "source": [
    "# Initial Object\n",
    "listener = lazy_TCP('{Your IP}', '{Your Port}')\n",
    "# Listen to Client\n",
    "receive = listener.listen(debug = True)"
   ]
  },
  {
   "cell_type": "markdown",
   "metadata": {},
   "source": [
    "## Client"
   ]
  },
  {
   "cell_type": "code",
   "execution_count": null,
   "metadata": {},
   "outputs": [],
   "source": [
    "# Initial Object\n",
    "sender = lazy_TCP('{Your IP}', '{Your Port}')\n",
    "# Send to Server\n",
    "sender.send(\"Text Data\")"
   ]
  }
 ],
 "metadata": {
  "kernelspec": {
   "display_name": "Python 3.9.8 64-bit ('main': venv)",
   "language": "python",
   "name": "python3"
  },
  "language_info": {
   "name": "python",
   "version": "3.9.8"
  },
  "orig_nbformat": 4,
  "vscode": {
   "interpreter": {
    "hash": "de9f1e98d91541ea8e14294afe2cc1370eef7c1892b96b8ead4ce41ab544dcec"
   }
  }
 },
 "nbformat": 4,
 "nbformat_minor": 2
}
