{
 "cells": [
  {
   "cell_type": "code",
   "execution_count": 1,
   "id": "chronic-batman",
   "metadata": {},
   "outputs": [],
   "source": [
    "from py_topping.data_preparation.lazy_ml import lazy_dnn"
   ]
  },
  {
   "cell_type": "code",
   "execution_count": null,
   "id": "young-leone",
   "metadata": {},
   "outputs": [],
   "source": [
    "lazy_dnn(train_in \n",
    "        , target_in\n",
    "        , num_col_in = []\n",
    "        , cat_col_in = [] \n",
    "        , node_in = [16,4]\n",
    "        , val_in = None \n",
    "        , train_batch = 10 \n",
    "        , val_batch = 10 \n",
    "        , epochs = 10 \n",
    "        , normalize = True\n",
    "        , embedded_size = 16 \n",
    "        , drop_out_ratio = 0.1\n",
    "        , patience_in = 10\n",
    "        , amplify_in = 1\n",
    "        , optimize_in = 'adam'\n",
    "        , loss_in = 'mse' \n",
    "        , debug = False) "
   ]
  },
  {
   "cell_type": "markdown",
   "id": "solar-fifth",
   "metadata": {},
   "source": [
    "### List of Parameter\n",
    " - **train_in** : Training Dataset (Pandas DataFrame)\n",
    " - **target_in** : Name of Target Prediction (String)\n",
    " - **num_col_in** : List of Columns' name for numeric feature (List)\n",
    " - **cat_col_in**  : List of Columns' name for categorical feature (List)\n",
    " - **node_in** : List of Neural Network Node and Layer (List)\n",
    " - **val_in** : Validate Dataset (Pandas DataFrame)\n",
    " - **train_batch** : Number observations to training per batch (Integer)\n",
    " - **val_batch** : Number observations to validate per batch (Integer)\n",
    " - **epochs** : Number of Iteration during the training (Integer)\n",
    " - **normalize** : To normalize Numeric or not (Boolean)\n",
    " - **embedded_size** : Size of Embedded Layer for Categorical Columns (Integer)\n",
    " - **drop_out_ratio** : Percentage of Node that will Drop for Categorical's Embedded Layer (Float)\n",
    " - **patience_in** : Number of Iteration that model allow if the loss not improve (Integer)\n",
    " - **amplify_in** : Amplify during the Last DNN Layer (Float)\n",
    " - **optimize_in** : TF's Optimizer that will use during the Training (String)\n",
    " - **loss_in** : TF's Loss that will use during the Training (String)\n",
    " - **debug** : To show Model's Summary Structure & Learning Curve or not (Boolean)\n",
    "\n",
    "**Return** : Tensorflow's Sequential Model"
   ]
  },
  {
   "cell_type": "markdown",
   "id": "nominated-heavy",
   "metadata": {},
   "source": [
    "# Sample DataFrame"
   ]
  },
  {
   "cell_type": "code",
   "execution_count": 24,
   "id": "original-peter",
   "metadata": {},
   "outputs": [
    {
     "data": {
      "text/html": [
       "<div>\n",
       "<style scoped>\n",
       "    .dataframe tbody tr th:only-of-type {\n",
       "        vertical-align: middle;\n",
       "    }\n",
       "\n",
       "    .dataframe tbody tr th {\n",
       "        vertical-align: top;\n",
       "    }\n",
       "\n",
       "    .dataframe thead th {\n",
       "        text-align: right;\n",
       "    }\n",
       "</style>\n",
       "<table border=\"1\" class=\"dataframe\">\n",
       "  <thead>\n",
       "    <tr style=\"text-align: right;\">\n",
       "      <th></th>\n",
       "      <th>num1</th>\n",
       "      <th>num2</th>\n",
       "      <th>cat1</th>\n",
       "      <th>num3</th>\n",
       "    </tr>\n",
       "  </thead>\n",
       "  <tbody>\n",
       "    <tr>\n",
       "      <th>0</th>\n",
       "      <td>0</td>\n",
       "      <td>0.608655</td>\n",
       "      <td>2</td>\n",
       "      <td>0</td>\n",
       "    </tr>\n",
       "    <tr>\n",
       "      <th>1</th>\n",
       "      <td>1</td>\n",
       "      <td>0.910253</td>\n",
       "      <td>0</td>\n",
       "      <td>2</td>\n",
       "    </tr>\n",
       "    <tr>\n",
       "      <th>2</th>\n",
       "      <td>2</td>\n",
       "      <td>0.277642</td>\n",
       "      <td>1</td>\n",
       "      <td>40</td>\n",
       "    </tr>\n",
       "    <tr>\n",
       "      <th>3</th>\n",
       "      <td>3</td>\n",
       "      <td>0.449658</td>\n",
       "      <td>0</td>\n",
       "      <td>6</td>\n",
       "    </tr>\n",
       "    <tr>\n",
       "      <th>4</th>\n",
       "      <td>4</td>\n",
       "      <td>0.317019</td>\n",
       "      <td>0</td>\n",
       "      <td>8</td>\n",
       "    </tr>\n",
       "  </tbody>\n",
       "</table>\n",
       "</div>"
      ],
      "text/plain": [
       "   num1      num2  cat1  num3\n",
       "0     0  0.608655     2     0\n",
       "1     1  0.910253     0     2\n",
       "2     2  0.277642     1    40\n",
       "3     3  0.449658     0     6\n",
       "4     4  0.317019     0     8"
      ]
     },
     "execution_count": 24,
     "metadata": {},
     "output_type": "execute_result"
    }
   ],
   "source": [
    "import pandas as pd\n",
    "import numpy as np\n",
    "\n",
    "train = pd.DataFrame({'num1' : range(0,100), 'num2' : np.random.rand(100), 'cat1' : np.random.randint(3 , size=100)})\n",
    "train['num3'] = train['num1']*np.where(train['cat1'] == 1, 20, train['cat1'] + 2)\n",
    "val = pd.DataFrame({'num1' : range(0,100), 'num2' : np.random.rand(100), 'cat1' : np.random.randint(3 , size=100)})\n",
    "val['num3'] = val['num1']*np.where(val['cat1'] == 1, 20, val['cat1'] + 2)\n",
    "test = pd.DataFrame({'num1' : range(0,20), 'num2' : np.random.rand(20), 'cat1' : np.random.randint(3 , size=20)})\n",
    "test['num3'] = test['num1']*np.where(test['cat1'] == 1, 20, test['cat1'] + 2)\n",
    "train.head(5)"
   ]
  },
  {
   "cell_type": "markdown",
   "id": "grave-consumer",
   "metadata": {},
   "source": [
    "# Training Phase\n",
    "\n",
    "\n",
    "1. Basic Train With 1 numeric Feature"
   ]
  },
  {
   "cell_type": "code",
   "execution_count": 25,
   "id": "seven-money",
   "metadata": {},
   "outputs": [
    {
     "name": "stdout",
     "output_type": "stream",
     "text": [
      "Epoch 1/10\n"
     ]
    },
    {
     "name": "stderr",
     "output_type": "stream",
     "text": [
      "C:\\Users\\chanonkr\\Anaconda3\\lib\\site-packages\\tensorflow\\python\\keras\\engine\\functional.py:595: UserWarning: Input dict contained keys ['num2', 'cat1', 'num3'] which did not match any model input. They will be ignored by the model.\n",
      "  [n for n in tensors.keys() if n not in ref_input_names])\n"
     ]
    },
    {
     "name": "stdout",
     "output_type": "stream",
     "text": [
      "10/10 [==============================] - 0s 1ms/step - loss: 447555.0369\n",
      "Epoch 2/10\n",
      "10/10 [==============================] - 0s 1ms/step - loss: 551230.1989\n",
      "Epoch 3/10\n",
      "10/10 [==============================] - 0s 1ms/step - loss: 555699.6307\n",
      "Epoch 4/10\n",
      "10/10 [==============================] - 0s 1ms/step - loss: 454076.8168\n",
      "Epoch 5/10\n",
      "10/10 [==============================] - 0s 1ms/step - loss: 402927.7628\n",
      "Epoch 6/10\n",
      "10/10 [==============================] - 0s 1ms/step - loss: 458882.7415\n",
      "Epoch 7/10\n",
      "10/10 [==============================] - 0s 1ms/step - loss: 342204.4531\n",
      "Epoch 8/10\n",
      "10/10 [==============================] - 0s 1ms/step - loss: 469735.6648\n",
      "Epoch 9/10\n",
      "10/10 [==============================] - 0s 997us/step - loss: 659096.1932\n",
      "Epoch 10/10\n",
      "10/10 [==============================] - 0s 1ms/step - loss: 466459.0767\n"
     ]
    }
   ],
   "source": [
    "model = lazy_dnn(train_in = train\n",
    "                , target_in = 'num3'\n",
    "                , num_col_in = ['num1']) "
   ]
  },
  {
   "cell_type": "markdown",
   "id": "operating-internet",
   "metadata": {},
   "source": [
    "2. Basic Train With 1 numeric Feature and 1 categorical Feature"
   ]
  },
  {
   "cell_type": "code",
   "execution_count": 26,
   "id": "grand-minimum",
   "metadata": {},
   "outputs": [
    {
     "name": "stdout",
     "output_type": "stream",
     "text": [
      "Epoch 1/10\n"
     ]
    },
    {
     "name": "stderr",
     "output_type": "stream",
     "text": [
      "C:\\Users\\chanonkr\\Anaconda3\\lib\\site-packages\\tensorflow\\python\\keras\\engine\\functional.py:595: UserWarning: Input dict contained keys ['num2', 'num3'] which did not match any model input. They will be ignored by the model.\n",
      "  [n for n in tensors.keys() if n not in ref_input_names])\n"
     ]
    },
    {
     "name": "stdout",
     "output_type": "stream",
     "text": [
      "10/10 [==============================] - 0s 1ms/step - loss: 514175.5568\n",
      "Epoch 2/10\n",
      "10/10 [==============================] - 0s 886us/step - loss: 594691.4375\n",
      "Epoch 3/10\n",
      "10/10 [==============================] - 0s 997us/step - loss: 422683.3878\n",
      "Epoch 4/10\n",
      "10/10 [==============================] - 0s 997us/step - loss: 407356.7557\n",
      "Epoch 5/10\n",
      "10/10 [==============================] - 0s 848us/step - loss: 524886.4574\n",
      "Epoch 6/10\n",
      "10/10 [==============================] - 0s 887us/step - loss: 351896.0447\n",
      "Epoch 7/10\n",
      "10/10 [==============================] - 0s 887us/step - loss: 369724.3970\n",
      "Epoch 8/10\n",
      "10/10 [==============================] - 0s 998us/step - loss: 559196.9261\n",
      "Epoch 9/10\n",
      "10/10 [==============================] - 0s 1ms/step - loss: 605726.4886\n",
      "Epoch 10/10\n",
      "10/10 [==============================] - 0s 1ms/step - loss: 452462.5653\n"
     ]
    }
   ],
   "source": [
    "model = lazy_dnn(train_in = train\n",
    "                , target_in = 'num3'\n",
    "                , num_col_in = ['num1']\n",
    "                , cat_col_in = ['cat1']) "
   ]
  },
  {
   "cell_type": "markdown",
   "id": "featured-ribbon",
   "metadata": {},
   "source": [
    "3. Basic Train With 2 numeric Feature and 1 categorical Feature"
   ]
  },
  {
   "cell_type": "code",
   "execution_count": 27,
   "id": "wired-accountability",
   "metadata": {},
   "outputs": [
    {
     "name": "stdout",
     "output_type": "stream",
     "text": [
      "Epoch 1/10\n"
     ]
    },
    {
     "name": "stderr",
     "output_type": "stream",
     "text": [
      "C:\\Users\\chanonkr\\Anaconda3\\lib\\site-packages\\tensorflow\\python\\keras\\engine\\functional.py:595: UserWarning: Input dict contained keys ['num3'] which did not match any model input. They will be ignored by the model.\n",
      "  [n for n in tensors.keys() if n not in ref_input_names])\n"
     ]
    },
    {
     "name": "stdout",
     "output_type": "stream",
     "text": [
      "10/10 [==============================] - 1s 1ms/step - loss: 392294.9105\n",
      "Epoch 2/10\n",
      "10/10 [==============================] - 0s 1ms/step - loss: 469208.7614\n",
      "Epoch 3/10\n",
      "10/10 [==============================] - 0s 1ms/step - loss: 532843.1761\n",
      "Epoch 4/10\n",
      "10/10 [==============================] - 0s 1ms/step - loss: 470622.0966\n",
      "Epoch 5/10\n",
      "10/10 [==============================] - 0s 997us/step - loss: 442711.5625\n",
      "Epoch 6/10\n",
      "10/10 [==============================] - 0s 1ms/step - loss: 498885.1136\n",
      "Epoch 7/10\n",
      "10/10 [==============================] - 0s 997us/step - loss: 483865.0739\n",
      "Epoch 8/10\n",
      "10/10 [==============================] - 0s 1ms/step - loss: 428738.5455\n",
      "Epoch 9/10\n",
      "10/10 [==============================] - 0s 1ms/step - loss: 455557.1619\n",
      "Epoch 10/10\n",
      "10/10 [==============================] - 0s 994us/step - loss: 458217.5142\n"
     ]
    }
   ],
   "source": [
    "model = lazy_dnn(train_in = train\n",
    "                , target_in = 'num3'\n",
    "                , num_col_in = ['num1','num2']\n",
    "                , cat_col_in = ['cat1']) "
   ]
  },
  {
   "cell_type": "markdown",
   "id": "eight-nutrition",
   "metadata": {},
   "source": [
    "4. Show Model Summary and Curve"
   ]
  },
  {
   "cell_type": "code",
   "execution_count": 28,
   "id": "normal-championship",
   "metadata": {},
   "outputs": [
    {
     "name": "stdout",
     "output_type": "stream",
     "text": [
      "Model: \"model_16\"\n",
      "__________________________________________________________________________________________________\n",
      "Layer (type)                    Output Shape         Param #     Connected to                     \n",
      "==================================================================================================\n",
      "cat1 (InputLayer)               [(None, 1)]          0                                            \n",
      "__________________________________________________________________________________________________\n",
      "cat1_embedding (Embedding)      (None, 1, 16)        64          cat1[0][0]                       \n",
      "__________________________________________________________________________________________________\n",
      "num1 (InputLayer)               [(None, 1)]          0                                            \n",
      "__________________________________________________________________________________________________\n",
      "num2 (InputLayer)               [(None, 1)]          0                                            \n",
      "__________________________________________________________________________________________________\n",
      "dropout_11 (Dropout)            (None, 1, 16)        0           cat1_embedding[0][0]             \n",
      "__________________________________________________________________________________________________\n",
      "num1_normalize (BatchNormalizat (None, 1)            4           num1[0][0]                       \n",
      "__________________________________________________________________________________________________\n",
      "num2_normalize (BatchNormalizat (None, 1)            4           num2[0][0]                       \n",
      "__________________________________________________________________________________________________\n",
      "flatten_11 (Flatten)            (None, 16)           0           dropout_11[0][0]                 \n",
      "__________________________________________________________________________________________________\n",
      "concatenate_11 (Concatenate)    (None, 18)           0           num1_normalize[0][0]             \n",
      "                                                                 num2_normalize[0][0]             \n",
      "                                                                 flatten_11[0][0]                 \n",
      "__________________________________________________________________________________________________\n",
      "dense_49 (Dense)                (None, 16)           304         concatenate_11[0][0]             \n",
      "__________________________________________________________________________________________________\n",
      "dense_50 (Dense)                (None, 4)            68          dense_49[0][0]                   \n",
      "__________________________________________________________________________________________________\n",
      "dense_51 (Dense)                (None, 1)            5           dense_50[0][0]                   \n",
      "__________________________________________________________________________________________________\n",
      "lambda_16 (Lambda)              (None, 1)            0           dense_51[0][0]                   \n",
      "==================================================================================================\n",
      "Total params: 449\n",
      "Trainable params: 445\n",
      "Non-trainable params: 4\n",
      "__________________________________________________________________________________________________\n",
      "None\n",
      "Epoch 1/10\n",
      "10/10 [==============================] - 0s 997us/step - loss: 453625.4489\n",
      "Epoch 2/10\n",
      "10/10 [==============================] - 0s 1ms/step - loss: 463605.7869\n",
      "Epoch 3/10\n",
      "10/10 [==============================] - 0s 1ms/step - loss: 488565.5369\n",
      "Epoch 4/10\n",
      "10/10 [==============================] - 0s 997us/step - loss: 505112.2188\n",
      "Epoch 5/10\n",
      "10/10 [==============================] - 0s 1ms/step - loss: 555609.0256\n",
      "Epoch 6/10\n",
      "10/10 [==============================] - 0s 1ms/step - loss: 356557.1974\n",
      "Epoch 7/10\n",
      "10/10 [==============================] - 0s 1ms/step - loss: 443880.9762\n",
      "Epoch 8/10\n",
      "10/10 [==============================] - 0s 1ms/step - loss: 441283.3040\n",
      "Epoch 9/10\n",
      "10/10 [==============================] - 0s 997us/step - loss: 412136.8622\n",
      "Epoch 10/10\n",
      "10/10 [==============================] - 0s 997us/step - loss: 508539.2557\n"
     ]
    },
    {
     "data": {
      "image/png": "[encoded data removed]",
      "text/plain": [
       "<Figure size 720x432 with 1 Axes>"
      ]
     },
     "metadata": {
      "needs_background": "light"
     },
     "output_type": "display_data"
    }
   ],
   "source": [
    "model = lazy_dnn(train_in = train\n",
    "                , target_in = 'num3'\n",
    "                , num_col_in = ['num1','num2']\n",
    "                , cat_col_in = ['cat1']\n",
    "                , debug = True) "
   ]
  },
  {
   "cell_type": "markdown",
   "id": "interracial-sudan",
   "metadata": {},
   "source": [
    "5. Training With Validate Data Set"
   ]
  },
  {
   "cell_type": "code",
   "execution_count": 29,
   "id": "composite-error",
   "metadata": {},
   "outputs": [
    {
     "name": "stdout",
     "output_type": "stream",
     "text": [
      "Model: \"model_17\"\n",
      "__________________________________________________________________________________________________\n",
      "Layer (type)                    Output Shape         Param #     Connected to                     \n",
      "==================================================================================================\n",
      "cat1 (InputLayer)               [(None, 1)]          0                                            \n",
      "__________________________________________________________________________________________________\n",
      "cat1_embedding (Embedding)      (None, 1, 16)        64          cat1[0][0]                       \n",
      "__________________________________________________________________________________________________\n",
      "num1 (InputLayer)               [(None, 1)]          0                                            \n",
      "__________________________________________________________________________________________________\n",
      "num2 (InputLayer)               [(None, 1)]          0                                            \n",
      "__________________________________________________________________________________________________\n",
      "dropout_12 (Dropout)            (None, 1, 16)        0           cat1_embedding[0][0]             \n",
      "__________________________________________________________________________________________________\n",
      "num1_normalize (BatchNormalizat (None, 1)            4           num1[0][0]                       \n",
      "__________________________________________________________________________________________________\n",
      "num2_normalize (BatchNormalizat (None, 1)            4           num2[0][0]                       \n",
      "__________________________________________________________________________________________________\n",
      "flatten_12 (Flatten)            (None, 16)           0           dropout_12[0][0]                 \n",
      "__________________________________________________________________________________________________\n",
      "concatenate_12 (Concatenate)    (None, 18)           0           num1_normalize[0][0]             \n",
      "                                                                 num2_normalize[0][0]             \n",
      "                                                                 flatten_12[0][0]                 \n",
      "__________________________________________________________________________________________________\n",
      "dense_52 (Dense)                (None, 16)           304         concatenate_12[0][0]             \n",
      "__________________________________________________________________________________________________\n",
      "dense_53 (Dense)                (None, 4)            68          dense_52[0][0]                   \n",
      "__________________________________________________________________________________________________\n",
      "dense_54 (Dense)                (None, 1)            5           dense_53[0][0]                   \n",
      "__________________________________________________________________________________________________\n",
      "lambda_17 (Lambda)              (None, 1)            0           dense_54[0][0]                   \n",
      "==================================================================================================\n",
      "Total params: 449\n",
      "Trainable params: 445\n",
      "Non-trainable params: 4\n",
      "__________________________________________________________________________________________________\n",
      "None\n",
      "Epoch 1/10\n",
      "10/10 [==============================] - 1s 31ms/step - loss: 397077.5980 - val_loss: 567842.0625\n",
      "Epoch 2/10\n",
      "10/10 [==============================] - 0s 5ms/step - loss: 536639.3864 - val_loss: 567704.3750\n",
      "Epoch 3/10\n",
      "10/10 [==============================] - 0s 5ms/step - loss: 410177.8636 - val_loss: 567620.2500\n",
      "Epoch 4/10\n",
      "10/10 [==============================] - 0s 4ms/step - loss: 405201.7841 - val_loss: 567547.8125\n",
      "Epoch 5/10\n",
      "10/10 [==============================] - 0s 4ms/step - loss: 358203.4901 - val_loss: 567440.1875\n",
      "Epoch 6/10\n",
      "10/10 [==============================] - 0s 5ms/step - loss: 446391.1080 - val_loss: 567324.8125\n",
      "Epoch 7/10\n",
      "10/10 [==============================] - 0s 5ms/step - loss: 488269.2472 - val_loss: 567205.5000\n",
      "Epoch 8/10\n",
      "10/10 [==============================] - 0s 5ms/step - loss: 505207.1222 - val_loss: 567073.5625\n",
      "Epoch 9/10\n",
      "10/10 [==============================] - 0s 5ms/step - loss: 310710.1939 - val_loss: 566926.0625\n",
      "Epoch 10/10\n",
      "10/10 [==============================] - 0s 5ms/step - loss: 513988.1960 - val_loss: 566737.1250\n"
     ]
    },
    {
     "data": {
      "image/png": "[encoded data removed]",
      "text/plain": [
       "<Figure size 720x432 with 1 Axes>"
      ]
     },
     "metadata": {
      "needs_background": "light"
     },
     "output_type": "display_data"
    }
   ],
   "source": [
    "model = lazy_dnn(train_in = train , val_in = val\n",
    "                , target_in = 'num3'\n",
    "                , num_col_in = ['num1','num2']\n",
    "                , cat_col_in = ['cat1']\n",
    "                , debug = True) "
   ]
  },
  {
   "cell_type": "markdown",
   "id": "female-ladder",
   "metadata": {},
   "source": [
    "6. Modify Neural Network and Iteration"
   ]
  },
  {
   "cell_type": "code",
   "execution_count": 30,
   "id": "prompt-trash",
   "metadata": {
    "scrolled": false
   },
   "outputs": [
    {
     "name": "stdout",
     "output_type": "stream",
     "text": [
      "Model: \"model_18\"\n",
      "__________________________________________________________________________________________________\n",
      "Layer (type)                    Output Shape         Param #     Connected to                     \n",
      "==================================================================================================\n",
      "cat1 (InputLayer)               [(None, 1)]          0                                            \n",
      "__________________________________________________________________________________________________\n",
      "cat1_embedding (Embedding)      (None, 1, 16)        64          cat1[0][0]                       \n",
      "__________________________________________________________________________________________________\n",
      "num1 (InputLayer)               [(None, 1)]          0                                            \n",
      "__________________________________________________________________________________________________\n",
      "num2 (InputLayer)               [(None, 1)]          0                                            \n",
      "__________________________________________________________________________________________________\n",
      "dropout_13 (Dropout)            (None, 1, 16)        0           cat1_embedding[0][0]             \n",
      "__________________________________________________________________________________________________\n",
      "num1_normalize (BatchNormalizat (None, 1)            4           num1[0][0]                       \n",
      "__________________________________________________________________________________________________\n",
      "num2_normalize (BatchNormalizat (None, 1)            4           num2[0][0]                       \n",
      "__________________________________________________________________________________________________\n",
      "flatten_13 (Flatten)            (None, 16)           0           dropout_13[0][0]                 \n",
      "__________________________________________________________________________________________________\n",
      "concatenate_13 (Concatenate)    (None, 18)           0           num1_normalize[0][0]             \n",
      "                                                                 num2_normalize[0][0]             \n",
      "                                                                 flatten_13[0][0]                 \n",
      "__________________________________________________________________________________________________\n",
      "dense_55 (Dense)                (None, 64)           1216        concatenate_13[0][0]             \n",
      "__________________________________________________________________________________________________\n",
      "dense_56 (Dense)                (None, 32)           2080        dense_55[0][0]                   \n",
      "__________________________________________________________________________________________________\n",
      "dense_57 (Dense)                (None, 16)           528         dense_56[0][0]                   \n",
      "__________________________________________________________________________________________________\n",
      "dense_58 (Dense)                (None, 1)            17          dense_57[0][0]                   \n",
      "__________________________________________________________________________________________________\n",
      "lambda_18 (Lambda)              (None, 1)            0           dense_58[0][0]                   \n",
      "==================================================================================================\n",
      "Total params: 3,913\n",
      "Trainable params: 3,909\n",
      "Non-trainable params: 4\n",
      "__________________________________________________________________________________________________\n",
      "None\n",
      "Epoch 1/100\n",
      "10/10 [==============================] - 1s 16ms/step - loss: 581835.7159 - val_loss: 567503.0625\n",
      "Epoch 2/100\n",
      "10/10 [==============================] - 0s 5ms/step - loss: 341813.6996 - val_loss: 567330.1875\n",
      "Epoch 3/100\n",
      "10/10 [==============================] - 0s 5ms/step - loss: 353972.6605 - val_loss: 567093.0625\n",
      "Epoch 4/100\n",
      "10/10 [==============================] - 0s 5ms/step - loss: 334064.3281 - val_loss: 566720.2500\n",
      "Epoch 5/100\n",
      "10/10 [==============================] - 0s 5ms/step - loss: 485608.7869 - val_loss: 566205.0625\n",
      "Epoch 6/100\n",
      "10/10 [==============================] - 0s 5ms/step - loss: 447141.4545 - val_loss: 565273.6250\n",
      "Epoch 7/100\n",
      "10/10 [==============================] - 0s 5ms/step - loss: 508499.9034 - val_loss: 563618.1875\n",
      "Epoch 8/100\n",
      "10/10 [==============================] - 0s 5ms/step - loss: 458935.1676 - val_loss: 560969.8125\n",
      "Epoch 9/100\n",
      "10/10 [==============================] - 0s 5ms/step - loss: 553191.8438 - val_loss: 556320.6250\n",
      "Epoch 10/100\n",
      "10/10 [==============================] - 0s 15ms/step - loss: 602443.2841 - val_loss: 548558.6250\n",
      "Epoch 11/100\n",
      "10/10 [==============================] - 0s 5ms/step - loss: 452480.3920 - val_loss: 535626.7500\n",
      "Epoch 12/100\n",
      "10/10 [==============================] - 0s 5ms/step - loss: 542316.2926 - val_loss: 515021.3750\n",
      "Epoch 13/100\n",
      "10/10 [==============================] - 0s 5ms/step - loss: 484892.0369 - val_loss: 485406.8750\n",
      "Epoch 14/100\n",
      "10/10 [==============================] - 0s 5ms/step - loss: 347108.0156 - val_loss: 446349.5938\n",
      "Epoch 15/100\n",
      "10/10 [==============================] - 0s 5ms/step - loss: 532454.3977 - val_loss: 397159.5312\n",
      "Epoch 16/100\n",
      "10/10 [==============================] - 0s 5ms/step - loss: 248742.1087 - val_loss: 344180.0938\n",
      "Epoch 17/100\n",
      "10/10 [==============================] - 0s 5ms/step - loss: 202544.9134 - val_loss: 286242.4375\n",
      "Epoch 18/100\n",
      "10/10 [==============================] - 0s 5ms/step - loss: 181680.7810 - val_loss: 231338.5156\n",
      "Epoch 19/100\n",
      "10/10 [==============================] - 0s 5ms/step - loss: 192399.5710 - val_loss: 180148.3594\n",
      "Epoch 20/100\n",
      "10/10 [==============================] - 0s 5ms/step - loss: 114661.9574 - val_loss: 141598.9531\n",
      "Epoch 21/100\n",
      "10/10 [==============================] - 0s 5ms/step - loss: 124814.4041 - val_loss: 113614.8672\n",
      "Epoch 22/100\n",
      "10/10 [==============================] - 0s 5ms/step - loss: 102236.0604 - val_loss: 95943.3672\n",
      "Epoch 23/100\n",
      "10/10 [==============================] - 0s 5ms/step - loss: 82011.1719 - val_loss: 83918.7266\n",
      "Epoch 24/100\n",
      "10/10 [==============================] - 0s 5ms/step - loss: 48740.9727 - val_loss: 75480.8281\n",
      "Epoch 25/100\n",
      "10/10 [==============================] - 0s 5ms/step - loss: 83036.4226 - val_loss: 67164.5156\n",
      "Epoch 26/100\n",
      "10/10 [==============================] - 0s 5ms/step - loss: 75731.0009 - val_loss: 62996.4219\n",
      "Epoch 27/100\n",
      "10/10 [==============================] - 0s 5ms/step - loss: 62218.7976 - val_loss: 58191.9492\n",
      "Epoch 28/100\n",
      "10/10 [==============================] - 0s 5ms/step - loss: 46140.2908 - val_loss: 54442.4258\n",
      "Epoch 29/100\n",
      "10/10 [==============================] - 0s 5ms/step - loss: 63633.9854 - val_loss: 51558.9688\n",
      "Epoch 30/100\n",
      "10/10 [==============================] - 0s 5ms/step - loss: 39952.7997 - val_loss: 48784.1367\n",
      "Epoch 31/100\n",
      "10/10 [==============================] - 0s 13ms/step - loss: 56937.0678 - val_loss: 45704.0586\n",
      "Epoch 32/100\n",
      "10/10 [==============================] - 0s 5ms/step - loss: 42891.1593 - val_loss: 42576.4844\n",
      "Epoch 33/100\n",
      "10/10 [==============================] - 0s 5ms/step - loss: 35561.5721 - val_loss: 40167.4336\n",
      "Epoch 34/100\n",
      "10/10 [==============================] - 0s 5ms/step - loss: 48463.4645 - val_loss: 38352.7656\n",
      "Epoch 35/100\n",
      "10/10 [==============================] - 0s 5ms/step - loss: 35166.7839 - val_loss: 36981.9141\n",
      "Epoch 36/100\n",
      "10/10 [==============================] - 0s 6ms/step - loss: 31730.5749 - val_loss: 34793.8555\n",
      "Epoch 37/100\n",
      "10/10 [==============================] - 0s 5ms/step - loss: 33858.4787 - val_loss: 32281.3066\n",
      "Epoch 38/100\n",
      "10/10 [==============================] - 0s 5ms/step - loss: 29337.6738 - val_loss: 30880.1934\n",
      "Epoch 39/100\n",
      "10/10 [==============================] - 0s 5ms/step - loss: 28130.6725 - val_loss: 28958.9746\n",
      "Epoch 40/100\n",
      "10/10 [==============================] - 0s 5ms/step - loss: 30696.5297 - val_loss: 27568.8906\n",
      "Epoch 41/100\n",
      "10/10 [==============================] - 0s 5ms/step - loss: 27711.9089 - val_loss: 26574.2656\n",
      "Epoch 42/100\n",
      "10/10 [==============================] - 0s 5ms/step - loss: 21309.4198 - val_loss: 25766.6543\n",
      "Epoch 43/100\n",
      "10/10 [==============================] - 0s 5ms/step - loss: 43540.7905 - val_loss: 24788.5801\n",
      "Epoch 44/100\n"
     ]
    },
    {
     "name": "stdout",
     "output_type": "stream",
     "text": [
      "10/10 [==============================] - 0s 5ms/step - loss: 50505.1193 - val_loss: 22902.6582\n",
      "Epoch 45/100\n",
      "10/10 [==============================] - 0s 5ms/step - loss: 29095.5716 - val_loss: 21955.1777\n",
      "Epoch 46/100\n",
      "10/10 [==============================] - 0s 5ms/step - loss: 26762.5692 - val_loss: 21490.4297\n",
      "Epoch 47/100\n",
      "10/10 [==============================] - 0s 5ms/step - loss: 23715.0568 - val_loss: 19844.9844\n",
      "Epoch 48/100\n",
      "10/10 [==============================] - 0s 5ms/step - loss: 35269.6951 - val_loss: 19207.3516\n",
      "Epoch 49/100\n",
      "10/10 [==============================] - 0s 5ms/step - loss: 26064.2560 - val_loss: 17883.2695\n",
      "Epoch 50/100\n",
      "10/10 [==============================] - 0s 5ms/step - loss: 33999.2276 - val_loss: 17819.3301\n",
      "Epoch 51/100\n",
      "10/10 [==============================] - 0s 5ms/step - loss: 28035.1664 - val_loss: 16700.2793\n",
      "Epoch 52/100\n",
      "10/10 [==============================] - 0s 5ms/step - loss: 32907.7031 - val_loss: 16456.6445\n",
      "Epoch 53/100\n",
      "10/10 [==============================] - 0s 5ms/step - loss: 24897.8128 - val_loss: 15450.0537\n",
      "Epoch 54/100\n",
      "10/10 [==============================] - 0s 5ms/step - loss: 20413.5785 - val_loss: 14938.7773\n",
      "Epoch 55/100\n",
      "10/10 [==============================] - 0s 14ms/step - loss: 27590.8404 - val_loss: 14761.5527\n",
      "Epoch 56/100\n",
      "10/10 [==============================] - 0s 6ms/step - loss: 15795.1199 - val_loss: 13766.3672\n",
      "Epoch 57/100\n",
      "10/10 [==============================] - 0s 5ms/step - loss: 21806.5071 - val_loss: 13397.4922\n",
      "Epoch 58/100\n",
      "10/10 [==============================] - 0s 6ms/step - loss: 29446.0025 - val_loss: 13059.6240\n",
      "Epoch 59/100\n",
      "10/10 [==============================] - 0s 5ms/step - loss: 16553.0833 - val_loss: 12661.8916\n",
      "Epoch 60/100\n",
      "10/10 [==============================] - 0s 5ms/step - loss: 31932.3398 - val_loss: 12418.7412\n",
      "Epoch 61/100\n",
      "10/10 [==============================] - 0s 5ms/step - loss: 14338.7899 - val_loss: 12516.7471\n",
      "Epoch 62/100\n",
      "10/10 [==============================] - 0s 5ms/step - loss: 42524.2012 - val_loss: 12327.9775\n",
      "Epoch 63/100\n",
      "10/10 [==============================] - 0s 5ms/step - loss: 17987.7912 - val_loss: 12030.6602\n",
      "Epoch 64/100\n",
      "10/10 [==============================] - 0s 5ms/step - loss: 20697.7829 - val_loss: 11631.9863\n",
      "Epoch 65/100\n",
      "10/10 [==============================] - 0s 5ms/step - loss: 17347.2395 - val_loss: 11850.7002\n",
      "Epoch 66/100\n",
      "10/10 [==============================] - 0s 5ms/step - loss: 15244.9132 - val_loss: 10660.2529\n",
      "Epoch 67/100\n",
      "10/10 [==============================] - 0s 5ms/step - loss: 30698.2480 - val_loss: 10429.9316\n",
      "Epoch 68/100\n",
      "10/10 [==============================] - 0s 5ms/step - loss: 24648.2797 - val_loss: 10174.6807\n",
      "Epoch 69/100\n",
      "10/10 [==============================] - 0s 5ms/step - loss: 22527.6818 - val_loss: 10226.3633\n",
      "Epoch 70/100\n",
      "10/10 [==============================] - 0s 5ms/step - loss: 12808.4848 - val_loss: 10019.7715\n",
      "Epoch 71/100\n",
      "10/10 [==============================] - 0s 5ms/step - loss: 15082.6264 - val_loss: 9713.3408\n",
      "Epoch 72/100\n",
      "10/10 [==============================] - 0s 5ms/step - loss: 25865.9309 - val_loss: 9512.5391\n",
      "Epoch 73/100\n",
      "10/10 [==============================] - 0s 5ms/step - loss: 13805.5048 - val_loss: 9171.8047\n",
      "Epoch 74/100\n",
      "10/10 [==============================] - 0s 5ms/step - loss: 21380.2098 - val_loss: 8955.6602\n",
      "Epoch 75/100\n",
      "10/10 [==============================] - 0s 5ms/step - loss: 26323.9661 - val_loss: 8891.0986\n",
      "Epoch 76/100\n",
      "10/10 [==============================] - 0s 5ms/step - loss: 14831.8924 - val_loss: 9422.5566\n",
      "Epoch 77/100\n",
      "10/10 [==============================] - 0s 13ms/step - loss: 18881.3753 - val_loss: 8926.3848\n",
      "Epoch 78/100\n",
      "10/10 [==============================] - 0s 5ms/step - loss: 22914.8443 - val_loss: 8568.5840\n",
      "Epoch 79/100\n",
      "10/10 [==============================] - 0s 5ms/step - loss: 19218.1220 - val_loss: 8189.5698\n",
      "Epoch 80/100\n",
      "10/10 [==============================] - 0s 5ms/step - loss: 20491.7857 - val_loss: 8025.2720\n",
      "Epoch 81/100\n",
      "10/10 [==============================] - 0s 5ms/step - loss: 18739.2048 - val_loss: 7801.1309\n",
      "Epoch 82/100\n",
      "10/10 [==============================] - 0s 5ms/step - loss: 10125.1792 - val_loss: 7750.8169\n",
      "Epoch 83/100\n",
      "10/10 [==============================] - 0s 5ms/step - loss: 13817.3138 - val_loss: 8057.1724\n",
      "Epoch 84/100\n",
      "10/10 [==============================] - 0s 5ms/step - loss: 18495.0259 - val_loss: 7379.3975\n",
      "Epoch 85/100\n",
      "10/10 [==============================] - 0s 5ms/step - loss: 30246.9918 - val_loss: 6954.6401\n",
      "Epoch 86/100\n",
      "10/10 [==============================] - 0s 5ms/step - loss: 17202.8613 - val_loss: 6650.7275\n",
      "Epoch 87/100\n",
      "10/10 [==============================] - 0s 5ms/step - loss: 11474.7576 - val_loss: 6370.8008\n",
      "Epoch 88/100\n",
      "10/10 [==============================] - 0s 5ms/step - loss: 22264.7015 - val_loss: 6194.5986\n",
      "Epoch 89/100\n",
      "10/10 [==============================] - 0s 5ms/step - loss: 21699.9854 - val_loss: 6040.3062\n",
      "Epoch 90/100\n",
      "10/10 [==============================] - 0s 5ms/step - loss: 11334.0281 - val_loss: 5834.0605\n",
      "Epoch 91/100\n",
      "10/10 [==============================] - 0s 5ms/step - loss: 19182.1279 - val_loss: 5823.9155\n",
      "Epoch 92/100\n",
      "10/10 [==============================] - 0s 5ms/step - loss: 22726.9487 - val_loss: 5478.0420\n",
      "Epoch 93/100\n",
      "10/10 [==============================] - 0s 5ms/step - loss: 29730.6263 - val_loss: 6239.4961\n",
      "Epoch 94/100\n",
      "10/10 [==============================] - 0s 5ms/step - loss: 15106.4767 - val_loss: 5575.8433\n",
      "Epoch 95/100\n",
      "10/10 [==============================] - 0s 6ms/step - loss: 19610.6786 - val_loss: 5044.2817\n",
      "Epoch 96/100\n",
      "10/10 [==============================] - 0s 6ms/step - loss: 7180.8459 - val_loss: 5131.7642\n",
      "Epoch 97/100\n",
      "10/10 [==============================] - 0s 6ms/step - loss: 29082.3711 - val_loss: 5021.5576\n",
      "Epoch 98/100\n",
      "10/10 [==============================] - 0s 15ms/step - loss: 25002.9730 - val_loss: 5114.6006\n",
      "Epoch 99/100\n",
      "10/10 [==============================] - 0s 6ms/step - loss: 13015.7352 - val_loss: 5054.6436\n",
      "Epoch 100/100\n",
      "10/10 [==============================] - 0s 6ms/step - loss: 26506.1896 - val_loss: 4841.3921\n"
     ]
    },
    {
     "data": {
      "image/png": "[encoded data removed]",
      "text/plain": [
       "<Figure size 720x432 with 1 Axes>"
      ]
     },
     "metadata": {
      "needs_background": "light"
     },
     "output_type": "display_data"
    }
   ],
   "source": [
    "model = lazy_dnn(train_in = train , val_in = val\n",
    "                , target_in = 'num3'\n",
    "                , num_col_in = ['num1','num2']\n",
    "                , cat_col_in = ['cat1']\n",
    "                , node_in = [64,32,16]\n",
    "                , train_batch = 10 , val_batch = 10 \n",
    "                , epochs = 100\n",
    "                , normalize = True , embedded_size = 16, drop_out_ratio = 0.1\n",
    "                , patience_in = 5 , debug = True) "
   ]
  },
  {
   "cell_type": "markdown",
   "id": "naughty-singer",
   "metadata": {},
   "source": [
    "# Prediction Phase"
   ]
  },
  {
   "cell_type": "code",
   "execution_count": 31,
   "id": "critical-grass",
   "metadata": {},
   "outputs": [
    {
     "data": {
      "text/plain": [
       "array([ 27.41837 , 245.93813 ,  30.136715,  27.41837 , 191.1573  ,\n",
       "        32.708195, 227.5765  ,  40.606327,  27.41837 ,  25.428314,\n",
       "       231.5366  ,  27.41837 , 426.24857 ,  27.027195,  33.830494,\n",
       "        35.71207 ,  37.079174,  37.58278 ,  27.315403,  43.27341 ],\n",
       "      dtype=float32)"
      ]
     },
     "execution_count": 31,
     "metadata": {},
     "output_type": "execute_result"
    }
   ],
   "source": [
    "model.predict(dict(test)).flatten()"
   ]
  },
  {
   "cell_type": "code",
   "execution_count": 32,
   "id": "facial-reducing",
   "metadata": {},
   "outputs": [
    {
     "data": {
      "text/plain": [
       "<AxesSubplot:>"
      ]
     },
     "execution_count": 32,
     "metadata": {},
     "output_type": "execute_result"
    },
    {
     "data": {
      "image/png": "[encoded data removed]",
      "text/plain": [
       "<Figure size 1080x360 with 1 Axes>"
      ]
     },
     "metadata": {
      "needs_background": "light"
     },
     "output_type": "display_data"
    }
   ],
   "source": [
    "test['predict'] = model.predict(dict(test)).flatten()\n",
    "test[['num3','predict']].plot(figsize = (15,5))"
   ]
  }
 ],
 "metadata": {
  "kernelspec": {
   "display_name": "Python 3",
   "language": "python",
   "name": "python3"
  },
  "language_info": {
   "codemirror_mode": {
    "name": "ipython",
    "version": 3
   },
   "file_extension": ".py",
   "mimetype": "text/x-python",
   "name": "python",
   "nbconvert_exporter": "python",
   "pygments_lexer": "ipython3",
   "version": "3.7.6"
  }
 },
 "nbformat": 4,
 "nbformat_minor": 5
}
