{
 "cells": [
  {
   "cell_type": "markdown",
   "id": "fuzzy-opera",
   "metadata": {},
   "source": [
    "## Load Required Libraries\n",
    " - ```pip install pandas```<br>\n",
    " - ```pip install tensorflow>=2```<br>\n",
    " \n",
    "# Disable Tensorflow Warning"
   ]
  },
  {
   "cell_type": "code",
   "execution_count": 1,
   "id": "different-signal",
   "metadata": {},
   "outputs": [],
   "source": [
    "def warn(*args, **kwargs):\n",
    "    pass\n",
    "import warnings\n",
    "warnings.warn = warn # Not Recommended"
   ]
  },
  {
   "cell_type": "markdown",
   "id": "unique-oklahoma",
   "metadata": {},
   "source": [
    "# Import Function"
   ]
  },
  {
   "cell_type": "code",
   "execution_count": 2,
   "id": "speaking-robinson",
   "metadata": {},
   "outputs": [],
   "source": [
    "from py_topping.data_preparation.lazy_ml import lazy_dnn"
   ]
  },
  {
   "cell_type": "code",
   "execution_count": null,
   "id": "stunning-costume",
   "metadata": {},
   "outputs": [],
   "source": [
    "lazy_dnn(train_in \n",
    "        , target_in\n",
    "        , num_col_in = []\n",
    "        , cat_col_in = [] \n",
    "        , node_in = [16,4]\n",
    "        , val_in = None \n",
    "        , train_batch = 10 \n",
    "        , val_batch = 10 \n",
    "        , epochs = 10 \n",
    "        , normalize = True\n",
    "        , embedded_size = 16 \n",
    "        , drop_out_ratio = 0.1\n",
    "        , patience_in = 10\n",
    "        , amplify_in = 1\n",
    "        , optimize_in = 'adam'\n",
    "        , loss_in = 'mse' \n",
    "        , debug = False) "
   ]
  },
  {
   "cell_type": "markdown",
   "id": "conservative-theta",
   "metadata": {},
   "source": [
    "### List of Parameter\n",
    " - **train_in** : Training Dataset (Pandas DataFrame)\n",
    " - **target_in** : Name of Target Prediction (String)\n",
    " - **num_col_in** : List of Columns' name for numeric feature (List)\n",
    " - **cat_col_in**  : List of Columns' name for categorical feature (List)\n",
    " - **node_in** : List of Neural Network Node and Layer (List)\n",
    " - **val_in** : Validate Dataset (Pandas DataFrame)\n",
    " - **train_batch** : Number observations to training per batch (Integer)\n",
    " - **val_batch** : Number observations to validate per batch (Integer)\n",
    " - **epochs** : Number of Iteration during the training (Integer)\n",
    " - **normalize** : To normalize Numeric or not (Boolean)\n",
    " - **embedded_size** : Size of Embedded Layer for Categorical Columns (Integer)\n",
    " - **drop_out_ratio** : Percentage of Node that will Drop for Categorical's Embedded Layer (Float)\n",
    " - **patience_in** : Number of Iteration that model allow if the loss not improve (Integer)\n",
    " - **amplify_in** : Amplify during the Last DNN Layer (Float)\n",
    " - **optimize_in** : TF's Optimizer that will use during the Training (String)\n",
    " - **loss_in** : TF's Loss that will use during the Training (String)\n",
    " - **debug** : To show Model's Summary Structure & Learning Curve or not (Boolean)\n",
    "\n",
    "**Return** : Tensorflow's Sequential Model"
   ]
  },
  {
   "cell_type": "markdown",
   "id": "static-powder",
   "metadata": {},
   "source": [
    "# Sample DataFrame"
   ]
  },
  {
   "cell_type": "code",
   "execution_count": 3,
   "id": "innocent-banana",
   "metadata": {},
   "outputs": [
    {
     "data": {
      "text/html": [
       "<div>\n",
       "<style scoped>\n",
       "    .dataframe tbody tr th:only-of-type {\n",
       "        vertical-align: middle;\n",
       "    }\n",
       "\n",
       "    .dataframe tbody tr th {\n",
       "        vertical-align: top;\n",
       "    }\n",
       "\n",
       "    .dataframe thead th {\n",
       "        text-align: right;\n",
       "    }\n",
       "</style>\n",
       "<table border=\"1\" class=\"dataframe\">\n",
       "  <thead>\n",
       "    <tr style=\"text-align: right;\">\n",
       "      <th></th>\n",
       "      <th>num1</th>\n",
       "      <th>num2</th>\n",
       "      <th>cat1</th>\n",
       "      <th>num3</th>\n",
       "    </tr>\n",
       "  </thead>\n",
       "  <tbody>\n",
       "    <tr>\n",
       "      <th>0</th>\n",
       "      <td>0</td>\n",
       "      <td>0.552626</td>\n",
       "      <td>1</td>\n",
       "      <td>0</td>\n",
       "    </tr>\n",
       "    <tr>\n",
       "      <th>1</th>\n",
       "      <td>1</td>\n",
       "      <td>0.754082</td>\n",
       "      <td>1</td>\n",
       "      <td>20</td>\n",
       "    </tr>\n",
       "    <tr>\n",
       "      <th>2</th>\n",
       "      <td>2</td>\n",
       "      <td>0.946963</td>\n",
       "      <td>0</td>\n",
       "      <td>4</td>\n",
       "    </tr>\n",
       "    <tr>\n",
       "      <th>3</th>\n",
       "      <td>3</td>\n",
       "      <td>0.781095</td>\n",
       "      <td>0</td>\n",
       "      <td>6</td>\n",
       "    </tr>\n",
       "    <tr>\n",
       "      <th>4</th>\n",
       "      <td>4</td>\n",
       "      <td>0.500676</td>\n",
       "      <td>0</td>\n",
       "      <td>8</td>\n",
       "    </tr>\n",
       "  </tbody>\n",
       "</table>\n",
       "</div>"
      ],
      "text/plain": [
       "   num1      num2  cat1  num3\n",
       "0     0  0.552626     1     0\n",
       "1     1  0.754082     1    20\n",
       "2     2  0.946963     0     4\n",
       "3     3  0.781095     0     6\n",
       "4     4  0.500676     0     8"
      ]
     },
     "execution_count": 3,
     "metadata": {},
     "output_type": "execute_result"
    }
   ],
   "source": [
    "import pandas as pd\n",
    "import numpy as np\n",
    "\n",
    "train = pd.DataFrame({'num1' : range(0,100), 'num2' : np.random.rand(100), 'cat1' : np.random.randint(3 , size=100)})\n",
    "train['num3'] = train['num1']*np.where(train['cat1'] == 1, 20, train['cat1'] + 2)\n",
    "val = pd.DataFrame({'num1' : range(0,100), 'num2' : np.random.rand(100), 'cat1' : np.random.randint(3 , size=100)})\n",
    "val['num3'] = val['num1']*np.where(val['cat1'] == 1, 20, val['cat1'] + 2)\n",
    "test = pd.DataFrame({'num1' : range(0,20), 'num2' : np.random.rand(20), 'cat1' : np.random.randint(3 , size=20)})\n",
    "test['num3'] = test['num1']*np.where(test['cat1'] == 1, 20, test['cat1'] + 2)\n",
    "train.head(5)"
   ]
  },
  {
   "cell_type": "markdown",
   "id": "royal-glenn",
   "metadata": {},
   "source": [
    "# Training Phase\n",
    "\n",
    "\n",
    "### Basic Train With 1 numeric Feature"
   ]
  },
  {
   "cell_type": "code",
   "execution_count": 4,
   "id": "fourth-central",
   "metadata": {},
   "outputs": [
    {
     "name": "stdout",
     "output_type": "stream",
     "text": [
      "Epoch 1/10\n",
      "10/10 [==============================] - 0s 883us/step - loss: 348511.1932\n",
      "Epoch 2/10\n",
      "10/10 [==============================] - 0s 997us/step - loss: 275056.5625\n",
      "Epoch 3/10\n",
      "10/10 [==============================] - 0s 997us/step - loss: 309452.1996\n",
      "Epoch 4/10\n",
      "10/10 [==============================] - 0s 993us/step - loss: 461878.6335\n",
      "Epoch 5/10\n",
      "10/10 [==============================] - 0s 997us/step - loss: 349636.0114\n",
      "Epoch 6/10\n",
      "10/10 [==============================] - 0s 1ms/step - loss: 426512.2415\n",
      "Epoch 7/10\n",
      "10/10 [==============================] - 0s 997us/step - loss: 405689.5739\n",
      "Epoch 8/10\n",
      "10/10 [==============================] - 0s 891us/step - loss: 331096.6847\n",
      "Epoch 9/10\n",
      "10/10 [==============================] - 0s 886us/step - loss: 340176.3438\n",
      "Epoch 10/10\n",
      "10/10 [==============================] - 0s 1ms/step - loss: 250046.2869\n"
     ]
    }
   ],
   "source": [
    "model = lazy_dnn(train_in = train\n",
    "                , target_in = 'num3'\n",
    "                , num_col_in = ['num1']) "
   ]
  },
  {
   "cell_type": "markdown",
   "id": "cardiac-sellers",
   "metadata": {},
   "source": [
    "### Basic Train With 1 numeric Feature and 1 categorical Feature"
   ]
  },
  {
   "cell_type": "code",
   "execution_count": 5,
   "id": "manufactured-usage",
   "metadata": {},
   "outputs": [
    {
     "name": "stdout",
     "output_type": "stream",
     "text": [
      "Epoch 1/10\n",
      "10/10 [==============================] - 0s 887us/step - loss: 332176.1420\n",
      "Epoch 2/10\n",
      "10/10 [==============================] - 0s 994us/step - loss: 408911.5341\n",
      "Epoch 3/10\n",
      "10/10 [==============================] - 0s 997us/step - loss: 328845.8906\n",
      "Epoch 4/10\n",
      "10/10 [==============================] - 0s 1ms/step - loss: 329871.1250\n",
      "Epoch 5/10\n",
      "10/10 [==============================] - 0s 997us/step - loss: 271528.7195\n",
      "Epoch 6/10\n",
      "10/10 [==============================] - 0s 1ms/step - loss: 333370.3139\n",
      "Epoch 7/10\n",
      "10/10 [==============================] - 0s 1ms/step - loss: 258454.5190\n",
      "Epoch 8/10\n",
      "10/10 [==============================] - 0s 997us/step - loss: 322078.1364\n",
      "Epoch 9/10\n",
      "10/10 [==============================] - 0s 997us/step - loss: 393956.2727\n",
      "Epoch 10/10\n",
      "10/10 [==============================] - 0s 997us/step - loss: 462403.3011\n"
     ]
    }
   ],
   "source": [
    "model = lazy_dnn(train_in = train\n",
    "                , target_in = 'num3'\n",
    "                , num_col_in = ['num1']\n",
    "                , cat_col_in = ['cat1']) "
   ]
  },
  {
   "cell_type": "markdown",
   "id": "nasty-mentor",
   "metadata": {},
   "source": [
    "### Basic Train With 2 numeric Feature and 1 categorical Feature"
   ]
  },
  {
   "cell_type": "code",
   "execution_count": 6,
   "id": "completed-brooklyn",
   "metadata": {},
   "outputs": [
    {
     "name": "stdout",
     "output_type": "stream",
     "text": [
      "Epoch 1/10\n",
      "10/10 [==============================] - 1s 997us/step - loss: 398206.0227\n",
      "Epoch 2/10\n",
      "10/10 [==============================] - 0s 887us/step - loss: 359372.4290\n",
      "Epoch 3/10\n",
      "10/10 [==============================] - 0s 997us/step - loss: 303732.9773\n",
      "Epoch 4/10\n",
      "10/10 [==============================] - 0s 997us/step - loss: 362671.4773\n",
      "Epoch 5/10\n",
      "10/10 [==============================] - 0s 887us/step - loss: 363074.1165\n",
      "Epoch 6/10\n",
      "10/10 [==============================] - 0s 1ms/step - loss: 232226.3121\n",
      "Epoch 7/10\n",
      "10/10 [==============================] - 0s 9ms/step - loss: 312758.4048\n",
      "Epoch 8/10\n",
      "10/10 [==============================] - 0s 997us/step - loss: 296446.0355\n",
      "Epoch 9/10\n",
      "10/10 [==============================] - 0s 890us/step - loss: 385174.9744\n",
      "Epoch 10/10\n",
      "10/10 [==============================] - 0s 997us/step - loss: 278695.5440\n"
     ]
    }
   ],
   "source": [
    "model = lazy_dnn(train_in = train\n",
    "                , target_in = 'num3'\n",
    "                , num_col_in = ['num1','num2']\n",
    "                , cat_col_in = ['cat1']) "
   ]
  },
  {
   "cell_type": "markdown",
   "id": "unnecessary-africa",
   "metadata": {},
   "source": [
    "### Show Model Summary and Curve"
   ]
  },
  {
   "cell_type": "code",
   "execution_count": 7,
   "id": "eleven-arabic",
   "metadata": {},
   "outputs": [
    {
     "name": "stdout",
     "output_type": "stream",
     "text": [
      "Model: \"model_3\"\n",
      "__________________________________________________________________________________________________\n",
      "Layer (type)                    Output Shape         Param #     Connected to                     \n",
      "==================================================================================================\n",
      "cat1 (InputLayer)               [(None, 1)]          0                                            \n",
      "__________________________________________________________________________________________________\n",
      "cat1_embedding (Embedding)      (None, 1, 16)        64          cat1[0][0]                       \n",
      "__________________________________________________________________________________________________\n",
      "num1 (InputLayer)               [(None, 1)]          0                                            \n",
      "__________________________________________________________________________________________________\n",
      "num2 (InputLayer)               [(None, 1)]          0                                            \n",
      "__________________________________________________________________________________________________\n",
      "dropout_2 (Dropout)             (None, 1, 16)        0           cat1_embedding[0][0]             \n",
      "__________________________________________________________________________________________________\n",
      "num1_normalize (BatchNormalizat (None, 1)            4           num1[0][0]                       \n",
      "__________________________________________________________________________________________________\n",
      "num2_normalize (BatchNormalizat (None, 1)            4           num2[0][0]                       \n",
      "__________________________________________________________________________________________________\n",
      "flatten_2 (Flatten)             (None, 16)           0           dropout_2[0][0]                  \n",
      "__________________________________________________________________________________________________\n",
      "concatenate_2 (Concatenate)     (None, 18)           0           num1_normalize[0][0]             \n",
      "                                                                 num2_normalize[0][0]             \n",
      "                                                                 flatten_2[0][0]                  \n",
      "__________________________________________________________________________________________________\n",
      "dense_9 (Dense)                 (None, 16)           304         concatenate_2[0][0]              \n",
      "__________________________________________________________________________________________________\n",
      "dense_10 (Dense)                (None, 4)            68          dense_9[0][0]                    \n",
      "__________________________________________________________________________________________________\n",
      "dense_11 (Dense)                (None, 1)            5           dense_10[0][0]                   \n",
      "__________________________________________________________________________________________________\n",
      "lambda_3 (Lambda)               (None, 1)            0           dense_11[0][0]                   \n",
      "==================================================================================================\n",
      "Total params: 449\n",
      "Trainable params: 445\n",
      "Non-trainable params: 4\n",
      "__________________________________________________________________________________________________\n",
      "None\n",
      "Epoch 1/10\n",
      "10/10 [==============================] - 1s 1ms/step - loss: 268522.1733\n",
      "Epoch 2/10\n",
      "10/10 [==============================] - 0s 1ms/step - loss: 412735.8409\n",
      "Epoch 3/10\n",
      "10/10 [==============================] - 0s 1ms/step - loss: 266738.0412\n",
      "Epoch 4/10\n",
      "10/10 [==============================] - 0s 996us/step - loss: 397909.7131\n",
      "Epoch 5/10\n",
      "10/10 [==============================] - 0s 997us/step - loss: 438720.8068\n",
      "Epoch 6/10\n",
      "10/10 [==============================] - 0s 1ms/step - loss: 350058.3807\n",
      "Epoch 7/10\n",
      "10/10 [==============================] - 0s 997us/step - loss: 426524.8438\n",
      "Epoch 8/10\n",
      "10/10 [==============================] - 0s 1ms/step - loss: 390370.0881\n",
      "Epoch 9/10\n",
      "10/10 [==============================] - 0s 1ms/step - loss: 311377.6776\n",
      "Epoch 10/10\n",
      "10/10 [==============================] - 0s 1ms/step - loss: 376439.0369\n"
     ]
    },
    {
     "data": {
      "image/png": "[encoded data removed]",
      "text/plain": [
       "<Figure size 720x432 with 1 Axes>"
      ]
     },
     "metadata": {
      "needs_background": "light"
     },
     "output_type": "display_data"
    }
   ],
   "source": [
    "model = lazy_dnn(train_in = train\n",
    "                , target_in = 'num3'\n",
    "                , num_col_in = ['num1','num2']\n",
    "                , cat_col_in = ['cat1']\n",
    "                , debug = True) "
   ]
  },
  {
   "cell_type": "markdown",
   "id": "immediate-desert",
   "metadata": {},
   "source": [
    "### Training With Validate Data Set"
   ]
  },
  {
   "cell_type": "code",
   "execution_count": 8,
   "id": "interracial-playing",
   "metadata": {},
   "outputs": [
    {
     "name": "stdout",
     "output_type": "stream",
     "text": [
      "Model: \"model_4\"\n",
      "__________________________________________________________________________________________________\n",
      "Layer (type)                    Output Shape         Param #     Connected to                     \n",
      "==================================================================================================\n",
      "cat1 (InputLayer)               [(None, 1)]          0                                            \n",
      "__________________________________________________________________________________________________\n",
      "cat1_embedding (Embedding)      (None, 1, 16)        64          cat1[0][0]                       \n",
      "__________________________________________________________________________________________________\n",
      "num1 (InputLayer)               [(None, 1)]          0                                            \n",
      "__________________________________________________________________________________________________\n",
      "num2 (InputLayer)               [(None, 1)]          0                                            \n",
      "__________________________________________________________________________________________________\n",
      "dropout_3 (Dropout)             (None, 1, 16)        0           cat1_embedding[0][0]             \n",
      "__________________________________________________________________________________________________\n",
      "num1_normalize (BatchNormalizat (None, 1)            4           num1[0][0]                       \n",
      "__________________________________________________________________________________________________\n",
      "num2_normalize (BatchNormalizat (None, 1)            4           num2[0][0]                       \n",
      "__________________________________________________________________________________________________\n",
      "flatten_3 (Flatten)             (None, 16)           0           dropout_3[0][0]                  \n",
      "__________________________________________________________________________________________________\n",
      "concatenate_3 (Concatenate)     (None, 18)           0           num1_normalize[0][0]             \n",
      "                                                                 num2_normalize[0][0]             \n",
      "                                                                 flatten_3[0][0]                  \n",
      "__________________________________________________________________________________________________\n",
      "dense_12 (Dense)                (None, 16)           304         concatenate_3[0][0]              \n",
      "__________________________________________________________________________________________________\n",
      "dense_13 (Dense)                (None, 4)            68          dense_12[0][0]                   \n",
      "__________________________________________________________________________________________________\n",
      "dense_14 (Dense)                (None, 1)            5           dense_13[0][0]                   \n",
      "__________________________________________________________________________________________________\n",
      "lambda_4 (Lambda)               (None, 1)            0           dense_14[0][0]                   \n",
      "==================================================================================================\n",
      "Total params: 449\n",
      "Trainable params: 445\n",
      "Non-trainable params: 4\n",
      "__________________________________________________________________________________________________\n",
      "None\n",
      "Epoch 1/10\n",
      "10/10 [==============================] - 1s 50ms/step - loss: 342991.0923 - val_loss: 428367.5625\n",
      "Epoch 2/10\n",
      "10/10 [==============================] - 0s 7ms/step - loss: 429830.6392 - val_loss: 428044.8750\n",
      "Epoch 3/10\n",
      "10/10 [==============================] - 0s 6ms/step - loss: 348975.3352 - val_loss: 427841.0312\n",
      "Epoch 4/10\n",
      "10/10 [==============================] - 0s 6ms/step - loss: 391269.2244 - val_loss: 427675.7188\n",
      "Epoch 5/10\n",
      "10/10 [==============================] - 0s 7ms/step - loss: 321541.4759 - val_loss: 427531.0000\n",
      "Epoch 6/10\n",
      "10/10 [==============================] - 0s 6ms/step - loss: 286888.7841 - val_loss: 427388.7500\n",
      "Epoch 7/10\n",
      "10/10 [==============================] - 0s 6ms/step - loss: 324345.6364 - val_loss: 427202.8750\n",
      "Epoch 8/10\n",
      "10/10 [==============================] - 0s 8ms/step - loss: 377528.1108 - val_loss: 426949.1250\n",
      "Epoch 9/10\n",
      "10/10 [==============================] - 0s 6ms/step - loss: 335458.5710 - val_loss: 426646.6250\n",
      "Epoch 10/10\n",
      "10/10 [==============================] - 0s 6ms/step - loss: 328880.0334 - val_loss: 426311.9062\n"
     ]
    },
    {
     "data": {
      "image/png": "[encoded data removed]",
      "text/plain": [
       "<Figure size 720x432 with 1 Axes>"
      ]
     },
     "metadata": {
      "needs_background": "light"
     },
     "output_type": "display_data"
    }
   ],
   "source": [
    "model = lazy_dnn(train_in = train , val_in = val\n",
    "                , target_in = 'num3'\n",
    "                , num_col_in = ['num1','num2']\n",
    "                , cat_col_in = ['cat1']\n",
    "                , debug = True) "
   ]
  },
  {
   "cell_type": "markdown",
   "id": "accurate-alert",
   "metadata": {},
   "source": [
    "### Modify Neural Network and Iteration"
   ]
  },
  {
   "cell_type": "code",
   "execution_count": 9,
   "id": "former-panama",
   "metadata": {
    "scrolled": false
   },
   "outputs": [
    {
     "name": "stdout",
     "output_type": "stream",
     "text": [
      "Model: \"model_5\"\n",
      "__________________________________________________________________________________________________\n",
      "Layer (type)                    Output Shape         Param #     Connected to                     \n",
      "==================================================================================================\n",
      "cat1 (InputLayer)               [(None, 1)]          0                                            \n",
      "__________________________________________________________________________________________________\n",
      "cat1_embedding (Embedding)      (None, 1, 16)        64          cat1[0][0]                       \n",
      "__________________________________________________________________________________________________\n",
      "num1 (InputLayer)               [(None, 1)]          0                                            \n",
      "__________________________________________________________________________________________________\n",
      "num2 (InputLayer)               [(None, 1)]          0                                            \n",
      "__________________________________________________________________________________________________\n",
      "dropout_4 (Dropout)             (None, 1, 16)        0           cat1_embedding[0][0]             \n",
      "__________________________________________________________________________________________________\n",
      "num1_normalize (BatchNormalizat (None, 1)            4           num1[0][0]                       \n",
      "__________________________________________________________________________________________________\n",
      "num2_normalize (BatchNormalizat (None, 1)            4           num2[0][0]                       \n",
      "__________________________________________________________________________________________________\n",
      "flatten_4 (Flatten)             (None, 16)           0           dropout_4[0][0]                  \n",
      "__________________________________________________________________________________________________\n",
      "concatenate_4 (Concatenate)     (None, 18)           0           num1_normalize[0][0]             \n",
      "                                                                 num2_normalize[0][0]             \n",
      "                                                                 flatten_4[0][0]                  \n",
      "__________________________________________________________________________________________________\n",
      "dense_15 (Dense)                (None, 64)           1216        concatenate_4[0][0]              \n",
      "__________________________________________________________________________________________________\n",
      "dense_16 (Dense)                (None, 32)           2080        dense_15[0][0]                   \n",
      "__________________________________________________________________________________________________\n",
      "dense_17 (Dense)                (None, 16)           528         dense_16[0][0]                   \n",
      "__________________________________________________________________________________________________\n",
      "dense_18 (Dense)                (None, 1)            17          dense_17[0][0]                   \n",
      "__________________________________________________________________________________________________\n",
      "lambda_5 (Lambda)               (None, 1)            0           dense_18[0][0]                   \n",
      "==================================================================================================\n",
      "Total params: 3,913\n",
      "Trainable params: 3,909\n",
      "Non-trainable params: 4\n",
      "__________________________________________________________________________________________________\n",
      "None\n",
      "Epoch 1/100\n",
      "10/10 [==============================] - 1s 35ms/step - loss: 331205.8011 - val_loss: 427714.5938\n",
      "Epoch 2/100\n",
      "10/10 [==============================] - 0s 6ms/step - loss: 511545.2159 - val_loss: 427620.0938\n",
      "Epoch 3/100\n",
      "10/10 [==============================] - 0s 6ms/step - loss: 335264.2301 - val_loss: 427511.9062\n",
      "Epoch 4/100\n",
      "10/10 [==============================] - 0s 6ms/step - loss: 485030.7614 - val_loss: 427233.9062\n",
      "Epoch 5/100\n",
      "10/10 [==============================] - 0s 6ms/step - loss: 369124.4091 - val_loss: 426751.8750\n",
      "Epoch 6/100\n",
      "10/10 [==============================] - 0s 6ms/step - loss: 304179.9787 - val_loss: 425897.8750\n",
      "Epoch 7/100\n",
      "10/10 [==============================] - 0s 6ms/step - loss: 342681.6179 - val_loss: 424561.5938\n",
      "Epoch 8/100\n",
      "10/10 [==============================] - 0s 6ms/step - loss: 372345.0398 - val_loss: 422435.8750\n",
      "Epoch 9/100\n",
      "10/10 [==============================] - 0s 6ms/step - loss: 348274.6605 - val_loss: 419199.4375\n",
      "Epoch 10/100\n",
      "10/10 [==============================] - 0s 6ms/step - loss: 310597.5298 - val_loss: 413709.2812\n",
      "Epoch 11/100\n",
      "10/10 [==============================] - 0s 8ms/step - loss: 396063.6676 - val_loss: 404906.8438\n",
      "Epoch 12/100\n",
      "10/10 [==============================] - 0s 6ms/step - loss: 339063.5554 - val_loss: 391428.7188\n",
      "Epoch 13/100\n",
      "10/10 [==============================] - 0s 6ms/step - loss: 371218.1733 - val_loss: 371198.6250\n",
      "Epoch 14/100\n",
      "10/10 [==============================] - 0s 6ms/step - loss: 305745.4247 - val_loss: 345275.4375\n",
      "Epoch 15/100\n",
      "10/10 [==============================] - 0s 7ms/step - loss: 274430.5966 - val_loss: 312997.2500\n",
      "Epoch 16/100\n",
      "10/10 [==============================] - 0s 6ms/step - loss: 315623.0312 - val_loss: 276702.1250\n",
      "Epoch 17/100\n",
      "10/10 [==============================] - 0s 7ms/step - loss: 160136.4439 - val_loss: 242907.5781\n",
      "Epoch 18/100\n",
      "10/10 [==============================] - 0s 7ms/step - loss: 169460.0497 - val_loss: 207184.4219\n",
      "Epoch 19/100\n",
      "10/10 [==============================] - 0s 7ms/step - loss: 125572.0952 - val_loss: 175083.9062\n",
      "Epoch 20/100\n",
      "10/10 [==============================] - 0s 7ms/step - loss: 95163.6630 - val_loss: 145111.0000\n",
      "Epoch 21/100\n",
      "10/10 [==============================] - 0s 8ms/step - loss: 116446.7031 - val_loss: 120337.5469\n",
      "Epoch 22/100\n",
      "10/10 [==============================] - 0s 7ms/step - loss: 95870.5447 - val_loss: 99771.6406\n",
      "Epoch 23/100\n",
      "10/10 [==============================] - 0s 8ms/step - loss: 88705.9261 - val_loss: 85829.5234\n",
      "Epoch 24/100\n",
      "10/10 [==============================] - 0s 7ms/step - loss: 67391.4237 - val_loss: 76298.8125\n",
      "Epoch 25/100\n",
      "10/10 [==============================] - 0s 8ms/step - loss: 76742.5753 - val_loss: 67477.4062\n",
      "Epoch 26/100\n",
      "10/10 [==============================] - 0s 7ms/step - loss: 62328.9563 - val_loss: 64739.8359\n",
      "Epoch 27/100\n",
      "10/10 [==============================] - 0s 7ms/step - loss: 65283.8040 - val_loss: 59684.3711\n",
      "Epoch 28/100\n",
      "10/10 [==============================] - 0s 7ms/step - loss: 60709.0806 - val_loss: 52659.2969\n",
      "Epoch 29/100\n",
      "10/10 [==============================] - 0s 7ms/step - loss: 48214.0891 - val_loss: 50243.9062\n",
      "Epoch 30/100\n",
      "10/10 [==============================] - 0s 9ms/step - loss: 48932.9471 - val_loss: 46971.6641\n",
      "Epoch 31/100\n",
      "10/10 [==============================] - 0s 18ms/step - loss: 63183.6964 - val_loss: 44791.8594\n",
      "Epoch 32/100\n",
      "10/10 [==============================] - 0s 8ms/step - loss: 45000.0701 - val_loss: 40698.4219\n",
      "Epoch 33/100\n",
      "10/10 [==============================] - 0s 8ms/step - loss: 53044.0204 - val_loss: 38197.8789\n",
      "Epoch 34/100\n",
      "10/10 [==============================] - 0s 8ms/step - loss: 54516.4485 - val_loss: 37072.0664\n",
      "Epoch 35/100\n",
      "10/10 [==============================] - 0s 8ms/step - loss: 70925.0376 - val_loss: 34493.5742\n",
      "Epoch 36/100\n",
      "10/10 [==============================] - 0s 7ms/step - loss: 26449.8018 - val_loss: 33583.3398\n",
      "Epoch 37/100\n",
      "10/10 [==============================] - 0s 7ms/step - loss: 38878.0685 - val_loss: 30938.5059\n",
      "Epoch 38/100\n",
      "10/10 [==============================] - 0s 7ms/step - loss: 42868.4945 - val_loss: 28089.7949\n",
      "Epoch 39/100\n",
      "10/10 [==============================] - 0s 7ms/step - loss: 63751.3029 - val_loss: 26298.5352\n",
      "Epoch 40/100\n",
      "10/10 [==============================] - 0s 7ms/step - loss: 27836.0070 - val_loss: 25422.3828\n",
      "Epoch 41/100\n",
      "10/10 [==============================] - 0s 6ms/step - loss: 29105.0405 - val_loss: 24414.6973\n",
      "Epoch 42/100\n",
      "10/10 [==============================] - 0s 7ms/step - loss: 38193.6918 - val_loss: 22548.1543\n",
      "Epoch 43/100\n",
      "10/10 [==============================] - 0s 7ms/step - loss: 25476.2734 - val_loss: 22733.2832\n",
      "Epoch 44/100\n",
      "10/10 [==============================] - 0s 6ms/step - loss: 31877.9039 - val_loss: 19750.4902\n",
      "Epoch 45/100\n",
      "10/10 [==============================] - 0s 7ms/step - loss: 33855.7351 - val_loss: 17751.1172\n",
      "Epoch 46/100\n",
      "10/10 [==============================] - 0s 7ms/step - loss: 46009.0185 - val_loss: 18213.8945\n",
      "Epoch 47/100\n",
      "10/10 [==============================] - 0s 7ms/step - loss: 26358.8200 - val_loss: 15999.9326\n",
      "Epoch 48/100\n",
      "10/10 [==============================] - 0s 8ms/step - loss: 30268.8193 - val_loss: 13848.4023\n",
      "Epoch 49/100\n",
      "10/10 [==============================] - 0s 7ms/step - loss: 24821.8745 - val_loss: 13615.0029\n",
      "Epoch 50/100\n",
      "10/10 [==============================] - 0s 7ms/step - loss: 22314.1019 - val_loss: 12559.3535\n",
      "Epoch 51/100\n",
      "10/10 [==============================] - 0s 7ms/step - loss: 25468.7120 - val_loss: 12669.9434\n",
      "Epoch 52/100\n",
      "10/10 [==============================] - 0s 16ms/step - loss: 17844.2180 - val_loss: 11626.8242\n",
      "Epoch 53/100\n",
      "10/10 [==============================] - 0s 7ms/step - loss: 16090.5542 - val_loss: 11441.2402\n",
      "Epoch 54/100\n",
      "10/10 [==============================] - 0s 6ms/step - loss: 28952.5582 - val_loss: 11007.2314\n",
      "Epoch 55/100\n",
      "10/10 [==============================] - 0s 6ms/step - loss: 19801.8115 - val_loss: 9262.0283\n",
      "Epoch 56/100\n",
      "10/10 [==============================] - 0s 7ms/step - loss: 27785.5043 - val_loss: 9093.8672\n",
      "Epoch 57/100\n",
      "10/10 [==============================] - 0s 6ms/step - loss: 23296.6036 - val_loss: 9192.0332\n",
      "Epoch 58/100\n",
      "10/10 [==============================] - 0s 6ms/step - loss: 15760.9919 - val_loss: 8475.0146\n",
      "Epoch 59/100\n",
      "10/10 [==============================] - 0s 6ms/step - loss: 8846.3869 - val_loss: 7832.2856\n",
      "Epoch 60/100\n",
      "10/10 [==============================] - 0s 6ms/step - loss: 27271.3221 - val_loss: 7507.9868\n",
      "Epoch 61/100\n",
      "10/10 [==============================] - 0s 6ms/step - loss: 17226.2053 - val_loss: 7558.2910\n",
      "Epoch 62/100\n",
      "10/10 [==============================] - 0s 6ms/step - loss: 27753.2319 - val_loss: 7403.8877\n",
      "Epoch 63/100\n",
      "10/10 [==============================] - 0s 6ms/step - loss: 9953.0667 - val_loss: 6638.5854\n",
      "Epoch 64/100\n",
      "10/10 [==============================] - 0s 6ms/step - loss: 15572.1596 - val_loss: 5850.7520\n",
      "Epoch 65/100\n",
      "10/10 [==============================] - 0s 6ms/step - loss: 15023.0068 - val_loss: 5721.8535\n",
      "Epoch 66/100\n",
      "10/10 [==============================] - 0s 6ms/step - loss: 18801.6523 - val_loss: 5600.6294\n",
      "Epoch 67/100\n",
      "10/10 [==============================] - 0s 6ms/step - loss: 17408.2483 - val_loss: 6022.7236\n",
      "Epoch 68/100\n",
      "10/10 [==============================] - 0s 6ms/step - loss: 35499.6413 - val_loss: 5617.6279\n",
      "Epoch 69/100\n",
      "10/10 [==============================] - 0s 6ms/step - loss: 11896.9470 - val_loss: 5570.2583\n",
      "Epoch 70/100\n",
      "10/10 [==============================] - 0s 6ms/step - loss: 16697.4338 - val_loss: 5866.6958\n",
      "Epoch 71/100\n",
      "10/10 [==============================] - 0s 7ms/step - loss: 11710.9212 - val_loss: 5384.1992\n",
      "Epoch 72/100\n",
      "10/10 [==============================] - 0s 15ms/step - loss: 13383.4856 - val_loss: 4723.1846\n",
      "Epoch 73/100\n",
      "10/10 [==============================] - 0s 6ms/step - loss: 17475.7790 - val_loss: 4521.9463\n",
      "Epoch 74/100\n",
      "10/10 [==============================] - 0s 6ms/step - loss: 11521.9180 - val_loss: 4644.2563\n",
      "Epoch 75/100\n",
      "10/10 [==============================] - 0s 6ms/step - loss: 17819.2401 - val_loss: 4089.8259\n",
      "Epoch 76/100\n",
      "10/10 [==============================] - 0s 6ms/step - loss: 17963.3757 - val_loss: 4143.7827\n",
      "Epoch 77/100\n",
      "10/10 [==============================] - 0s 6ms/step - loss: 18643.9760 - val_loss: 4039.4460\n",
      "Epoch 78/100\n",
      "10/10 [==============================] - 0s 6ms/step - loss: 39721.5023 - val_loss: 3472.8752\n",
      "Epoch 79/100\n",
      "10/10 [==============================] - 0s 6ms/step - loss: 11343.7043 - val_loss: 3329.5857\n",
      "Epoch 80/100\n",
      "10/10 [==============================] - 0s 6ms/step - loss: 17818.2827 - val_loss: 3288.3586\n",
      "Epoch 81/100\n",
      "10/10 [==============================] - 0s 6ms/step - loss: 12479.9783 - val_loss: 3405.6765\n",
      "Epoch 82/100\n",
      "10/10 [==============================] - 0s 6ms/step - loss: 19397.1937 - val_loss: 3964.6709\n",
      "Epoch 83/100\n",
      "10/10 [==============================] - 0s 6ms/step - loss: 14526.6158 - val_loss: 3373.1648\n",
      "Epoch 84/100\n",
      "10/10 [==============================] - 0s 6ms/step - loss: 13142.2596 - val_loss: 3237.0391\n",
      "Epoch 85/100\n",
      "10/10 [==============================] - 0s 7ms/step - loss: 16034.0076 - val_loss: 3661.9846\n",
      "Epoch 86/100\n",
      "10/10 [==============================] - 0s 6ms/step - loss: 17651.9862 - val_loss: 4801.9419\n",
      "Epoch 87/100\n",
      "10/10 [==============================] - 0s 6ms/step - loss: 13194.8925 - val_loss: 4214.5020\n",
      "Epoch 88/100\n",
      "10/10 [==============================] - 0s 7ms/step - loss: 11850.6314 - val_loss: 2860.8938\n",
      "Epoch 89/100\n",
      "10/10 [==============================] - 0s 7ms/step - loss: 11263.4285 - val_loss: 2873.0449\n",
      "Epoch 90/100\n",
      "10/10 [==============================] - 0s 6ms/step - loss: 13654.4450 - val_loss: 3552.7925\n",
      "Epoch 91/100\n",
      "10/10 [==============================] - 0s 6ms/step - loss: 8086.9913 - val_loss: 3865.1108\n",
      "Epoch 92/100\n",
      "10/10 [==============================] - 0s 15ms/step - loss: 10031.1154 - val_loss: 3580.3550\n",
      "Epoch 93/100\n",
      "10/10 [==============================] - 0s 7ms/step - loss: 8324.0655 - val_loss: 3063.2588\n"
     ]
    },
    {
     "data": {
      "image/png": "[encoded data removed]",
      "text/plain": [
       "<Figure size 720x432 with 1 Axes>"
      ]
     },
     "metadata": {
      "needs_background": "light"
     },
     "output_type": "display_data"
    }
   ],
   "source": [
    "model = lazy_dnn(train_in = train , val_in = val\n",
    "                , target_in = 'num3'\n",
    "                , num_col_in = ['num1','num2']\n",
    "                , cat_col_in = ['cat1']\n",
    "                , node_in = [64,32,16]\n",
    "                , train_batch = 10 , val_batch = 10 \n",
    "                , epochs = 100\n",
    "                , normalize = True , embedded_size = 16, drop_out_ratio = 0.1\n",
    "                , patience_in = 5 , debug = True) "
   ]
  },
  {
   "cell_type": "markdown",
   "id": "acquired-transport",
   "metadata": {},
   "source": [
    "# Prediction Phase"
   ]
  },
  {
   "cell_type": "code",
   "execution_count": 10,
   "id": "early-question",
   "metadata": {},
   "outputs": [
    {
     "data": {
      "text/plain": [
       "array([ 62.56242 ,  23.956434, 114.336876,  23.729815, 105.35417 ,\n",
       "       122.149734,  24.27371 ,  24.19849 ,  57.918472, 217.04904 ,\n",
       "        26.338394,  57.674805, 218.6401  ,  28.250418,  56.732536,\n",
       "       293.6897  , 291.1914  ,  35.424614,  78.47526 ,  72.82402 ],\n",
       "      dtype=float32)"
      ]
     },
     "execution_count": 10,
     "metadata": {},
     "output_type": "execute_result"
    }
   ],
   "source": [
    "model.predict(dict(test)).flatten()"
   ]
  },
  {
   "cell_type": "code",
   "execution_count": 11,
   "id": "intelligent-arthur",
   "metadata": {},
   "outputs": [
    {
     "data": {
      "text/plain": [
       "<AxesSubplot:>"
      ]
     },
     "execution_count": 11,
     "metadata": {},
     "output_type": "execute_result"
    },
    {
     "data": {
      "image/png": "[encoded data removed]",
      "text/plain": [
       "<Figure size 1080x360 with 1 Axes>"
      ]
     },
     "metadata": {
      "needs_background": "light"
     },
     "output_type": "display_data"
    }
   ],
   "source": [
    "test['predict'] = model.predict(dict(test)).flatten()\n",
    "test[['num3','predict']].plot(figsize = (15,5))"
   ]
  }
 ],
 "metadata": {
  "kernelspec": {
   "display_name": "Python 3 (ipykernel)",
   "language": "python",
   "name": "python3"
  },
  "language_info": {
   "codemirror_mode": {
    "name": "ipython",
    "version": 3
   },
   "file_extension": ".py",
   "mimetype": "text/x-python",
   "name": "python",
   "nbconvert_exporter": "python",
   "pygments_lexer": "ipython3",
   "version": "3.9.8"
  }
 },
 "nbformat": 4,
 "nbformat_minor": 5
}
