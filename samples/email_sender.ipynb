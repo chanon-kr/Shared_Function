{
 "cells": [
  {
   "cell_type": "markdown",
   "metadata": {},
   "source": [
    "# For my Safety reason, load setting file from tests folder"
   ]
  },
  {
   "cell_type": "code",
   "execution_count": 1,
   "metadata": {},
   "outputs": [
    {
     "name": "stdout",
     "output_type": "stream",
     "text": [
      "First Directory at : \\01_DEV_Function\\Shared_Function\\samples\n",
      "Change to : \\01_DEV_Function\\Shared_Function\\tests\n",
      "Load Setting OK\n",
      "Change back to : \\01_DEV_Function\\Shared_Function\\samples\n"
     ]
    }
   ],
   "source": [
    "import os, re,json, imp\n",
    "import pandas as pd\n",
    "\n",
    "local_library = True\n",
    "#local_library = False\n",
    "\n",
    "first_wd = os.getcwd()\n",
    "print('First Directory at :', os.getcwd()[2:])\n",
    "\n",
    "os.chdir(re.sub(os.getcwd().split('\\\\')[-1]+'$','',os.getcwd()) + 'tests')\n",
    "print('Change to :', os.getcwd()[2:])\n",
    "#Load Setting File\n",
    "with open('setting.txt','r') as f:\n",
    "    setting = json.load(f)\n",
    "print('Load Setting OK') \n",
    "\n",
    "os.chdir(first_wd)\n",
    "print('Change back to :', os.getcwd()[2:])"
   ]
  },
  {
   "cell_type": "code",
   "execution_count": 3,
   "metadata": {},
   "outputs": [
    {
     "data": {
      "text/plain": [
       "dict_keys(['user', 'password', 'to', 'server', 'file_path_1', 'file_path_2'])"
      ]
     },
     "execution_count": 3,
     "metadata": {},
     "output_type": "execute_result"
    }
   ],
   "source": [
    "mail_set = setting['email']\n",
    "mail_set.keys()"
   ]
  },
  {
   "cell_type": "markdown",
   "metadata": {},
   "source": [
    "# Working with email_sender"
   ]
  },
  {
   "cell_type": "code",
   "execution_count": 2,
   "metadata": {},
   "outputs": [
    {
     "name": "stdout",
     "output_type": "stream",
     "text": [
      "Change Directory into : \\01_DEV_Function\\Shared_Function\n",
      "Change back to : \\01_DEV_Function\\Shared_Function\\samples\n"
     ]
    }
   ],
   "source": [
    "os.chdir(re.sub(os.getcwd().split('\\\\')[-1]+'$','',os.getcwd()))\n",
    "print('Change Directory into :', os.getcwd()[2:])\n",
    "\n",
    "if local_library : \n",
    "    email_sender = imp.load_source('email_sender', 'py_topping/general_use/__init__.py').email_sender\n",
    "else :\n",
    "    from py_topping.general_use import email_sender\n",
    "    \n",
    "os.chdir(first_wd)\n",
    "print('Change back to :', os.getcwd()[2:])"
   ]
  },
  {
   "cell_type": "markdown",
   "metadata": {},
   "source": [
    "## Create Connection"
   ]
  },
  {
   "cell_type": "code",
   "execution_count": 4,
   "metadata": {},
   "outputs": [],
   "source": [
    "es = email_sender(user = mail_set['user'], password = mail_set['password'] , servername = mail_set['server'] )"
   ]
  },
  {
   "cell_type": "markdown",
   "metadata": {},
   "source": [
    "## Send Email"
   ]
  },
  {
   "cell_type": "code",
   "execution_count": 5,
   "metadata": {},
   "outputs": [
    {
     "data": {
      "text/plain": [
       "'Send OK'"
      ]
     },
     "execution_count": 5,
     "metadata": {},
     "output_type": "execute_result"
    }
   ],
   "source": [
    "es.send(sendto = mail_set['to'] , \n",
    "        subject = 'TEST_SUBJECT', \n",
    "        text_in = 'TEXT BODY')"
   ]
  },
  {
   "cell_type": "markdown",
   "metadata": {},
   "source": [
    "## Send Email to many receivers\n",
    "\n",
    "by divide email with \";\""
   ]
  },
  {
   "cell_type": "code",
   "execution_count": 5,
   "metadata": {},
   "outputs": [
    {
     "data": {
      "text/plain": [
       "'Send OK'"
      ]
     },
     "execution_count": 5,
     "metadata": {},
     "output_type": "execute_result"
    }
   ],
   "source": [
    "es.send(sendto = mail_set['to'] + ';' + mail_set['to'] , \n",
    "        subject = 'TEST_SUBJECT', \n",
    "        text_in = 'TEXT BODY')"
   ]
  },
  {
   "cell_type": "markdown",
   "metadata": {},
   "source": [
    "## Send Email with Attachment\n",
    "\n",
    "by add list of paths in \"attachment\" parameter"
   ]
  },
  {
   "cell_type": "code",
   "execution_count": 5,
   "metadata": {},
   "outputs": [
    {
     "data": {
      "text/plain": [
       "'Send OK'"
      ]
     },
     "execution_count": 5,
     "metadata": {},
     "output_type": "execute_result"
    }
   ],
   "source": [
    "es.send(sendto = mail_set['to'] , \n",
    "        subject = 'TEST_SUBJECT', \n",
    "        text_in = 'TEXT BODY', \n",
    "        attachment = [mail_set['file_path_1'] , mail_set['file_path_2']])"
   ]
  }
 ],
 "metadata": {
  "kernelspec": {
   "display_name": "Python 3",
   "language": "python",
   "name": "python3"
  },
  "language_info": {
   "codemirror_mode": {
    "name": "ipython",
    "version": 3
   },
   "file_extension": ".py",
   "mimetype": "text/x-python",
   "name": "python",
   "nbconvert_exporter": "python",
   "pygments_lexer": "ipython3",
   "version": "3.7.6"
  }
 },
 "nbformat": 4,
 "nbformat_minor": 4
}
