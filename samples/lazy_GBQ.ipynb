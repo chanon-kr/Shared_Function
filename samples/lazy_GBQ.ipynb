{
 "cells": [
  {
   "cell_type": "markdown",
   "metadata": {},
   "source": [
    "# Install Dependencies\n",
    "\n",
    " - ```pip install google-cloud-bigquery```\n",
    " - ```pip install pandas-gbq```<br> \n",
    "\n",
    "# Import Library"
   ]
  },
  {
   "cell_type": "code",
   "execution_count": null,
   "metadata": {},
   "outputs": [],
   "source": [
    "from py_topping.data_connection.gcp import lazy_GBQ"
   ]
  },
  {
   "cell_type": "markdown",
   "metadata": {},
   "source": [
    "# Initiate Class"
   ]
  },
  {
   "cell_type": "code",
   "execution_count": null,
   "metadata": {},
   "outputs": [],
   "source": [
    "gbq = lazy_GBQ(project_id = '{Your Project ID}'\n",
    "             , dataset_id = '{Default Dataset for get_draft_schema method (Optional)}'\n",
    "             , credential_path = '{Path to Your Credential Json File (Optional)}'\n",
    "             , mute = '{Boolean, if mute = True, lazy_GBQ will not display debug message (default False)}')"
   ]
  },
  {
   "cell_type": "markdown",
   "metadata": {},
   "source": [
    "# To Create Schema from existing Pandas DataFrame"
   ]
  },
  {
   "cell_type": "code",
   "execution_count": null,
   "metadata": {},
   "outputs": [],
   "source": [
    "gbq.get_draft_schema(dataframe= '{Pandas DataFrame}'\n",
    "                    , schema_path= '{Output Path of schema (Default schema.json)}')"
   ]
  },
  {
   "cell_type": "markdown",
   "metadata": {},
   "source": [
    "# To Insert into a BigQuery partitioned table"
   ]
  },
  {
   "cell_type": "code",
   "execution_count": null,
   "metadata": {},
   "outputs": [],
   "source": [
    "gbq.partition_insert(dataframe= '{Your input Pandas DataFrame}',\n",
    "                     table_name= '{Your Target Table Name}',\n",
    "                     schema_path= '{Path to your schema file}',\n",
    "                     table_parameter=  { \n",
    "                                        'clustering_fields' : ['{Cluster Column1}', ... ,'{Cluster Column4}'],\n",
    "                                        'description' : '{Description of your table}',\n",
    "                                        'labels' : {'key1' : 'value1', ... , 'keyN' : 'valueN'},\n",
    "                                        'partition_column' : '{Your Partition Column}',\n",
    "                                        'require_partition_filter' : '{A boolean to require partition filter or not}',\n",
    "                                        'partition_type' : '{Could be range, day, month, year}',\n",
    "                                        'range_partition_start' : '{Integer of where partition start, (when partition type is range)}',\n",
    "                                        'range_partition_end' : '{Integer of where partition end, (when partition type is range)}',\n",
    "                                        'range_partition_interval' : '{Integer of partition interval, (when partition type is range)}',\n",
    "                                        }, # Can skip this parameter if table already exists\n",
    "                     ignore_create_parameter= '{A boolean to not raise alert when table not exists and doesnot have config, default False}'\n",
    "                     )"
   ]
  }
 ],
 "metadata": {
  "language_info": {
   "name": "python"
  }
 },
 "nbformat": 4,
 "nbformat_minor": 2
}
