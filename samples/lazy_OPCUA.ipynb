{
 "cells": [
  {
   "cell_type": "markdown",
   "metadata": {},
   "source": [
    "# Load required library\n",
    "\n",
    "- pip install opcua"
   ]
  },
  {
   "cell_type": "code",
   "execution_count": null,
   "metadata": {},
   "outputs": [],
   "source": [
    "from py_topping.data_connection.opc import lazy_OPCUA"
   ]
  },
  {
   "cell_type": "markdown",
   "metadata": {},
   "source": [
    "# Initial Object"
   ]
  },
  {
   "cell_type": "code",
   "execution_count": null,
   "metadata": {},
   "outputs": [],
   "source": [
    "ua = lazy_OPCUA(\n",
    "                url = 'YOUR OPCUA URL' # Example opc.tcp://localhost:1234\n",
    "              , user = 'Your user' # Default '' for no user\n",
    "              , password = 'Your password' # Default '' for no password\n",
    ")"
   ]
  },
  {
   "cell_type": "markdown",
   "metadata": {},
   "source": [
    "# Read node(s) value"
   ]
  },
  {
   "cell_type": "code",
   "execution_count": null,
   "metadata": {},
   "outputs": [],
   "source": [
    "# for single node\n",
    "node = 'Your node name'\n",
    "ua.read(  node = node\n",
    "        , full_value = False # False for only value, True for Full value from OPC\n",
    ")\n",
    "\n",
    "# for Multiple nodes\n",
    "node = ['Your node name1', 'name2', 'name3' ]\n",
    "ua.read(  node = node\n",
    "        , full_value = False # False for only value, True for Full value from OPC\n",
    ")"
   ]
  },
  {
   "cell_type": "markdown",
   "metadata": {},
   "source": [
    "# Write node(s) with new value"
   ]
  },
  {
   "cell_type": "code",
   "execution_count": null,
   "metadata": {},
   "outputs": [],
   "source": [
    "# for single node\n",
    "node = 'Your node name'\n",
    "value = 'Your value'\n",
    "ua.write(  node = node\n",
    "        ,  value = value\n",
    ")\n",
    "\n",
    "# for Multiple nodes\n",
    "node = ['Your node name1', 'name2', 'name3' ]\n",
    "value = ['Your value1', 'value2', 'value3' ]\n",
    "ua.write(  node = node\n",
    "        ,  value = value\n",
    ")"
   ]
  }
 ],
 "metadata": {
  "kernelspec": {
   "display_name": "Python 3.9.8 64-bit ('main': venv)",
   "language": "python",
   "name": "python3"
  },
  "language_info": {
   "name": "python",
   "version": "3.9.8"
  },
  "orig_nbformat": 4,
  "vscode": {
   "interpreter": {
    "hash": "de9f1e98d91541ea8e14294afe2cc1370eef7c1892b96b8ead4ce41ab544dcec"
   }
  }
 },
 "nbformat": 4,
 "nbformat_minor": 2
}
