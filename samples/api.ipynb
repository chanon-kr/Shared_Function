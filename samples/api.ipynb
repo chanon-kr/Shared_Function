{
 "cells": [
  {
   "cell_type": "markdown",
   "id": "ce6e329d",
   "metadata": {},
   "source": [
    "# Install Dependencies\n",
    "- ```pip install fastapi```<br>\n",
    "- ```pip install uvicorn```\n",
    "\n",
    "# Server\n",
    "## Import Library"
   ]
  },
  {
   "cell_type": "code",
   "execution_count": null,
   "id": "1cd71220",
   "metadata": {},
   "outputs": [],
   "source": [
    "from py_topping.run_pipeline.api import lazy_API"
   ]
  },
  {
   "cell_type": "markdown",
   "id": "9aa57f58",
   "metadata": {},
   "source": [
    "## Initiate API"
   ]
  },
  {
   "cell_type": "code",
   "execution_count": null,
   "id": "e60530c8",
   "metadata": {},
   "outputs": [],
   "source": [
    "app = lazy_API(   title = 'title'\n",
    "                , version = 1\n",
    "                , description= 'testing api'\n",
    "                , username = 'user' # Default 'user'\n",
    "                , password = 'password' # Default 'password'\n",
    "                , api_weak_authen = False # Default False\n",
    "              )"
   ]
  },
  {
   "attachments": {},
   "cell_type": "markdown",
   "id": "c579bfd5",
   "metadata": {},
   "source": [
    "## Create API\n",
    "### Post method with Body parameter"
   ]
  },
  {
   "cell_type": "code",
   "execution_count": null,
   "id": "fc5afa23",
   "metadata": {},
   "outputs": [],
   "source": [
    "# Create API from Lambda\n",
    "app.create_post(  function = lambda x : x['a'] + x['b'] # Use Lambda\n",
    "                , name = 'cal_1'\n",
    "                , tags = ['cal'] # Default []\n",
    "                , example = {'a' : 1, 'b' : 2}) # Default {}\n",
    "\n",
    "# Create API from UDF\n",
    "def cal_2(x) :\n",
    "    return x['x'] - x['y']\n",
    "app.create_post(  function = cal_2\n",
    "                , name = 'cal_2'\n",
    "                , tags = ['cal'] # Default []\n",
    "                , example = {'x' : 10, 'y' : 20}) # Default {}"
   ]
  },
  {
   "attachments": {},
   "cell_type": "markdown",
   "id": "ef49eaca",
   "metadata": {},
   "source": [
    "### Get Method with Query parameter"
   ]
  },
  {
   "cell_type": "code",
   "execution_count": null,
   "id": "44956928",
   "metadata": {},
   "outputs": [],
   "source": [
    "def cal_3(x) :\n",
    "    return x['x'] + x['y']\n",
    "\n",
    "# Create API from UDF (also work with Lambda)\n",
    "app.create_get( function = cal_3\n",
    "              , name = 'cal_3'\n",
    "              , tags = ['cal_get']) # Default []"
   ]
  },
  {
   "cell_type": "markdown",
   "id": "3b623f74",
   "metadata": {},
   "source": [
    "## RUN API"
   ]
  },
  {
   "cell_type": "code",
   "execution_count": null,
   "id": "856d5325",
   "metadata": {},
   "outputs": [],
   "source": [
    "if __name__ == \"__main__\" : \n",
    "    app.run(\n",
    "             port =8080 # Default 8080\n",
    "           , host = \"0.0.0.0\" # Default \"0.0.0.0\"\n",
    "           )"
   ]
  },
  {
   "attachments": {},
   "cell_type": "markdown",
   "id": "e8f626f0",
   "metadata": {},
   "source": [
    "---\n",
    "# Client\n",
    "## POST If `api_weak_authen` is FALSE"
   ]
  },
  {
   "cell_type": "code",
   "execution_count": null,
   "id": "b06d8d87",
   "metadata": {},
   "outputs": [],
   "source": [
    "import requests\n",
    "from requests.auth import HTTPBasicAuth\n",
    "\n",
    "r = requests.post('http://localhost:8080/cal_2'\n",
    "                 , json = {'x' : 10, 'y' : 20}\n",
    "                 , auth=HTTPBasicAuth('user', 'password')\n",
    "                 )\n",
    "\n",
    "print(r, r.content)"
   ]
  },
  {
   "attachments": {},
   "cell_type": "markdown",
   "id": "90e63377",
   "metadata": {},
   "source": [
    "## POST If `api_weak_authen` is TRUE"
   ]
  },
  {
   "cell_type": "code",
   "execution_count": null,
   "id": "3b001228",
   "metadata": {},
   "outputs": [],
   "source": [
    "import requests\n",
    "\n",
    "r = requests.post('http://localhost:8080/cal_2'\n",
    "                 , json = {'username' : 'user' , 'password' : 'password'\n",
    "                           ,'x' : 10, 'y' : 20}\n",
    "                 )\n",
    "\n",
    "print(r, r.content)"
   ]
  },
  {
   "attachments": {},
   "cell_type": "markdown",
   "id": "8dea1823",
   "metadata": {},
   "source": [
    "## GET If `api_weak_authen` is FALSE"
   ]
  },
  {
   "cell_type": "code",
   "execution_count": null,
   "id": "4040f862",
   "metadata": {},
   "outputs": [],
   "source": [
    "import requests\n",
    "from requests.auth import HTTPBasicAuth\n",
    "\n",
    "r = requests.get('http://localhost:8080/cal_3'\n",
    "                 , params = {'x' : 10, 'y' : 20}\n",
    "                 , auth=HTTPBasicAuth('user', 'password')\n",
    "                 )\n",
    "\n",
    "print(r, r.content)"
   ]
  },
  {
   "attachments": {},
   "cell_type": "markdown",
   "id": "a76f737d",
   "metadata": {},
   "source": [
    "## GET If `api_weak_authen` is TRUE"
   ]
  },
  {
   "cell_type": "code",
   "execution_count": null,
   "id": "6ddfc9a3",
   "metadata": {},
   "outputs": [],
   "source": [
    "import requests\n",
    "from requests.auth import HTTPBasicAuth\n",
    "\n",
    "r = requests.get('http://localhost:8080/cal_3'\n",
    "                 , params = {'username' : 'user' , 'password' : 'password'\n",
    "                            ,'x' : 10, 'y' : 20}\n",
    "                 )\n",
    "\n",
    "print(r, r.content)"
   ]
  }
 ],
 "metadata": {
  "kernelspec": {
   "display_name": "main",
   "language": "python",
   "name": "python3"
  },
  "language_info": {
   "codemirror_mode": {
    "name": "ipython",
    "version": 3
   },
   "file_extension": ".py",
   "mimetype": "text/x-python",
   "name": "python",
   "nbconvert_exporter": "python",
   "pygments_lexer": "ipython3",
   "version": "3.9.8 (tags/v3.9.8:bb3fdcf, Nov  5 2021, 20:48:33) [MSC v.1929 64 bit (AMD64)]"
  },
  "vscode": {
   "interpreter": {
    "hash": "de9f1e98d91541ea8e14294afe2cc1370eef7c1892b96b8ead4ce41ab544dcec"
   }
  }
 },
 "nbformat": 4,
 "nbformat_minor": 5
}
