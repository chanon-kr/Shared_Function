{
 "cells": [
  {
   "cell_type": "markdown",
   "id": "automated-material",
   "metadata": {},
   "source": [
    "Line Notify allow you to send message to Line group with API<br>\n",
    "All you need is to generate group's token from https://notify-bot.line.me/en"
   ]
  },
  {
   "cell_type": "code",
   "execution_count": 1,
   "id": "extended-landing",
   "metadata": {},
   "outputs": [],
   "source": [
    "from py_topping.general_use import lazy_LINE"
   ]
  },
  {
   "cell_type": "markdown",
   "id": "fabulous-princeton",
   "metadata": {},
   "source": [
    "## Initial with Token"
   ]
  },
  {
   "cell_type": "code",
   "execution_count": 2,
   "id": "driven-danger",
   "metadata": {},
   "outputs": [],
   "source": [
    "line = lazy_LINE(token = 'YOUR TOKEN')"
   ]
  },
  {
   "cell_type": "markdown",
   "id": "decent-thumbnail",
   "metadata": {},
   "source": [
    "## More about Line Notify in these links"
   ]
  },
  {
   "cell_type": "code",
   "execution_count": 3,
   "id": "expressed-frequency",
   "metadata": {},
   "outputs": [
    {
     "name": "stdout",
     "output_type": "stream",
     "text": [
      "Main Page : https://notify-bot.line.me/en\n",
      "Doc : https://notify-bot.line.me/doc/en\n",
      "Sticker List : https://developers.line.biz/en/docs/messaging-api/sticker-list\n"
     ]
    }
   ],
   "source": [
    "line.help()"
   ]
  },
  {
   "cell_type": "markdown",
   "id": "hybrid-injury",
   "metadata": {},
   "source": [
    "## Send Simple Message"
   ]
  },
  {
   "cell_type": "code",
   "execution_count": null,
   "id": "distributed-polls",
   "metadata": {},
   "outputs": [],
   "source": [
    "line.send('Simple Message')"
   ]
  },
  {
   "cell_type": "markdown",
   "id": "bacterial-emperor",
   "metadata": {},
   "source": [
    "## Send Message with Sticker"
   ]
  },
  {
   "cell_type": "code",
   "execution_count": null,
   "id": "subject-venice",
   "metadata": {},
   "outputs": [],
   "source": [
    "line.send('Simple Message'\n",
    "          , stickerPackageId = 'PackageID for Sticker List'\n",
    "          , stickerId = 'StickerId for Sticker List')"
   ]
  }
 ],
 "metadata": {
  "kernelspec": {
   "display_name": "Python 3",
   "language": "python",
   "name": "python3"
  },
  "language_info": {
   "codemirror_mode": {
    "name": "ipython",
    "version": 3
   },
   "file_extension": ".py",
   "mimetype": "text/x-python",
   "name": "python",
   "nbconvert_exporter": "python",
   "pygments_lexer": "ipython3",
   "version": "3.7.6"
  }
 },
 "nbformat": 4,
 "nbformat_minor": 5
}
