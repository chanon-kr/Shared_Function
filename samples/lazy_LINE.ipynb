{
 "cells": [
  {
   "cell_type": "markdown",
   "id": "elect-ocean",
   "metadata": {},
   "source": [
    "# Article about this notebook\n",
    " - https://faun.pub/send-message-in-line-with-python-ff5147ca0a2d\n",
    "\n",
    "Line Notify allow you to send message to Line group with API<br>\n",
    "All you need is to generate group's token from https://notify-bot.line.me/en"
   ]
  },
  {
   "cell_type": "code",
   "execution_count": 1,
   "id": "outside-vertex",
   "metadata": {},
   "outputs": [],
   "source": [
    "from py_topping.general_use import lazy_LINE"
   ]
  },
  {
   "cell_type": "markdown",
   "id": "chronic-bristol",
   "metadata": {},
   "source": [
    "## Initial with Token"
   ]
  },
  {
   "cell_type": "code",
   "execution_count": 2,
   "id": "relative-knowing",
   "metadata": {},
   "outputs": [],
   "source": [
    "line = lazy_LINE(token = 'YOUR TOKEN', timeout = 60)"
   ]
  },
  {
   "cell_type": "markdown",
   "id": "fdb9709a",
   "metadata": {},
   "source": [
    "### List of Parameter\n",
    " - **token** : Your LINE token (String)\n",
    " - **timeout** : Default timeout of LINE sending request in second(s) (int), default 60"
   ]
  },
  {
   "cell_type": "markdown",
   "id": "posted-cookbook",
   "metadata": {},
   "source": [
    "## More about Line Notify in these links"
   ]
  },
  {
   "cell_type": "code",
   "execution_count": 3,
   "id": "respected-animation",
   "metadata": {},
   "outputs": [
    {
     "name": "stdout",
     "output_type": "stream",
     "text": [
      "Main Page : https://notify-bot.line.me/en\n",
      "Doc : https://notify-bot.line.me/doc/en\n",
      "Sticker List : https://developers.line.biz/en/docs/messaging-api/sticker-list\n"
     ]
    }
   ],
   "source": [
    "line.help()"
   ]
  },
  {
   "cell_type": "markdown",
   "id": "facial-beatles",
   "metadata": {},
   "source": [
    "## Send Method"
   ]
  },
  {
   "cell_type": "code",
   "execution_count": null,
   "id": "dynamic-punch",
   "metadata": {},
   "outputs": [],
   "source": [
    "line.send(message, notification = True , stickerPackageId = '', stickerId = '', picture = '', timeout = None)"
   ]
  },
  {
   "cell_type": "markdown",
   "id": "personal-temple",
   "metadata": {},
   "source": [
    "### List of Parameter\n",
    " - **message** : Message to Send in Line (String)\n",
    " - **notification** : To Notify or Not (Boolean)\n",
    " - **stickerPackageId** : ID of sticker's package that you want to send (String)\n",
    " - **stickerId**  : ID of sticker that you want to send (String)\n",
    " - **picture** : Path to your picture (String)\n",
    " - **timeout** : Specific timeout in second(s) (int), if None >> use default timeout from class \n",
    "\n",
    "**Return** : requests class (will Send LINE Message to LINE Group)"
   ]
  },
  {
   "cell_type": "markdown",
   "id": "exotic-albany",
   "metadata": {},
   "source": [
    "## Sample of Send Simple Message"
   ]
  },
  {
   "cell_type": "code",
   "execution_count": null,
   "id": "facial-locator",
   "metadata": {},
   "outputs": [],
   "source": [
    "line.send('Simple Message')"
   ]
  },
  {
   "cell_type": "markdown",
   "id": "cea7176a",
   "metadata": {},
   "source": [
    "## Sample of Send Message with 5 seconds timeout\n",
    "Added in 0.3.12"
   ]
  },
  {
   "cell_type": "code",
   "execution_count": null,
   "id": "7f19784b",
   "metadata": {},
   "outputs": [],
   "source": [
    "line.send('Simple Message' , timeout = 5)"
   ]
  },
  {
   "cell_type": "markdown",
   "id": "aware-commons",
   "metadata": {},
   "source": [
    "## Sample of Send Message with Sticker"
   ]
  },
  {
   "cell_type": "code",
   "execution_count": null,
   "id": "limiting-conference",
   "metadata": {},
   "outputs": [],
   "source": [
    "line.send('Simple Message'\n",
    "          , stickerPackageId = 'PackageID for Sticker List'\n",
    "          , stickerId = 'StickerId for Sticker List')"
   ]
  },
  {
   "cell_type": "markdown",
   "id": "palestinian-relations",
   "metadata": {},
   "source": [
    "## Sample of Send Message with Picture"
   ]
  },
  {
   "cell_type": "code",
   "execution_count": null,
   "id": "exceptional-cabin",
   "metadata": {},
   "outputs": [],
   "source": [
    "line.send('Simple Message'\n",
    "          , picture = 'Path to your picture')"
   ]
  },
  {
   "cell_type": "markdown",
   "id": "legislative-aberdeen",
   "metadata": {},
   "source": [
    "## Sample of Send Message without Notification"
   ]
  },
  {
   "cell_type": "code",
   "execution_count": null,
   "id": "historical-impossible",
   "metadata": {},
   "outputs": [],
   "source": [
    "line.send('Simple Message'\n",
    "          , notification = False) "
   ]
  },
  {
   "cell_type": "markdown",
   "id": "governmental-shame",
   "metadata": {},
   "source": [
    "## Combine All"
   ]
  },
  {
   "cell_type": "code",
   "execution_count": null,
   "id": "charitable-metallic",
   "metadata": {},
   "outputs": [],
   "source": [
    "line.send('Simple Message'\n",
    "          , notification = False \n",
    "          , stickerPackageId = 'PackageID for Sticker List'\n",
    "          , stickerId = 'StickerId for Sticker List'\n",
    "          , picture = 'Path to your picture'\n",
    "          , timeout = 5)"
   ]
  }
 ],
 "metadata": {
  "kernelspec": {
   "display_name": "Python 3 (ipykernel)",
   "language": "python",
   "name": "python3"
  },
  "language_info": {
   "codemirror_mode": {
    "name": "ipython",
    "version": 3
   },
   "file_extension": ".py",
   "mimetype": "text/x-python",
   "name": "python",
   "nbconvert_exporter": "python",
   "pygments_lexer": "ipython3",
   "version": "3.9.8"
  }
 },
 "nbformat": 4,
 "nbformat_minor": 5
}
