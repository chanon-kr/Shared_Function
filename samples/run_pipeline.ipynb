{
 "cells": [
  {
   "cell_type": "markdown",
   "metadata": {},
   "source": [
    "## Load Required Libraries<br>\n",
    "**Standard Process**\n",
    " - ```pip install papermill```<br>\n",
    " - ```pip install jupyter```<br> \n",
    " - ```pip install notebook```<br>\n",
    " \n",
    "**Email Process**\n",
    " - Same as email_sender\n",
    " \n",
    "**SQL Log Process**\n",
    " - Same as da_tran_SQL"
   ]
  },
  {
   "cell_type": "markdown",
   "metadata": {},
   "source": [
    "# For my Safety reason, load setting file"
   ]
  },
  {
   "cell_type": "code",
   "execution_count": 1,
   "metadata": {},
   "outputs": [],
   "source": [
    "import os, re,json\n",
    "import pandas as pd\n",
    "\n",
    "with open('setting.txt','r') as f:\n",
    "    setting = json.load(f)"
   ]
  },
  {
   "cell_type": "code",
   "execution_count": 2,
   "metadata": {},
   "outputs": [
    {
     "data": {
      "text/plain": [
       "dict_keys(['type', 'host', 'database', 'user', 'password'])"
      ]
     },
     "execution_count": 2,
     "metadata": {},
     "output_type": "execute_result"
    }
   ],
   "source": [
    "sql_setting = setting['MSSQL']\n",
    "sql_setting.keys()"
   ]
  },
  {
   "cell_type": "code",
   "execution_count": 3,
   "metadata": {},
   "outputs": [
    {
     "data": {
      "text/plain": [
       "dict_keys(['user', 'password', 'to', 'server', 'file_path_1', 'file_path_2'])"
      ]
     },
     "execution_count": 3,
     "metadata": {},
     "output_type": "execute_result"
    }
   ],
   "source": [
    "mail_setting = setting['email']\n",
    "mail_setting.keys()"
   ]
  },
  {
   "cell_type": "markdown",
   "metadata": {},
   "source": [
    "# Working with run_pipeline "
   ]
  },
  {
   "cell_type": "code",
   "execution_count": 4,
   "metadata": {},
   "outputs": [],
   "source": [
    "from py_topping.run_pipeline import run_pipeline"
   ]
  },
  {
   "cell_type": "code",
   "execution_count": null,
   "metadata": {},
   "outputs": [],
   "source": [
    "run_pipeline(script_list = []\n",
    "             , out_prefix = None\n",
    "             , out_folder = ''\n",
    "             , email_dict = None\n",
    "             , sending = False\n",
    "             , only_error = False\n",
    "             , notebook_attached = False\n",
    "             , attached_only_error = False\n",
    "             , attached_log = False\n",
    "             , log_sql = None)"
   ]
  },
  {
   "cell_type": "markdown",
   "metadata": {},
   "source": [
    "### List of Parameter    \n",
    "- **script_list :** List of Script File to Run (.py or .ipynb)<br>\n",
    "- **out_prefix :** Prefix of .ipynb output files<br>\n",
    "- **out_folder :** Folder to contain .ipynb output files<br>\n",
    "- **email_dict :**  Email config<br>\n",
    "- **sending :** Send Run Result in Email or Not (True/False)<br>\n",
    "- **only_error :** Only send email when there're error in result (True/False)<br>\n",
    "- **notebook_attached :** Attached notebook in email or not (True/False)<br>\n",
    "- **attached_only_error :** Only Attached Error Notebook in email or not (True/False)<br>\n",
    "- **attached_log :** Attached Result as csv file in email or not (True/False)<br>\n",
    "- **log_sql :** SQL config\n",
    "\n",
    "**Return :** Pandas DataFrame of Run Result"
   ]
  },
  {
   "cell_type": "markdown",
   "metadata": {},
   "source": [
    "# Simple Run All Script"
   ]
  },
  {
   "cell_type": "code",
   "execution_count": 6,
   "metadata": {},
   "outputs": [
    {
     "data": {
      "application/vnd.jupyter.widget-view+json": {
       "model_id": "ddb4914ba91c479688879d84928fcfb6",
       "version_major": 2,
       "version_minor": 0
      },
      "text/plain": [
       "HBox(children=(FloatProgress(value=0.0, description='Executing', max=1.0, style=ProgressStyle(description_widt…"
      ]
     },
     "metadata": {},
     "output_type": "display_data"
    },
    {
     "name": "stdout",
     "output_type": "stream",
     "text": [
      "\n"
     ]
    },
    {
     "data": {
      "text/html": [
       "<div>\n",
       "<style scoped>\n",
       "    .dataframe tbody tr th:only-of-type {\n",
       "        vertical-align: middle;\n",
       "    }\n",
       "\n",
       "    .dataframe tbody tr th {\n",
       "        vertical-align: top;\n",
       "    }\n",
       "\n",
       "    .dataframe thead th {\n",
       "        text-align: right;\n",
       "    }\n",
       "</style>\n",
       "<table border=\"1\" class=\"dataframe\">\n",
       "  <thead>\n",
       "    <tr style=\"text-align: right;\">\n",
       "      <th></th>\n",
       "      <th>start</th>\n",
       "      <th>script</th>\n",
       "      <th>notebook_out</th>\n",
       "      <th>run_result</th>\n",
       "      <th>end</th>\n",
       "    </tr>\n",
       "  </thead>\n",
       "  <tbody>\n",
       "    <tr>\n",
       "      <th>0</th>\n",
       "      <td>2021-02-14 14:29:12</td>\n",
       "      <td>SCRIPT.ipynb</td>\n",
       "      <td>/2021_02_14_14_29_SCRIPT.ipynb</td>\n",
       "      <td>OK</td>\n",
       "      <td>2021-02-14 14:29:15</td>\n",
       "    </tr>\n",
       "    <tr>\n",
       "      <th>1</th>\n",
       "      <td>2021-02-14 14:29:15</td>\n",
       "      <td>SCRIPT.py</td>\n",
       "      <td>None</td>\n",
       "      <td>OK</td>\n",
       "      <td>2021-02-14 14:29:16</td>\n",
       "    </tr>\n",
       "  </tbody>\n",
       "</table>\n",
       "</div>"
      ],
      "text/plain": [
       "                 start        script                    notebook_out  \\\n",
       "0  2021-02-14 14:29:12  SCRIPT.ipynb  /2021_02_14_14_29_SCRIPT.ipynb   \n",
       "1  2021-02-14 14:29:15     SCRIPT.py                            None   \n",
       "\n",
       "  run_result                  end  \n",
       "0         OK  2021-02-14 14:29:15  \n",
       "1         OK  2021-02-14 14:29:16  "
      ]
     },
     "execution_count": 6,
     "metadata": {},
     "output_type": "execute_result"
    }
   ],
   "source": [
    "run_pipeline(script_list = ['SCRIPT.ipynb', 'SCRIPT.py'])"
   ]
  },
  {
   "cell_type": "markdown",
   "metadata": {},
   "source": [
    "# Run All Script with Output of .ipynb with customize prefix in specific folder"
   ]
  },
  {
   "cell_type": "code",
   "execution_count": 7,
   "metadata": {},
   "outputs": [
    {
     "data": {
      "application/vnd.jupyter.widget-view+json": {
       "model_id": "01b5e732d0214af3819c63f33da7cea5",
       "version_major": 2,
       "version_minor": 0
      },
      "text/plain": [
       "HBox(children=(FloatProgress(value=0.0, description='Executing', max=1.0, style=ProgressStyle(description_widt…"
      ]
     },
     "metadata": {},
     "output_type": "display_data"
    },
    {
     "name": "stdout",
     "output_type": "stream",
     "text": [
      "\n"
     ]
    },
    {
     "data": {
      "text/html": [
       "<div>\n",
       "<style scoped>\n",
       "    .dataframe tbody tr th:only-of-type {\n",
       "        vertical-align: middle;\n",
       "    }\n",
       "\n",
       "    .dataframe tbody tr th {\n",
       "        vertical-align: top;\n",
       "    }\n",
       "\n",
       "    .dataframe thead th {\n",
       "        text-align: right;\n",
       "    }\n",
       "</style>\n",
       "<table border=\"1\" class=\"dataframe\">\n",
       "  <thead>\n",
       "    <tr style=\"text-align: right;\">\n",
       "      <th></th>\n",
       "      <th>start</th>\n",
       "      <th>script</th>\n",
       "      <th>notebook_out</th>\n",
       "      <th>run_result</th>\n",
       "      <th>end</th>\n",
       "    </tr>\n",
       "  </thead>\n",
       "  <tbody>\n",
       "    <tr>\n",
       "      <th>0</th>\n",
       "      <td>2021-02-14 14:29:16</td>\n",
       "      <td>SCRIPT.ipynb</td>\n",
       "      <td>TEMP/SCRIPT.ipynb</td>\n",
       "      <td>OK</td>\n",
       "      <td>2021-02-14 14:29:19</td>\n",
       "    </tr>\n",
       "    <tr>\n",
       "      <th>1</th>\n",
       "      <td>2021-02-14 14:29:19</td>\n",
       "      <td>SCRIPT.py</td>\n",
       "      <td>None</td>\n",
       "      <td>OK</td>\n",
       "      <td>2021-02-14 14:29:19</td>\n",
       "    </tr>\n",
       "  </tbody>\n",
       "</table>\n",
       "</div>"
      ],
      "text/plain": [
       "                 start        script       notebook_out run_result  \\\n",
       "0  2021-02-14 14:29:16  SCRIPT.ipynb  TEMP/SCRIPT.ipynb         OK   \n",
       "1  2021-02-14 14:29:19     SCRIPT.py               None         OK   \n",
       "\n",
       "                   end  \n",
       "0  2021-02-14 14:29:19  \n",
       "1  2021-02-14 14:29:19  "
      ]
     },
     "execution_count": 7,
     "metadata": {},
     "output_type": "execute_result"
    }
   ],
   "source": [
    "run_pipeline(script_list = ['SCRIPT.ipynb', 'SCRIPT.py']\n",
    "             , out_prefix = ''\n",
    "             , out_folder = 'TEMP')"
   ]
  },
  {
   "cell_type": "markdown",
   "metadata": {},
   "source": [
    "# Run All Script and Send Run Result in Email\n",
    "\n",
    "## Set Up Mail Config as a dict"
   ]
  },
  {
   "cell_type": "code",
   "execution_count": 8,
   "metadata": {},
   "outputs": [],
   "source": [
    "mail_dict = {'user' : mail_setting['user']\n",
    "             , 'password' : mail_setting['password']\n",
    "             , 'server' : mail_setting['server']\n",
    "             ,'sendto' : mail_setting['to']\n",
    "             ,'subject' : 'TEST'}"
   ]
  },
  {
   "cell_type": "code",
   "execution_count": 9,
   "metadata": {},
   "outputs": [
    {
     "data": {
      "application/vnd.jupyter.widget-view+json": {
       "model_id": "cc5e18b82c1a4eb4be469820a21ad717",
       "version_major": 2,
       "version_minor": 0
      },
      "text/plain": [
       "HBox(children=(FloatProgress(value=0.0, description='Executing', max=1.0, style=ProgressStyle(description_widt…"
      ]
     },
     "metadata": {},
     "output_type": "display_data"
    },
    {
     "name": "stdout",
     "output_type": "stream",
     "text": [
      "\n"
     ]
    },
    {
     "data": {
      "text/html": [
       "<div>\n",
       "<style scoped>\n",
       "    .dataframe tbody tr th:only-of-type {\n",
       "        vertical-align: middle;\n",
       "    }\n",
       "\n",
       "    .dataframe tbody tr th {\n",
       "        vertical-align: top;\n",
       "    }\n",
       "\n",
       "    .dataframe thead th {\n",
       "        text-align: right;\n",
       "    }\n",
       "</style>\n",
       "<table border=\"1\" class=\"dataframe\">\n",
       "  <thead>\n",
       "    <tr style=\"text-align: right;\">\n",
       "      <th></th>\n",
       "      <th>start</th>\n",
       "      <th>script</th>\n",
       "      <th>notebook_out</th>\n",
       "      <th>run_result</th>\n",
       "      <th>end</th>\n",
       "    </tr>\n",
       "  </thead>\n",
       "  <tbody>\n",
       "    <tr>\n",
       "      <th>0</th>\n",
       "      <td>2021-02-14 14:29:19</td>\n",
       "      <td>SCRIPT.ipynb</td>\n",
       "      <td>/2021_02_14_14_29_SCRIPT.ipynb</td>\n",
       "      <td>OK</td>\n",
       "      <td>2021-02-14 14:29:23</td>\n",
       "    </tr>\n",
       "    <tr>\n",
       "      <th>1</th>\n",
       "      <td>2021-02-14 14:29:23</td>\n",
       "      <td>SCRIPT.py</td>\n",
       "      <td>None</td>\n",
       "      <td>OK</td>\n",
       "      <td>2021-02-14 14:29:23</td>\n",
       "    </tr>\n",
       "  </tbody>\n",
       "</table>\n",
       "</div>"
      ],
      "text/plain": [
       "                 start        script                    notebook_out  \\\n",
       "0  2021-02-14 14:29:19  SCRIPT.ipynb  /2021_02_14_14_29_SCRIPT.ipynb   \n",
       "1  2021-02-14 14:29:23     SCRIPT.py                            None   \n",
       "\n",
       "  run_result                  end  \n",
       "0         OK  2021-02-14 14:29:23  \n",
       "1         OK  2021-02-14 14:29:23  "
      ]
     },
     "execution_count": 9,
     "metadata": {},
     "output_type": "execute_result"
    }
   ],
   "source": [
    "run_pipeline(['SCRIPT.ipynb', 'SCRIPT.py']\n",
    "             , email_dict = mail_dict\n",
    "             , sending = True\n",
    "             , only_error = False\n",
    "             , notebook_attached = True\n",
    "             , attached_only_error = False\n",
    "             , attached_log = True)"
   ]
  },
  {
   "cell_type": "markdown",
   "metadata": {},
   "source": [
    "# Run All Script and Log Run Result in SQL\n",
    "\n",
    "## Set Up SQL Config as a dict"
   ]
  },
  {
   "cell_type": "code",
   "execution_count": 10,
   "metadata": {},
   "outputs": [
    {
     "name": "stdout",
     "output_type": "stream",
     "text": [
      "Connection OK\n"
     ]
    }
   ],
   "source": [
    "from py_topping.data_connection.database import da_tran_SQL\n",
    "\n",
    "sql_dict = {'job_name' : 'test_pipeline'\n",
    "            ,'table_name' : 'test_pipeline'\n",
    "            , 'da_tran_SQL': da_tran_SQL(sql_type = sql_setting['type']\n",
    "                                          , host_name = sql_setting['host']\n",
    "                                          , database_name = sql_setting['database']\n",
    "                                          , user = sql_setting['user']\n",
    "                                          , password =  sql_setting['password'])}"
   ]
  },
  {
   "cell_type": "code",
   "execution_count": 12,
   "metadata": {},
   "outputs": [
    {
     "data": {
      "application/vnd.jupyter.widget-view+json": {
       "model_id": "e8cdb4ece1114b3dbc37266289dc0029",
       "version_major": 2,
       "version_minor": 0
      },
      "text/plain": [
       "HBox(children=(FloatProgress(value=0.0, description='Executing', max=1.0, style=ProgressStyle(description_widt…"
      ]
     },
     "metadata": {},
     "output_type": "display_data"
    },
    {
     "name": "stdout",
     "output_type": "stream",
     "text": [
      "\n"
     ]
    },
    {
     "data": {
      "text/html": [
       "<div>\n",
       "<style scoped>\n",
       "    .dataframe tbody tr th:only-of-type {\n",
       "        vertical-align: middle;\n",
       "    }\n",
       "\n",
       "    .dataframe tbody tr th {\n",
       "        vertical-align: top;\n",
       "    }\n",
       "\n",
       "    .dataframe thead th {\n",
       "        text-align: right;\n",
       "    }\n",
       "</style>\n",
       "<table border=\"1\" class=\"dataframe\">\n",
       "  <thead>\n",
       "    <tr style=\"text-align: right;\">\n",
       "      <th></th>\n",
       "      <th>start</th>\n",
       "      <th>script</th>\n",
       "      <th>notebook_out</th>\n",
       "      <th>run_result</th>\n",
       "      <th>end</th>\n",
       "      <th>job_name</th>\n",
       "    </tr>\n",
       "  </thead>\n",
       "  <tbody>\n",
       "    <tr>\n",
       "      <th>0</th>\n",
       "      <td>2021-02-14 14:29:25</td>\n",
       "      <td>SCRIPT.ipynb</td>\n",
       "      <td>/2021_02_14_14_29_SCRIPT.ipynb</td>\n",
       "      <td>OK</td>\n",
       "      <td>2021-02-14 14:29:27</td>\n",
       "      <td>test_pipeline</td>\n",
       "    </tr>\n",
       "    <tr>\n",
       "      <th>1</th>\n",
       "      <td>2021-02-14 14:29:27</td>\n",
       "      <td>SCRIPT.py</td>\n",
       "      <td>None</td>\n",
       "      <td>OK</td>\n",
       "      <td>2021-02-14 14:29:27</td>\n",
       "      <td>test_pipeline</td>\n",
       "    </tr>\n",
       "  </tbody>\n",
       "</table>\n",
       "</div>"
      ],
      "text/plain": [
       "                 start        script                    notebook_out  \\\n",
       "0  2021-02-14 14:29:25  SCRIPT.ipynb  /2021_02_14_14_29_SCRIPT.ipynb   \n",
       "1  2021-02-14 14:29:27     SCRIPT.py                            None   \n",
       "\n",
       "  run_result                  end       job_name  \n",
       "0         OK  2021-02-14 14:29:27  test_pipeline  \n",
       "1         OK  2021-02-14 14:29:27  test_pipeline  "
      ]
     },
     "execution_count": 12,
     "metadata": {},
     "output_type": "execute_result"
    }
   ],
   "source": [
    "run_pipeline(['SCRIPT.ipynb', 'SCRIPT.py']\n",
    "             , log_sql = sql_dict)\n",
    "sql_dict['da_tran_SQL'].read('test_pipeline')"
   ]
  },
  {
   "cell_type": "markdown",
   "metadata": {},
   "source": [
    "# Combine Everything"
   ]
  },
  {
   "cell_type": "code",
   "execution_count": 14,
   "metadata": {},
   "outputs": [
    {
     "data": {
      "application/vnd.jupyter.widget-view+json": {
       "model_id": "af0e9bc7d01848c79dcbdb5d969757f6",
       "version_major": 2,
       "version_minor": 0
      },
      "text/plain": [
       "HBox(children=(FloatProgress(value=0.0, description='Executing', max=1.0, style=ProgressStyle(description_widt…"
      ]
     },
     "metadata": {},
     "output_type": "display_data"
    },
    {
     "name": "stdout",
     "output_type": "stream",
     "text": [
      "\n"
     ]
    },
    {
     "data": {
      "text/html": [
       "<div>\n",
       "<style scoped>\n",
       "    .dataframe tbody tr th:only-of-type {\n",
       "        vertical-align: middle;\n",
       "    }\n",
       "\n",
       "    .dataframe tbody tr th {\n",
       "        vertical-align: top;\n",
       "    }\n",
       "\n",
       "    .dataframe thead th {\n",
       "        text-align: right;\n",
       "    }\n",
       "</style>\n",
       "<table border=\"1\" class=\"dataframe\">\n",
       "  <thead>\n",
       "    <tr style=\"text-align: right;\">\n",
       "      <th></th>\n",
       "      <th>start</th>\n",
       "      <th>script</th>\n",
       "      <th>notebook_out</th>\n",
       "      <th>run_result</th>\n",
       "      <th>end</th>\n",
       "      <th>job_name</th>\n",
       "    </tr>\n",
       "  </thead>\n",
       "  <tbody>\n",
       "    <tr>\n",
       "      <th>0</th>\n",
       "      <td>2021-02-14 14:29:27</td>\n",
       "      <td>SCRIPT.ipynb</td>\n",
       "      <td>TEMP/OUT_SCRIPT.ipynb</td>\n",
       "      <td>OK</td>\n",
       "      <td>2021-02-14 14:29:30</td>\n",
       "      <td>test_pipeline</td>\n",
       "    </tr>\n",
       "    <tr>\n",
       "      <th>1</th>\n",
       "      <td>2021-02-14 14:29:30</td>\n",
       "      <td>SCRIPT.py</td>\n",
       "      <td>None</td>\n",
       "      <td>OK</td>\n",
       "      <td>2021-02-14 14:29:30</td>\n",
       "      <td>test_pipeline</td>\n",
       "    </tr>\n",
       "  </tbody>\n",
       "</table>\n",
       "</div>"
      ],
      "text/plain": [
       "                 start        script           notebook_out run_result  \\\n",
       "0  2021-02-14 14:29:27  SCRIPT.ipynb  TEMP/OUT_SCRIPT.ipynb         OK   \n",
       "1  2021-02-14 14:29:30     SCRIPT.py                   None         OK   \n",
       "\n",
       "                   end       job_name  \n",
       "0  2021-02-14 14:29:30  test_pipeline  \n",
       "1  2021-02-14 14:29:30  test_pipeline  "
      ]
     },
     "execution_count": 14,
     "metadata": {},
     "output_type": "execute_result"
    }
   ],
   "source": [
    "run_pipeline(['SCRIPT.ipynb', 'SCRIPT.py']\n",
    "             , out_prefix = 'OUT_'\n",
    "             , out_folder = 'TEMP'\n",
    "             , email_dict = mail_dict\n",
    "             , sending = True\n",
    "             , only_error = False\n",
    "             , notebook_attached = True\n",
    "             , attached_only_error = False\n",
    "             , attached_log = True\n",
    "             , log_sql = sql_dict)\n",
    "sql_dict['da_tran_SQL'].read('test_pipeline')"
   ]
  }
 ],
 "metadata": {
  "kernelspec": {
   "display_name": "Python 3",
   "language": "python",
   "name": "python3"
  },
  "language_info": {
   "codemirror_mode": {
    "name": "ipython",
    "version": 3
   },
   "file_extension": ".py",
   "mimetype": "text/x-python",
   "name": "python",
   "nbconvert_exporter": "python",
   "pygments_lexer": "ipython3",
   "version": "3.7.6"
  }
 },
 "nbformat": 4,
 "nbformat_minor": 4
}
