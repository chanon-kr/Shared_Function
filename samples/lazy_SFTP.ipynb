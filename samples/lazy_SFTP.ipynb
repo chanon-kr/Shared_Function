{
 "cells": [
  {
   "cell_type": "markdown",
   "id": "elect-ocean",
   "metadata": {},
   "source": [
    "# Load Required Libraries\n",
    "\n",
    "```pip install paramiko```"
   ]
  },
  {
   "cell_type": "code",
   "execution_count": null,
   "id": "outside-vertex",
   "metadata": {},
   "outputs": [],
   "source": [
    "from py_topping.data_connection.sftp import lazy_SFTP"
   ]
  },
  {
   "cell_type": "markdown",
   "id": "chronic-bristol",
   "metadata": {},
   "source": [
    "## Initial Class"
   ]
  },
  {
   "cell_type": "code",
   "execution_count": null,
   "id": "relative-knowing",
   "metadata": {},
   "outputs": [],
   "source": [
    "sftp = lazy_SFTP( host_name = \"{HOST or IP of SFTP Server}\"\n",
    "                 , username = \"{Your Username}\" \n",
    "                 , password = \"{Your Password}\"\n",
    "                 , port = \"{Your SFTP's port}\")"
   ]
  },
  {
   "cell_type": "markdown",
   "id": "fdb9709a",
   "metadata": {},
   "source": [
    "### List of Parameter\n",
    " - **host_name** : Your Hostname or IP address of SFTP Server (String)\n",
    " - **username** : User \n",
    " - **password** : Password\n",
    " - **port** : Your SFTP's port (int), default 60"
   ]
  },
  {
   "cell_type": "markdown",
   "id": "posted-cookbook",
   "metadata": {},
   "source": [
    "## List Directory"
   ]
  },
  {
   "cell_type": "code",
   "execution_count": null,
   "id": "respected-animation",
   "metadata": {},
   "outputs": [],
   "source": [
    "sftp.listdir()"
   ]
  },
  {
   "cell_type": "code",
   "execution_count": null,
   "id": "0e96d5f8",
   "metadata": {},
   "outputs": [],
   "source": [
    "sftp.listdir('{foldername}')"
   ]
  },
  {
   "cell_type": "markdown",
   "id": "exotic-albany",
   "metadata": {},
   "source": [
    "## Download"
   ]
  },
  {
   "cell_type": "code",
   "execution_count": null,
   "id": "facial-locator",
   "metadata": {},
   "outputs": [],
   "source": [
    "sftp.download(remotepath = '{Path in SFTP Server}' , localpath = '{Path to your local file}')"
   ]
  },
  {
   "cell_type": "markdown",
   "id": "cea7176a",
   "metadata": {},
   "source": [
    "## Upload"
   ]
  },
  {
   "cell_type": "code",
   "execution_count": null,
   "id": "7f19784b",
   "metadata": {},
   "outputs": [],
   "source": [
    "sftp.upload(remotepath = '{Path in SFTP Server}' , localpath = '{Path to your local file}')"
   ]
  }
 ],
 "metadata": {
  "kernelspec": {
   "display_name": "Python 3 (ipykernel)",
   "language": "python",
   "name": "python3"
  },
  "language_info": {
   "codemirror_mode": {
    "name": "ipython",
    "version": 3
   },
   "file_extension": ".py",
   "mimetype": "text/x-python",
   "name": "python",
   "nbconvert_exporter": "python",
   "pygments_lexer": "ipython3",
   "version": "3.9.8"
  }
 },
 "nbformat": 4,
 "nbformat_minor": 5
}
