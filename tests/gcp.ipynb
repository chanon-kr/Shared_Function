{
 "cells": [
  {
   "cell_type": "code",
   "execution_count": null,
   "metadata": {
    "scrolled": true
   },
   "outputs": [],
   "source": [
    "import os, re,json, imp, unittest\n",
    "from glob import glob\n",
    "import pandas as pd\n",
    "import warnings\n",
    "\n",
    "warnings.simplefilter(\"ignore\", ResourceWarning)\n",
    "\n",
    "\n",
    "print('First Directory at :', os.getcwd()[2:])\n",
    "\n",
    "#Load Setting File\n",
    "with open('setting.txt','r') as f:\n",
    "    setting = json.load(f)\n",
    "print('Load Setting OK')    \n",
    "\n",
    "os.chdir(re.sub(os.getcwd().split('\\\\')[-1]+'$','',os.getcwd()))\n",
    "print('Change Directory into :', os.getcwd()[2:])"
   ]
  },
  {
   "cell_type": "code",
   "execution_count": null,
   "metadata": {},
   "outputs": [],
   "source": [
    "local_library = True\n",
    "# local_library = False\n",
    "\n",
    "if local_library : \n",
    "    lazy_GCS = imp.load_source('lazy_gcs', 'py_topping/data_connection/gcp.py').lazy_GCS\n",
    "else :\n",
    "    base_cwd = os.getcwd()[:]\n",
    "    os.chdir(os.getcwd().split('\\\\')[0] + '\\\\')\n",
    "    from py_topping.data_connection.gcp import lazy_GCS\n",
    "    os.chdir(base_cwd)"
   ]
  },
  {
   "cell_type": "markdown",
   "metadata": {},
   "source": [
    "# Cloud Storage"
   ]
  },
  {
   "cell_type": "code",
   "execution_count": null,
   "metadata": {},
   "outputs": [],
   "source": [
    "gcs_setting = setting['gcs']\n",
    "\n",
    "class gcs_test(unittest.TestCase):\n",
    "    def setUp(self):\n",
    "        warnings.simplefilter(\"ignore\")\n",
    "        self.gcs = lazy_gcs(project_id = gcs_setting[\"project_id\"]\n",
    "                     , bucket_name = gcs_setting[\"bucket\"]\n",
    "                     , credential = gcs_setting[\"credentials_path\"])\n",
    "        self.folder = gcs_setting[\"folder\"]\n",
    "        self.filename = gcs_setting[\"filename\"]\n",
    "\n",
    "    def test_download(self):\n",
    "        self.gcs.download(bucket_file = '{}/{}'.format(self.folder,self.filename)\n",
    "                            , local_file = self.filename)\n",
    "        result, expect = os.path.isfile(self.filename), True\n",
    "        self.assertEqual(result, expect)\n",
    "        os.remove(self.filename)\n",
    "        \n",
    "    def test_downloadfolder(self):\n",
    "        local_folder = self.folder.split('/')[-1]\n",
    "        self.gcs.download_folder(bucket_folder = self.folder\n",
    "                                , local_folder = local_folder\n",
    "                                , create_folder = True)\n",
    "        downloaded_file = glob('{}/*'.format(local_folder))\n",
    "        result, expect = len(downloaded_file) > 0, True\n",
    "        self.assertEqual(result, expect)\n",
    "        for i in downloaded_file : os.remove(i)\n",
    "        os.rmdir(local_folder)\n",
    "        \n",
    "    def test_upload(self):\n",
    "        upload_file = 'dummy.txt'\n",
    "        with open(upload_file, 'w') as f :\n",
    "            f.write('a')\n",
    "        self.gcs.upload(bucket_file = '{}/{}'.format(self.folder,upload_file)\n",
    "           , local_file = upload_file)\n",
    "        self.gcs.download(bucket_file = '{}/{}'.format(self.folder,upload_file)\n",
    "                            , local_file = 'new_' + upload_file)\n",
    "        with open('new_' + upload_file, 'r') as f :\n",
    "            reread = str(f.read())\n",
    "        result, expect = reread, 'a'\n",
    "        self.assertEqual(result, expect)\n",
    "        os.remove(upload_file) \n",
    "        os.remove('new_' + upload_file) \n",
    "        \n",
    "unittest.main(argv = ['first-arg-is-ignored'], exit = False)"
   ]
  }
 ],
 "metadata": {
  "kernelspec": {
   "display_name": "Python 3 (ipykernel)",
   "language": "python",
   "name": "python3"
  },
  "language_info": {
   "codemirror_mode": {
    "name": "ipython",
    "version": 3
   },
   "file_extension": ".py",
   "mimetype": "text/x-python",
   "name": "python",
   "nbconvert_exporter": "python",
   "pygments_lexer": "ipython3",
   "version": "3.9.8"
  }
 },
 "nbformat": 4,
 "nbformat_minor": 4
}
