{
 "cells": [
  {
   "cell_type": "code",
   "execution_count": 1,
   "metadata": {},
   "outputs": [
    {
     "name": "stdout",
     "output_type": "stream",
     "text": [
      "First Directory at : \\01_DEV_Function\\Shared_Function\\tests\n",
      "Load Setting OK\n",
      "Change Directory into : \\01_DEV_Function\\Shared_Function\n"
     ]
    }
   ],
   "source": [
    "import os, re,json, imp, unittest\n",
    "import pandas as pd\n",
    "\n",
    "print('First Directory at :', os.getcwd()[2:])\n",
    "\n",
    "#Load Setting File\n",
    "with open('setting.txt','r') as f:\n",
    "    setting = json.load(f)\n",
    "print('Load Setting OK')    \n",
    "\n",
    "os.chdir(re.sub(os.getcwd().split('\\\\')[-1]+'$','',os.getcwd()))\n",
    "print('Change Directory into :', os.getcwd()[2:])"
   ]
  },
  {
   "cell_type": "code",
   "execution_count": 2,
   "metadata": {},
   "outputs": [],
   "source": [
    "#local_library = True\n",
    "local_library = False\n",
    "\n",
    "if local_library : \n",
    "    da_tran_SQL = imp.load_source('da_tran_SQL', 'py_topping/data_connection/database.py').da_tran_SQL\n",
    "else :\n",
    "    from py_topping.data_connection.database import da_tran_SQL\n",
    "    \n",
    "def help_test(df_in1, df_in2) :\n",
    "    result = list()\n",
    "    expect = list()\n",
    "    for i in df_in1.columns :\n",
    "        result_list = list(df_in1[i])\n",
    "        expect_list = list(df_in2[i])\n",
    "        result_list.sort()\n",
    "        expect_list.sort()\n",
    "        result.append(result_list)\n",
    "        expect.append(expect_list)\n",
    "    return result, expect"
   ]
  },
  {
   "cell_type": "code",
   "execution_count": 3,
   "metadata": {
    "scrolled": false
   },
   "outputs": [
    {
     "name": "stderr",
     "output_type": "stream",
     "text": [
      "C:\\Users\\chanonkr\\Anaconda3\\lib\\site-packages\\sqlalchemy\\dialects\\mssql\\pymssql.py:61: DeprecationWarning: Using or importing the ABCs from 'collections' instead of from 'collections.abc' is deprecated since Python 3.3,and in 3.9 it will stop working\n",
      "  module = __import__(\"pymssql\")\n"
     ]
    },
    {
     "name": "stdout",
     "output_type": "stream",
     "text": [
      "Connection OK\n",
      "Start Filter Existing data from df at  2021-02-10 18:14:42.466266\n",
      "Dump data to  unit_test_git  End  2021-02-10 18:14:42.661739\n"
     ]
    },
    {
     "name": "stderr",
     "output_type": "stream",
     "text": [
      "."
     ]
    },
    {
     "name": "stdout",
     "output_type": "stream",
     "text": [
      "Connection OK\n",
      "Start Filter Existing data from df at  2021-02-10 18:14:43.902526\n",
      "Dump data to  unit_test_git  End  2021-02-10 18:14:44.073493\n"
     ]
    },
    {
     "name": "stderr",
     "output_type": "stream",
     "text": [
      "."
     ]
    },
    {
     "name": "stdout",
     "output_type": "stream",
     "text": [
      "Connection OK\n",
      "Start Filter Existing data from df at  2021-02-10 18:14:45.257717\n",
      "Dump data to  unit_test_git  End  2021-02-10 18:14:45.435395\n"
     ]
    },
    {
     "name": "stderr",
     "output_type": "stream",
     "text": [
      "."
     ]
    },
    {
     "name": "stdout",
     "output_type": "stream",
     "text": [
      "Connection OK\n"
     ]
    },
    {
     "name": "stderr",
     "output_type": "stream",
     "text": [
      "."
     ]
    },
    {
     "name": "stdout",
     "output_type": "stream",
     "text": [
      "Connection OK\n",
      "Start delete old data at 2021-02-10 18:14:47.197628\n",
      "Delete Last ['col1'] at 2021-02-10 18:14:47.267994\n"
     ]
    },
    {
     "name": "stderr",
     "output_type": "stream",
     "text": [
      "."
     ]
    },
    {
     "name": "stdout",
     "output_type": "stream",
     "text": [
      "Dump data to  unit_test_git  End  2021-02-10 18:14:47.395937\n",
      "Connection OK\n",
      "Start delete old data at 2021-02-10 18:14:48.241405\n",
      "Delete Last col1 at 2021-02-10 18:14:48.310052\n"
     ]
    },
    {
     "name": "stderr",
     "output_type": "stream",
     "text": [
      "."
     ]
    },
    {
     "name": "stdout",
     "output_type": "stream",
     "text": [
      "Dump data to  unit_test_git  End  2021-02-10 18:14:48.434565\n",
      "Connection OK\n",
      "Start delete old data at 2021-02-10 18:14:49.324327\n",
      "Delete Last ['col1', 'col2'] at 2021-02-10 18:14:49.408805\n"
     ]
    },
    {
     "name": "stderr",
     "output_type": "stream",
     "text": [
      "."
     ]
    },
    {
     "name": "stdout",
     "output_type": "stream",
     "text": [
      "Dump data to  unit_test_git  End  2021-02-10 18:14:49.550272\n",
      "Connection OK\n",
      "Start delete old data at 2021-02-10 18:14:50.396964\n",
      "Delete Last ['col1', 'col2', 'col3'] at 2021-02-10 18:14:50.469550\n",
      "Dump data to  unit_test_git  End  2021-02-10 18:14:50.592662\n"
     ]
    },
    {
     "name": "stderr",
     "output_type": "stream",
     "text": [
      "."
     ]
    },
    {
     "name": "stdout",
     "output_type": "stream",
     "text": [
      "Connection OK\n",
      "Start delete old data at 2021-02-10 18:14:51.465515\n",
      "Delete Last ['col1'] at 2021-02-10 18:14:51.532899\n"
     ]
    },
    {
     "name": "stderr",
     "output_type": "stream",
     "text": [
      "."
     ]
    },
    {
     "name": "stdout",
     "output_type": "stream",
     "text": [
      "Dump data to  unit_test_git  End  2021-02-10 18:14:52.190890\n",
      "Connection OK\n",
      "Drop Existing Table at  2021-02-10 18:14:53.060624\n",
      "Dump data to  unit_test_git  End  2021-02-10 18:14:53.300325\n",
      "Start delete old data at 2021-02-10 18:14:53.301357\n",
      "Delete Last ['date'] at 2021-02-10 18:14:53.368009\n",
      "Dump data to  "
     ]
    },
    {
     "name": "stderr",
     "output_type": "stream",
     "text": [
      "."
     ]
    },
    {
     "name": "stdout",
     "output_type": "stream",
     "text": [
      "unit_test_git  End  2021-02-10 18:14:53.491461\n",
      "Connection OK\n",
      "Start delete old data at 2021-02-10 18:14:54.861336\n",
      "Delete Last ['col1'] at 2021-02-10 18:14:54.929270\n",
      "delete from unit_test_git where ([col1] in ('4.0', '5.0', '6.0', '7.0') OR [col1] IS NULL)\n",
      "Dump data to  "
     ]
    },
    {
     "name": "stderr",
     "output_type": "stream",
     "text": [
      "."
     ]
    },
    {
     "name": "stdout",
     "output_type": "stream",
     "text": [
      "unit_test_git  End  2021-02-10 18:14:55.052031\n",
      "Connection OK\n",
      "Start delete old data at 2021-02-10 18:14:56.437786\n",
      "Delete Last ['col1', 'col2'] at 2021-02-10 18:14:56.508590\n",
      "delete from unit_test_git where ([col1] in ('4.0', '5.0', '6.0', '7.0') OR [col1] IS NULL) and [col2] in ('3', '4', '5')\n",
      "Dump data to  unit_test_git  End  2021-02-10 18:14:56.635274\n"
     ]
    },
    {
     "name": "stderr",
     "output_type": "stream",
     "text": [
      "."
     ]
    },
    {
     "name": "stdout",
     "output_type": "stream",
     "text": [
      "Connection OK\n"
     ]
    },
    {
     "name": "stderr",
     "output_type": "stream",
     "text": [
      "."
     ]
    },
    {
     "name": "stdout",
     "output_type": "stream",
     "text": [
      "Connection OK\n",
      "Drop Existing Table at  2021-02-10 18:14:58.449050\n"
     ]
    },
    {
     "name": "stderr",
     "output_type": "stream",
     "text": [
      "."
     ]
    },
    {
     "name": "stdout",
     "output_type": "stream",
     "text": [
      "Dump data to  unit_test_git  End  2021-02-10 18:14:58.689319\n"
     ]
    },
    {
     "name": "stderr",
     "output_type": "stream",
     "text": [
      "\n",
      "----------------------------------------------------------------------\n",
      "Ran 14 tests in 17.158s\n",
      "\n",
      "OK\n"
     ]
    },
    {
     "data": {
      "text/plain": [
       "<unittest.main.TestProgram at 0x2d4797ae388>"
      ]
     },
     "execution_count": 3,
     "metadata": {},
     "output_type": "execute_result"
    }
   ],
   "source": [
    "test_mssql = setting['MSSQL']\n",
    "\n",
    "class SQL_Test_class(unittest.TestCase):\n",
    "    def setUp(self):\n",
    "        self.sql = da_tran_SQL(sql_type = test_mssql['type'],\n",
    "                                host_name = test_mssql['host'],\n",
    "                                database_name = test_mssql['database'],\n",
    "                                user = test_mssql['user'],\n",
    "                                password = test_mssql['password'])\n",
    "        self.df1 = pd.DataFrame({'col1' : [1,2,3,4,5] , 'col2' : [1,1,2,2,3] , 'col3' : [1,1,1,1,1]})\n",
    "        self.df2 = pd.DataFrame({'col1' : [4,5,6,7,8] , 'col2' : [3,3,4,4,5] , 'col3' : [2,2,2,2,2]})\n",
    "        self.table_name = 'unit_test_git'\n",
    "        self.df1.to_sql(self.table_name, con = self.sql.engine, index = False, if_exists = 'replace')\n",
    "\n",
    "    def test_sp(self):\n",
    "        sql_q = \"\"\" CREATE OR ALTER PROCEDURE unit_test_git_SP (@PARAM1 AS VARCHAR(100))\n",
    "                    AS\n",
    "                    BEGIN\n",
    "                    SELECT * FROM {} WHERE col1 = @PARAM1 \n",
    "                    END\"\"\".format(self.table_name)\n",
    "        self.sql.engine.execute(sql_q)\n",
    "        df_read = self.sql.read('unit_test_git_SP', SP = True , param = {'@PARAM1' : 1})\n",
    "        expect_df = self.df1[self.df1['col1'] == 1]\n",
    "        result, expect = help_test(df_read, expect_df)\n",
    "        self.assertEqual(result, expect)\n",
    "        \n",
    "    def test_read_sql(self):\n",
    "        df_read = self.sql.read(self.table_name)\n",
    "        expect_df = self.df1\n",
    "        result, expect = help_test(df_read, expect_df)\n",
    "        self.assertEqual(result, expect)\n",
    "\n",
    "    def test_whole(self):\n",
    "        self.sql.dump_whole(self.df2, self.table_name)\n",
    "        df_read = self.sql.read(self.table_name)\n",
    "        expect_df = self.df2\n",
    "        result, expect = help_test(df_read, expect_df)\n",
    "        self.assertEqual(result, expect)\n",
    "        \n",
    "    \n",
    "    def test_replace1(self) :\n",
    "        self.sql.dump_replace(df_in = self.df2 , table_name_in = self.table_name, list_key = ['col1'])\n",
    "        df_read = self.sql.read(self.table_name)\n",
    "        expect_df = pd.DataFrame({'col1' : [1,2,3,4,5,6,7,8] , 'col2' : [1,1,2,3,3,4,4,5] , 'col3' : [1,1,1,2,2,2,2,2]})\n",
    "        result, expect = help_test(df_read, expect_df)\n",
    "        self.assertEqual(result, expect)\n",
    "        \n",
    "    def test_replace1_str(self) :\n",
    "        self.sql.dump_replace(df_in = self.df2 , table_name_in = self.table_name, list_key = 'col1')\n",
    "        df_read = self.sql.read(self.table_name)\n",
    "        expect_df = pd.DataFrame({'col1' : [1,2,3,4,5,6,7,8] , 'col2' : [1,1,2,3,3,4,4,5] , 'col3' : [1,1,1,2,2,2,2,2]})\n",
    "        result, expect = help_test(df_read, expect_df)\n",
    "        self.assertEqual(result, expect)\n",
    "\n",
    "    def test_replace2(self) :\n",
    "        self.sql.dump_replace(df_in = self.df2 , table_name_in = self.table_name, list_key = ['col1','col2'])\n",
    "        df_read = self.sql.read(self.table_name)\n",
    "        expect_df = pd.DataFrame({'col1' : [1,2,3,4,4,5,6,7,8] , 'col2' : [1,1,2,2,3,3,4,4,5] , 'col3' : [1,1,1,1,2,2,2,2,2]})\n",
    "        result, expect = help_test(df_read, expect_df)\n",
    "        self.assertEqual(result, expect)\n",
    "        \n",
    "    def test_replace3(self) :\n",
    "        self.sql.dump_replace(df_in = self.df2 , table_name_in = self.table_name, list_key = ['col1','col2','col3'])\n",
    "        df_read = self.sql.read(self.table_name)\n",
    "        expect_df = self.df1.append(self.df2)\n",
    "        result, expect = help_test(df_read, expect_df)\n",
    "        self.assertEqual(result, expect)\n",
    "\n",
    "    def test_replace_logic(self) :\n",
    "        self.sql.dump_replace(df_in = self.df2 , table_name_in = self.table_name, list_key = ['col1'],\n",
    "                             math_logic = {'col1' : {'logic' : '>', 'value' : 1}})\n",
    "        df_read = self.sql.read(self.table_name)\n",
    "        expect_df = self.df1[self.df1['col1'] <= 1].append(self.df2)\n",
    "        result, expect = help_test(df_read, expect_df)\n",
    "        self.assertEqual(result, expect)\n",
    "        \n",
    "    def test_replace_logic_date(self) :\n",
    "        df_date = pd.DataFrame({'col1' : [1,2,3,4,5], \n",
    "                                'date' : pd.date_range('2020-10-10','2020-10-14'), 'col2' :[1,1,1,1,1]})\n",
    "        \n",
    "        self.sql.dump_whole(df_date, self.table_name)\n",
    "        expect_df = df_date[df_date['date'] <= '2020-10-12']\n",
    "        df_date['col2'] = 3\n",
    "        self.sql.dump_replace(df_in = df_date , table_name_in = self.table_name, list_key = ['date'],\n",
    "                             math_logic = {'date' : {'logic' : '>', 'value' : '2020-10-12', 'type' : 'date'}})\n",
    "        df_read = self.sql.read(self.table_name)\n",
    "        expect_df = expect_df.append(df_date)\n",
    "        result, expect = help_test(df_read, expect_df)\n",
    "        self.assertEqual(result, expect)\n",
    "        \n",
    "    def test_replace3(self) :\n",
    "        self.sql.dump_replace(df_in = self.df2 , table_name_in = self.table_name, list_key = ['col1','col2','col3'])\n",
    "        df_read = self.sql.read(self.table_name)\n",
    "        expect_df = self.df1.append(self.df2)\n",
    "        result, expect = help_test(df_read, expect_df)\n",
    "        self.assertEqual(result, expect)\n",
    "\n",
    "    def test_new1_str(self) :\n",
    "        self.sql.dump_new(df_in = self.df2 , table_name_in = self.table_name, list_key = 'col1')\n",
    "        df_read = self.sql.read(self.table_name)\n",
    "        expect_df = pd.DataFrame({'col1' : [1,2,3,4,5,6,7,8] , 'col2' : [1,1,2,2,3,4,4,5] , 'col3' : [1,1,1,1,1,2,2,2]})\n",
    "        result, expect = help_test(df_read, expect_df)\n",
    "        self.assertEqual(result, expect)\n",
    "\n",
    "    def test_new1(self) :\n",
    "        self.sql.dump_new(df_in = self.df2 , table_name_in = self.table_name, list_key = ['col1'])\n",
    "        df_read = self.sql.read(self.table_name)\n",
    "        expect_df = pd.DataFrame({'col1' : [1,2,3,4,5,6,7,8] , 'col2' : [1,1,2,2,3,4,4,5] , 'col3' : [1,1,1,1,1,2,2,2]})\n",
    "        result, expect = help_test(df_read, expect_df)\n",
    "        self.assertEqual(result, expect)\n",
    "\n",
    "    def test_new2(self) :\n",
    "        self.sql.dump_new(df_in = self.df2 , table_name_in = self.table_name, list_key = ['col1','col2'], debug = False)\n",
    "        df_read = self.sql.read(self.table_name)\n",
    "        expect_df = pd.DataFrame({'col1' : [1,2,3,4,5,4,6,7,8] , 'col2' : [1,1,2,2,3,3,4,4,5] , 'col3' : [1,1,1,1,1,2,2,2,2]})\n",
    "        result, expect = help_test(df_read, expect_df)\n",
    "        self.assertEqual(result, expect)\n",
    "        \n",
    "    def test_replace_null1(self) :\n",
    "        df1_n = pd.DataFrame({'col1' : [1,None,3,4,5] , 'col2' : [1,1,2,2,3] , 'col3' : [1,1,1,1,1]})\n",
    "        df2_n = pd.DataFrame({'col1' : [4,5,6,7,None] , 'col2' : [3,3,4,4,5] , 'col3' : [2,2,2,2,2]})\n",
    "        df1_n.to_sql(self.table_name, con = self.sql.engine, index = False, if_exists = 'replace')\n",
    "        self.sql.dump_replace(df_in = df2_n , table_name_in = self.table_name, list_key = ['col1'] , debug = True)\n",
    "        df_read = self.sql.read(self.table_name).sort_values('col1').reset_index(drop = True)\n",
    "        expect_df = pd.DataFrame({'col1' : [1,3,4,5,6,7,None] , 'col2' : [1,2,3,3,4,4,5] , 'col3' : [1,1,2,2,2,2,2]})\n",
    "        result, expect = help_test(df_read.fillna(99), expect_df.fillna(99))\n",
    "        self.assertEqual(result, expect)\n",
    "\n",
    "    def test_replace_null2(self) :\n",
    "        df1_n = pd.DataFrame({'col1' : [1,None,3,4,5] , 'col2' : [1,1,2,2,3] , 'col3' : [1,1,1,1,1]})\n",
    "        df2_n = pd.DataFrame({'col1' : [4,5,6,7,None] , 'col2' : [3,3,4,4,5] , 'col3' : [2,2,2,2,2]})\n",
    "        df1_n.to_sql(self.table_name, con = self.sql.engine, index = False, if_exists = 'replace')\n",
    "        self.sql.dump_replace(df_in = df2_n , table_name_in = self.table_name, list_key = ['col1','col2'] , debug = True)\n",
    "        df_read = self.sql.read(self.table_name).sort_values('col1').reset_index(drop = True)\n",
    "        expect_df = pd.DataFrame({ 'col1' : [1,None,3,4,4,5,6,7,None] , 'col2' : [1,1,2,2,3,3,4,4,5] \n",
    "                                  ,'col3' : [1,1,1,1,2,2,2,2,2]}).sort_values('col1').reset_index(drop = True)\n",
    "\n",
    "        result, expect = help_test(df_read.fillna(99), expect_df.fillna(99))\n",
    "        self.assertEqual(result, expect)\n",
    "\n",
    "unittest.main(argv = ['first-arg-is-ignored'], exit = False)"
   ]
  },
  {
   "cell_type": "code",
   "execution_count": 4,
   "metadata": {
    "scrolled": false
   },
   "outputs": [
    {
     "name": "stdout",
     "output_type": "stream",
     "text": [
      "Connection OK\n",
      "Start Filter Existing data from df at  2021-02-10 18:14:59.622085\n"
     ]
    },
    {
     "name": "stderr",
     "output_type": "stream",
     "text": [
      "."
     ]
    },
    {
     "name": "stdout",
     "output_type": "stream",
     "text": [
      "Dump data to  unit_test_git  End  2021-02-10 18:14:59.915673\n",
      "Connection OK\n",
      "Start Filter Existing data from df at  2021-02-10 18:15:00.824775\n"
     ]
    },
    {
     "name": "stderr",
     "output_type": "stream",
     "text": [
      "."
     ]
    },
    {
     "name": "stdout",
     "output_type": "stream",
     "text": [
      "Dump data to  unit_test_git  End  2021-02-10 18:15:01.477803\n",
      "Connection OK\n",
      "Start Filter Existing data from df at  2021-02-10 18:15:02.837830\n",
      "Dump data to  unit_test_git  End  2021-02-10 18:15:06.058447\n"
     ]
    },
    {
     "name": "stderr",
     "output_type": "stream",
     "text": [
      "."
     ]
    },
    {
     "name": "stdout",
     "output_type": "stream",
     "text": [
      "Connection OK\n"
     ]
    },
    {
     "name": "stderr",
     "output_type": "stream",
     "text": [
      "."
     ]
    },
    {
     "name": "stdout",
     "output_type": "stream",
     "text": [
      "Connection OK\n",
      "Start delete old data at 2021-02-10 18:15:08.395150\n",
      "Delete Last ['col1'] at 2021-02-10 18:15:08.464921\n"
     ]
    },
    {
     "name": "stderr",
     "output_type": "stream",
     "text": [
      "."
     ]
    },
    {
     "name": "stdout",
     "output_type": "stream",
     "text": [
      "Dump data to  unit_test_git  End  2021-02-10 18:15:08.822979\n",
      "Connection OK\n",
      "Start delete old data at 2021-02-10 18:15:09.667397\n",
      "Delete Last col1 at 2021-02-10 18:15:09.740719\n"
     ]
    },
    {
     "name": "stderr",
     "output_type": "stream",
     "text": [
      "."
     ]
    },
    {
     "name": "stdout",
     "output_type": "stream",
     "text": [
      "Dump data to  unit_test_git  End  2021-02-10 18:15:10.087826\n",
      "Connection OK\n",
      "Start delete old data at 2021-02-10 18:15:10.906693\n",
      "Delete Last ['col1', 'col2'] at 2021-02-10 18:15:10.975481\n"
     ]
    },
    {
     "name": "stderr",
     "output_type": "stream",
     "text": [
      "."
     ]
    },
    {
     "name": "stdout",
     "output_type": "stream",
     "text": [
      "Dump data to  unit_test_git  End  2021-02-10 18:15:11.329711\n",
      "Connection OK\n",
      "Start delete old data at 2021-02-10 18:15:12.198281\n",
      "Delete Last ['col1', 'col2', 'col3'] at 2021-02-10 18:15:12.272118\n"
     ]
    },
    {
     "name": "stderr",
     "output_type": "stream",
     "text": [
      "."
     ]
    },
    {
     "name": "stdout",
     "output_type": "stream",
     "text": [
      "Dump data to  unit_test_git  End  2021-02-10 18:15:12.607187\n",
      "Connection OK\n",
      "Start delete old data at 2021-02-10 18:15:13.537573\n",
      "Delete Last ['col1'] at 2021-02-10 18:15:13.604470\n"
     ]
    },
    {
     "name": "stderr",
     "output_type": "stream",
     "text": [
      "."
     ]
    },
    {
     "name": "stdout",
     "output_type": "stream",
     "text": [
      "Dump data to  unit_test_git  End  2021-02-10 18:15:13.953327\n",
      "Connection OK\n",
      "Drop Existing Table at  2021-02-10 18:15:14.865989\n",
      "Dump data to  unit_test_git  End  2021-02-10 18:15:15.310860\n",
      "Start delete old data at 2021-02-10 18:15:15.311857\n",
      "Delete Last ['date'] at 2021-02-10 18:15:15.390512\n",
      "delete from unit_test_git where CAST([date] AS date) > '2020-10-12'\n"
     ]
    },
    {
     "name": "stderr",
     "output_type": "stream",
     "text": [
      "."
     ]
    },
    {
     "name": "stdout",
     "output_type": "stream",
     "text": [
      "Dump data to  unit_test_git  End  2021-02-10 18:15:15.665614\n",
      "Connection OK\n",
      "Start delete old data at 2021-02-10 18:15:17.064854\n",
      "Delete Last ['col1'] at 2021-02-10 18:15:17.147383\n",
      "delete from unit_test_git where ([col1] in ('4.0', '5.0', '6.0', '7.0') OR [col1] IS NULL)\n"
     ]
    },
    {
     "name": "stderr",
     "output_type": "stream",
     "text": [
      "."
     ]
    },
    {
     "name": "stdout",
     "output_type": "stream",
     "text": [
      "Dump data to  unit_test_git  End  2021-02-10 18:15:17.516005\n",
      "Connection OK\n",
      "Start delete old data at 2021-02-10 18:15:18.912862\n",
      "Delete Last ['col1', 'col2'] at 2021-02-10 18:15:18.983798\n",
      "delete from unit_test_git where ([col1] in ('4.0', '5.0', '6.0', '7.0') OR [col1] IS NULL) and [col2] in ('3', '4', '5')\n"
     ]
    },
    {
     "name": "stderr",
     "output_type": "stream",
     "text": [
      "."
     ]
    },
    {
     "name": "stdout",
     "output_type": "stream",
     "text": [
      "Dump data to  unit_test_git  End  2021-02-10 18:15:19.342872\n",
      "Connection OK\n"
     ]
    },
    {
     "name": "stderr",
     "output_type": "stream",
     "text": [
      "."
     ]
    },
    {
     "name": "stdout",
     "output_type": "stream",
     "text": [
      "Connection OK\n",
      "Drop Existing Table at  2021-02-10 18:15:21.100262\n"
     ]
    },
    {
     "name": "stderr",
     "output_type": "stream",
     "text": [
      "."
     ]
    },
    {
     "name": "stdout",
     "output_type": "stream",
     "text": [
      "Dump data to  unit_test_git  End  2021-02-10 18:15:21.527766\n"
     ]
    },
    {
     "name": "stderr",
     "output_type": "stream",
     "text": [
      "\n",
      "----------------------------------------------------------------------\n",
      "Ran 14 tests in 22.775s\n",
      "\n",
      "OK\n"
     ]
    },
    {
     "data": {
      "text/plain": [
       "<unittest.main.TestProgram at 0x2d4797e7c88>"
      ]
     },
     "execution_count": 4,
     "metadata": {},
     "output_type": "execute_result"
    }
   ],
   "source": [
    "test_mssql = setting['MSSQL']\n",
    "\n",
    "class SQL_Test_class(unittest.TestCase):\n",
    "    def setUp(self):\n",
    "        self.sql = da_tran_SQL(sql_type = test_mssql['type'],\n",
    "                                host_name = test_mssql['host'],\n",
    "                                database_name = test_mssql['database'],\n",
    "                                user = test_mssql['user'],\n",
    "                                password = test_mssql['password'],\n",
    "                                partition_size = 2, \n",
    "                                parallel_dump = True, \n",
    "                                max_parallel = 2)\n",
    "        \n",
    "        self.df1 = pd.DataFrame({'col1' : [1,2,3,4,5] , 'col2' : [1,1,2,2,3] , 'col3' : [1,1,1,1,1]})\n",
    "        self.df2 = pd.DataFrame({'col1' : [4,5,6,7,8] , 'col2' : [3,3,4,4,5] , 'col3' : [2,2,2,2,2]})\n",
    "        self.table_name = 'unit_test_git'\n",
    "        self.df1.to_sql(self.table_name, con = self.sql.engine, index = False, if_exists = 'replace')\n",
    "        self.sql.parallel_dump = True\n",
    "        self.sql.max_parallel = 2\n",
    "        self.sql.partition_size = 2\n",
    "\n",
    "    def test_sp(self):\n",
    "        sql_q = \"\"\" CREATE OR ALTER PROCEDURE unit_test_git_SP (@PARAM1 AS VARCHAR(100))\n",
    "                    AS\n",
    "                    BEGIN\n",
    "                    SELECT * FROM {} WHERE col1 = @PARAM1 \n",
    "                    END\"\"\".format(self.table_name)\n",
    "        self.sql.engine.execute(sql_q)\n",
    "        df_read = self.sql.read('unit_test_git_SP', SP = True , param = {'@PARAM1' : 1})\n",
    "        expect_df = self.df1[self.df1['col1'] == 1]\n",
    "        result, expect = help_test(df_read, expect_df)\n",
    "        self.assertEqual(result, expect)\n",
    "        \n",
    "    def test_read_sql(self):\n",
    "        df_read = self.sql.read(self.table_name)\n",
    "        expect_df = self.df1\n",
    "        result, expect = help_test(df_read, expect_df)\n",
    "        self.assertEqual(result, expect)\n",
    "\n",
    "    def test_whole(self):\n",
    "        self.sql.dump_whole(self.df2, self.table_name)\n",
    "        df_read = self.sql.read(self.table_name)\n",
    "        expect_df = self.df2\n",
    "        result, expect = help_test(df_read, expect_df)\n",
    "        self.assertEqual(result, expect)\n",
    "        \n",
    "    \n",
    "    def test_replace1(self) :\n",
    "        self.sql.dump_replace(df_in = self.df2 , table_name_in = self.table_name, list_key = ['col1'])\n",
    "        df_read = self.sql.read(self.table_name)\n",
    "        expect_df = pd.DataFrame({'col1' : [1,2,3,4,5,6,7,8] , 'col2' : [1,1,2,3,3,4,4,5] , 'col3' : [1,1,1,2,2,2,2,2]})\n",
    "        result, expect = help_test(df_read, expect_df)\n",
    "        self.assertEqual(result, expect)\n",
    "        \n",
    "    def test_replace1_str(self) :\n",
    "        self.sql.dump_replace(df_in = self.df2 , table_name_in = self.table_name, list_key = 'col1')\n",
    "        df_read = self.sql.read(self.table_name)\n",
    "        expect_df = pd.DataFrame({'col1' : [1,2,3,4,5,6,7,8] , 'col2' : [1,1,2,3,3,4,4,5] , 'col3' : [1,1,1,2,2,2,2,2]})\n",
    "        result, expect = help_test(df_read, expect_df)\n",
    "        self.assertEqual(result, expect)\n",
    "\n",
    "    def test_replace2(self) :\n",
    "        self.sql.dump_replace(df_in = self.df2 , table_name_in = self.table_name, list_key = ['col1','col2'])\n",
    "        df_read = self.sql.read(self.table_name)\n",
    "        expect_df = pd.DataFrame({'col1' : [1,2,3,4,4,5,6,7,8] , 'col2' : [1,1,2,2,3,3,4,4,5] , 'col3' : [1,1,1,1,2,2,2,2,2]})\n",
    "        result, expect = help_test(df_read, expect_df)\n",
    "        self.assertEqual(result, expect)\n",
    "        \n",
    "    def test_replace3(self) :\n",
    "        self.sql.dump_replace(df_in = self.df2 , table_name_in = self.table_name, list_key = ['col1','col2','col3'])\n",
    "        df_read = self.sql.read(self.table_name)\n",
    "        expect_df = self.df1.append(self.df2)\n",
    "        result, expect = help_test(df_read, expect_df)\n",
    "        self.assertEqual(result, expect)\n",
    "\n",
    "    def test_replace_logic(self) :\n",
    "        self.sql.dump_replace(df_in = self.df2 , table_name_in = self.table_name, list_key = ['col1'],\n",
    "                             math_logic = {'col1' : {'logic' : '>', 'value' : 1}})\n",
    "        df_read = self.sql.read(self.table_name)\n",
    "        expect_df = self.df1[self.df1['col1'] <= 1].append(self.df2)\n",
    "        result, expect = help_test(df_read, expect_df)\n",
    "        self.assertEqual(result, expect)\n",
    "        \n",
    "    def test_replace_logic_date(self) :\n",
    "        df_date = pd.DataFrame({'col1' : [1,2,3,4,5], \n",
    "                                'date' : pd.date_range('2020-10-10','2020-10-14'), 'col2' :[1,1,1,1,1]})\n",
    "        self.sql.dump_whole(df_date, self.table_name)\n",
    "        expect_df = df_date[df_date['date'] <= '2020-10-12']\n",
    "        df_date['col2'] = 3\n",
    "        self.sql.dump_replace(df_in = df_date , table_name_in = self.table_name, list_key = ['date'],\n",
    "                             math_logic = {'date' : {'logic' : '>', 'value' : '2020-10-12', 'type' : 'date'}},debug = True)\n",
    "        df_read = self.sql.read(self.table_name)\n",
    "        expect_df = expect_df.append(df_date)\n",
    "        result, expect = help_test(df_read, expect_df)\n",
    "        self.assertEqual(result, expect)\n",
    "        \n",
    "    def test_replace3(self) :\n",
    "        self.sql.dump_replace(df_in = self.df2 , table_name_in = self.table_name, list_key = ['col1','col2','col3'])\n",
    "        df_read = self.sql.read(self.table_name)\n",
    "        expect_df = self.df1.append(self.df2)\n",
    "        result, expect = help_test(df_read, expect_df)\n",
    "        self.assertEqual(result, expect)\n",
    "\n",
    "    def test_new1_str(self) :\n",
    "        self.sql.dump_new(df_in = self.df2 , table_name_in = self.table_name, list_key = 'col1')\n",
    "        df_read = self.sql.read(self.table_name)\n",
    "        expect_df = pd.DataFrame({'col1' : [1,2,3,4,5,6,7,8] , 'col2' : [1,1,2,2,3,4,4,5] , 'col3' : [1,1,1,1,1,2,2,2]})\n",
    "        result, expect = help_test(df_read, expect_df)\n",
    "        self.assertEqual(result, expect)\n",
    "\n",
    "    def test_new1(self) :\n",
    "        self.sql.dump_new(df_in = self.df2 , table_name_in = self.table_name, list_key = ['col1'])\n",
    "        df_read = self.sql.read(self.table_name)\n",
    "        expect_df = pd.DataFrame({'col1' : [1,2,3,4,5,6,7,8] , 'col2' : [1,1,2,2,3,4,4,5] , 'col3' : [1,1,1,1,1,2,2,2]})\n",
    "        result, expect = help_test(df_read, expect_df)\n",
    "        self.assertEqual(result, expect)\n",
    "\n",
    "    def test_new2(self) :\n",
    "        self.sql.dump_new(df_in = self.df2 , table_name_in = self.table_name, list_key = ['col1','col2'], debug = False)\n",
    "        df_read = self.sql.read(self.table_name)\n",
    "        expect_df = pd.DataFrame({'col1' : [1,2,3,4,5,4,6,7,8] , 'col2' : [1,1,2,2,3,3,4,4,5] , 'col3' : [1,1,1,1,1,2,2,2,2]})\n",
    "        result, expect = help_test(df_read, expect_df)\n",
    "        self.assertEqual(result, expect)\n",
    "        \n",
    "    def test_replace_null1(self) :\n",
    "        df1_n = pd.DataFrame({'col1' : [1,None,3,4,5] , 'col2' : [1,1,2,2,3] , 'col3' : [1,1,1,1,1]})\n",
    "        df2_n = pd.DataFrame({'col1' : [4,5,6,7,None] , 'col2' : [3,3,4,4,5] , 'col3' : [2,2,2,2,2]})\n",
    "        df1_n.to_sql(self.table_name, con = self.sql.engine, index = False, if_exists = 'replace')\n",
    "        self.sql.dump_replace(df_in = df2_n , table_name_in = self.table_name, list_key = ['col1'] , debug = True)\n",
    "        df_read = self.sql.read(self.table_name).sort_values('col1').reset_index(drop = True)\n",
    "        expect_df = pd.DataFrame({'col1' : [1,3,4,5,6,7,None] , 'col2' : [1,2,3,3,4,4,5] , 'col3' : [1,1,2,2,2,2,2]})\n",
    "        result, expect = help_test(df_read.fillna(99), expect_df.fillna(99))\n",
    "        self.assertEqual(result, expect)\n",
    "\n",
    "    def test_replace_null2(self) :\n",
    "        df1_n = pd.DataFrame({'col1' : [1,None,3,4,5] , 'col2' : [1,1,2,2,3] , 'col3' : [1,1,1,1,1]})\n",
    "        df2_n = pd.DataFrame({'col1' : [4,5,6,7,None] , 'col2' : [3,3,4,4,5] , 'col3' : [2,2,2,2,2]})\n",
    "        df1_n.to_sql(self.table_name, con = self.sql.engine, index = False, if_exists = 'replace')\n",
    "        self.sql.dump_replace(df_in = df2_n , table_name_in = self.table_name, list_key = ['col1','col2'] , debug = True)\n",
    "        df_read = self.sql.read(self.table_name).sort_values('col1').reset_index(drop = True)\n",
    "        expect_df = pd.DataFrame({ 'col1' : [1,None,3,4,4,5,6,7,None] , 'col2' : [1,1,2,2,3,3,4,4,5] \n",
    "                                  ,'col3' : [1,1,1,1,2,2,2,2,2]}).sort_values('col1').reset_index(drop = True)\n",
    "\n",
    "        result, expect = help_test(df_read.fillna(99), expect_df.fillna(99))\n",
    "        self.assertEqual(result, expect)\n",
    "\n",
    "unittest.main(argv = ['first-arg-is-ignored'], exit = False)"
   ]
  },
  {
   "cell_type": "code",
   "execution_count": null,
   "metadata": {},
   "outputs": [],
   "source": []
  },
  {
   "cell_type": "code",
   "execution_count": 5,
   "metadata": {
    "scrolled": false
   },
   "outputs": [
    {
     "name": "stdout",
     "output_type": "stream",
     "text": [
      "Connection OK\n",
      "Start Filter Existing data from df at  2021-02-10 18:15:22.560463\n",
      "Dump data to  unit_test_git  End  2021-02-10 18:15:22.750780\n"
     ]
    },
    {
     "name": "stderr",
     "output_type": "stream",
     "text": [
      "."
     ]
    },
    {
     "name": "stdout",
     "output_type": "stream",
     "text": [
      "Connection OK\n",
      "Start Filter Existing data from df at  2021-02-10 18:15:23.587852\n"
     ]
    },
    {
     "name": "stderr",
     "output_type": "stream",
     "text": [
      "."
     ]
    },
    {
     "name": "stdout",
     "output_type": "stream",
     "text": [
      "Dump data to  unit_test_git  End  2021-02-10 18:15:23.821670\n",
      "Connection OK\n",
      "Start Filter Existing data from df at  2021-02-10 18:15:24.806776\n"
     ]
    },
    {
     "name": "stderr",
     "output_type": "stream",
     "text": [
      "."
     ]
    },
    {
     "name": "stdout",
     "output_type": "stream",
     "text": [
      "Dump data to  unit_test_git  End  2021-02-10 18:15:25.018258\n",
      "Connection OK\n"
     ]
    },
    {
     "name": "stderr",
     "output_type": "stream",
     "text": [
      "."
     ]
    },
    {
     "name": "stdout",
     "output_type": "stream",
     "text": [
      "Connection OK\n",
      "Start delete old data at 2021-02-10 18:15:27.307294\n",
      "Delete Last ['col1'] at 2021-02-10 18:15:27.382089\n"
     ]
    },
    {
     "name": "stderr",
     "output_type": "stream",
     "text": [
      "."
     ]
    },
    {
     "name": "stdout",
     "output_type": "stream",
     "text": [
      "Dump data to  unit_test_git  End  2021-02-10 18:15:27.512182\n",
      "Connection OK\n",
      "Start delete old data at 2021-02-10 18:15:28.459974\n",
      "Delete Last col1 at 2021-02-10 18:15:28.543913\n"
     ]
    },
    {
     "name": "stderr",
     "output_type": "stream",
     "text": [
      "."
     ]
    },
    {
     "name": "stdout",
     "output_type": "stream",
     "text": [
      "Dump data to  unit_test_git  End  2021-02-10 18:15:28.685504\n",
      "Connection OK\n",
      "Start delete old data at 2021-02-10 18:15:29.526879\n",
      "Delete Last ['col1', 'col2'] at 2021-02-10 18:15:29.598660\n",
      "Dump data to  unit_test_git  End  2021-02-10 18:15:29.718271\n"
     ]
    },
    {
     "name": "stderr",
     "output_type": "stream",
     "text": [
      "."
     ]
    },
    {
     "name": "stdout",
     "output_type": "stream",
     "text": [
      "Connection OK\n",
      "Start delete old data at 2021-02-10 18:15:30.572950\n",
      "Delete Last ['col1', 'col2', 'col3'] at 2021-02-10 18:15:30.645504\n",
      "Dump data to  "
     ]
    },
    {
     "name": "stderr",
     "output_type": "stream",
     "text": [
      "."
     ]
    },
    {
     "name": "stdout",
     "output_type": "stream",
     "text": [
      "unit_test_git  End  2021-02-10 18:15:30.767253\n",
      "Connection OK\n",
      "Start delete old data at 2021-02-10 18:15:31.649233\n",
      "Delete Last ['col1'] at 2021-02-10 18:15:31.718740\n"
     ]
    },
    {
     "name": "stderr",
     "output_type": "stream",
     "text": [
      "."
     ]
    },
    {
     "name": "stdout",
     "output_type": "stream",
     "text": [
      "Dump data to  unit_test_git  End  2021-02-10 18:15:31.847217\n",
      "Connection OK\n",
      "Drop Existing Table at  2021-02-10 18:15:32.812648\n",
      "Dump data to  unit_test_git  End  2021-02-10 18:15:33.148395\n",
      "Start delete old data at 2021-02-10 18:15:33.149254\n",
      "Delete Last ['date'] at 2021-02-10 18:15:33.228024\n"
     ]
    },
    {
     "name": "stderr",
     "output_type": "stream",
     "text": [
      "."
     ]
    },
    {
     "name": "stdout",
     "output_type": "stream",
     "text": [
      "Dump data to  unit_test_git  End  2021-02-10 18:15:33.362485\n",
      "Connection OK\n",
      "Start delete old data at 2021-02-10 18:15:34.716725\n",
      "Delete Last ['col1'] at 2021-02-10 18:15:34.794527\n",
      "delete from unit_test_git where (col1 in ('4.0', '5.0', '6.0', '7.0') OR col1 IS NULL)\n"
     ]
    },
    {
     "name": "stderr",
     "output_type": "stream",
     "text": [
      "."
     ]
    },
    {
     "name": "stdout",
     "output_type": "stream",
     "text": [
      "Dump data to  unit_test_git  End  2021-02-10 18:15:34.931533\n",
      "Connection OK\n",
      "Start delete old data at 2021-02-10 18:15:36.267320\n",
      "Delete Last ['col1', 'col2'] at 2021-02-10 18:15:36.353740\n",
      "delete from unit_test_git where (col1 in ('4.0', '5.0', '6.0', '7.0') OR col1 IS NULL) and col2 in ('3', '4', '5')\n"
     ]
    },
    {
     "name": "stderr",
     "output_type": "stream",
     "text": [
      "."
     ]
    },
    {
     "name": "stdout",
     "output_type": "stream",
     "text": [
      "Dump data to  unit_test_git  End  2021-02-10 18:15:36.483715\n",
      "Connection OK\n"
     ]
    },
    {
     "name": "stderr",
     "output_type": "stream",
     "text": [
      "."
     ]
    },
    {
     "name": "stdout",
     "output_type": "stream",
     "text": [
      "Connection OK\n",
      "Drop Existing Table at  2021-02-10 18:15:38.728266\n"
     ]
    },
    {
     "name": "stderr",
     "output_type": "stream",
     "text": [
      "."
     ]
    },
    {
     "name": "stdout",
     "output_type": "stream",
     "text": [
      "Dump data to  unit_test_git  End  2021-02-10 18:15:39.082554\n"
     ]
    },
    {
     "name": "stderr",
     "output_type": "stream",
     "text": [
      "\n",
      "----------------------------------------------------------------------\n",
      "Ran 14 tests in 17.507s\n",
      "\n",
      "OK\n"
     ]
    },
    {
     "data": {
      "text/plain": [
       "<unittest.main.TestProgram at 0x2d478f04788>"
      ]
     },
     "execution_count": 5,
     "metadata": {},
     "output_type": "execute_result"
    }
   ],
   "source": [
    "test_mysql = setting['MYSQL']\n",
    "    \n",
    "class SQL_Test_class(unittest.TestCase):\n",
    "    def setUp(self):\n",
    "        self.sql = da_tran_SQL(sql_type = test_mysql['type'],\n",
    "                                host_name = test_mysql['host'],\n",
    "                                database_name = test_mysql['database'],\n",
    "                                user = test_mysql['user'],\n",
    "                                password = test_mysql['password'])\n",
    "        self.df1 = pd.DataFrame({'col1' : [1,2,3,4,5] , 'col2' : [1,1,2,2,3] , 'col3' : [1,1,1,1,1]})\n",
    "        self.df2 = pd.DataFrame({'col1' : [4,5,6,7,8] , 'col2' : [3,3,4,4,5] , 'col3' : [2,2,2,2,2]})\n",
    "        self.table_name = 'unit_test_git'\n",
    "        self.df1.to_sql(self.table_name, con = self.sql.engine, index = False, if_exists = 'replace')\n",
    "\n",
    "    def test_sp(self):\n",
    "        sql_q = \"\"\" drop procedure if exists unit_test_git_SP;\"\"\"\n",
    "        self.sql.engine.execute(sql_q)\n",
    "        sql_q = \"\"\" CREATE PROCEDURE unit_test_git_SP\n",
    "                    (PARAM1 VARCHAR(100))\n",
    "                    BEGIN\n",
    "                    SELECT * FROM {} WHERE col1 = PARAM1 ;\n",
    "                    end;\"\"\".format(self.table_name)\n",
    "        self.sql.engine.execute(sql_q)\n",
    "        df_read = self.sql.read('unit_test_git_SP', SP = True , param = {'PARAM1' : 1})\n",
    "        expect_df = self.df1[self.df1['col1'] == 1]\n",
    "        result, expect = help_test(df_read, expect_df)\n",
    "        self.assertEqual(result, expect)\n",
    "\n",
    "\n",
    "    def test_read_sql(self):\n",
    "        df_read = self.sql.read(self.table_name)\n",
    "        expect_df = self.df1\n",
    "        result, expect = help_test(df_read, expect_df)\n",
    "        self.assertEqual(result, expect)\n",
    "\n",
    "    def test_whole(self):\n",
    "        self.sql.dump_whole(self.df2, self.table_name)\n",
    "        df_read = self.sql.read(self.table_name)\n",
    "        expect_df = self.df2\n",
    "        result, expect = help_test(df_read, expect_df)\n",
    "        self.assertEqual(result, expect)\n",
    "\n",
    "    def test_replace1(self) :\n",
    "        self.sql.dump_replace(df_in = self.df2 , table_name_in = self.table_name, list_key = ['col1'])\n",
    "        df_read = self.sql.read(self.table_name)\n",
    "        expect_df = pd.DataFrame({'col1' : [1,2,3,4,5,6,7,8] , 'col2' : [1,1,2,3,3,4,4,5] , 'col3' : [1,1,1,2,2,2,2,2]})\n",
    "        result, expect = help_test(df_read, expect_df)\n",
    "        self.assertEqual(result, expect)\n",
    "\n",
    "    def test_replace1_str(self) :\n",
    "        self.sql.dump_replace(df_in = self.df2 , table_name_in = self.table_name, list_key = 'col1')\n",
    "        df_read = self.sql.read(self.table_name)\n",
    "        expect_df = pd.DataFrame({'col1' : [1,2,3,4,5,6,7,8] , 'col2' : [1,1,2,3,3,4,4,5] , 'col3' : [1,1,1,2,2,2,2,2]})\n",
    "        result, expect = help_test(df_read, expect_df)\n",
    "        self.assertEqual(result, expect)\n",
    "\n",
    "    def test_replace2(self) :\n",
    "        self.sql.dump_replace(df_in = self.df2 , table_name_in = self.table_name, list_key = ['col1','col2'])\n",
    "        df_read = self.sql.read(self.table_name)\n",
    "        expect_df = pd.DataFrame({'col1' : [1,2,3,4,4,5,6,7,8] , 'col2' : [1,1,2,2,3,3,4,4,5] , 'col3' : [1,1,1,1,2,2,2,2,2]})\n",
    "        result, expect = help_test(df_read, expect_df)\n",
    "        self.assertEqual(result, expect)\n",
    "        \n",
    "    def test_replace3(self) :\n",
    "        self.sql.dump_replace(df_in = self.df2 , table_name_in = self.table_name, list_key = ['col1','col2','col3'])\n",
    "        df_read = self.sql.read(self.table_name)\n",
    "        expect_df = self.df1.append(self.df2)\n",
    "        result, expect = help_test(df_read, expect_df)\n",
    "        self.assertEqual(result, expect)\n",
    "\n",
    "    def test_replace_logic(self) :\n",
    "        self.sql.dump_replace(df_in = self.df2 , table_name_in = self.table_name, list_key = ['col1'],\n",
    "                             math_logic = {'col1' : {'logic' : '>', 'value' : 1}})\n",
    "        df_read = self.sql.read(self.table_name)\n",
    "        expect_df = self.df1[self.df1['col1'] <= 1].append(self.df2)\n",
    "        result, expect = help_test(df_read, expect_df)\n",
    "        self.assertEqual(result, expect)\n",
    "        \n",
    "    def test_replace_logic_date(self) :\n",
    "        df_date = pd.DataFrame({'col1' : [1,2,3,4,5], \n",
    "                                'date' : pd.date_range('2020-10-10','2020-10-14'), 'col2' :[1,1,1,1,1]})\n",
    "        self.sql.dump_whole(df_date, self.table_name)\n",
    "        expect_df = df_date[df_date['date'] <= '2020-10-12']\n",
    "        df_date['col2'] = 3\n",
    "        self.sql.dump_replace(df_in = df_date , table_name_in = self.table_name, list_key = ['date'],\n",
    "                             math_logic = {'date' : {'logic' : '>', 'value' : '2020-10-12', 'type' : 'date'}})\n",
    "        df_read = self.sql.read(self.table_name)\n",
    "        expect_df = expect_df.append(df_date)\n",
    "        result, expect = help_test(df_read, expect_df)\n",
    "        self.assertEqual(result, expect)\n",
    "        \n",
    "    def test_replace3(self) :\n",
    "        self.sql.dump_replace(df_in = self.df2 , table_name_in = self.table_name, list_key = ['col1','col2','col3'])\n",
    "        df_read = self.sql.read(self.table_name)\n",
    "        expect_df = self.df1.append(self.df2)\n",
    "        result, expect = help_test(df_read, expect_df)\n",
    "        self.assertEqual(result, expect)\n",
    "\n",
    "    def test_new1_str(self) :\n",
    "        self.sql.dump_new(df_in = self.df2 , table_name_in = self.table_name, list_key = 'col1')\n",
    "        df_read = self.sql.read(self.table_name)\n",
    "        expect_df = pd.DataFrame({'col1' : [1,2,3,4,5,6,7,8] , 'col2' : [1,1,2,2,3,4,4,5] , 'col3' : [1,1,1,1,1,2,2,2]})\n",
    "        result, expect = help_test(df_read, expect_df)\n",
    "        self.assertEqual(result, expect)\n",
    "\n",
    "    def test_new1(self) :\n",
    "        self.sql.dump_new(df_in = self.df2 , table_name_in = self.table_name, list_key = ['col1'])\n",
    "        df_read = self.sql.read(self.table_name)\n",
    "        expect_df = pd.DataFrame({'col1' : [1,2,3,4,5,6,7,8] , 'col2' : [1,1,2,2,3,4,4,5] , 'col3' : [1,1,1,1,1,2,2,2]})\n",
    "        result, expect = help_test(df_read, expect_df)\n",
    "        self.assertEqual(result, expect)\n",
    "\n",
    "    def test_new2(self) :\n",
    "        self.sql.dump_new(df_in = self.df2 , table_name_in = self.table_name, list_key = ['col1','col2'], debug = False)\n",
    "        df_read = self.sql.read(self.table_name)\n",
    "        expect_df = pd.DataFrame({'col1' : [1,2,3,4,5,4,6,7,8] , 'col2' : [1,1,2,2,3,3,4,4,5] , 'col3' : [1,1,1,1,1,2,2,2,2]})\n",
    "        result, expect = help_test(df_read, expect_df)\n",
    "        self.assertEqual(result, expect)\n",
    "\n",
    "    def test_replace_null1(self) :\n",
    "        df1_n = pd.DataFrame({'col1' : [1,None,3,4,5] , 'col2' : [1,1,2,2,3] , 'col3' : [1,1,1,1,1]})\n",
    "        df2_n = pd.DataFrame({'col1' : [4,5,6,7,None] , 'col2' : [3,3,4,4,5] , 'col3' : [2,2,2,2,2]})\n",
    "        df1_n.to_sql(self.table_name, con = self.sql.engine, index = False, if_exists = 'replace')\n",
    "        self.sql.dump_replace(df_in = df2_n , table_name_in = self.table_name, list_key = ['col1'] , debug = True)\n",
    "        df_read = self.sql.read(self.table_name).sort_values('col1').reset_index(drop = True)\n",
    "        expect_df = pd.DataFrame({'col1' : [1,3,4,5,6,7,None] , 'col2' : [1,2,3,3,4,4,5] , 'col3' : [1,1,2,2,2,2,2]})\n",
    "        result, expect = help_test(df_read.fillna(99), expect_df.fillna(99))\n",
    "        self.assertEqual(result, expect)\n",
    "\n",
    "    def test_replace_null2(self) :\n",
    "        df1_n = pd.DataFrame({'col1' : [1,None,3,4,5] , 'col2' : [1,1,2,2,3] , 'col3' : [1,1,1,1,1]})\n",
    "        df2_n = pd.DataFrame({'col1' : [4,5,6,7,None] , 'col2' : [3,3,4,4,5] , 'col3' : [2,2,2,2,2]})\n",
    "        df1_n.to_sql(self.table_name, con = self.sql.engine, index = False, if_exists = 'replace')\n",
    "        self.sql.dump_replace(df_in = df2_n , table_name_in = self.table_name, list_key = ['col1','col2'] , debug = True)\n",
    "        df_read = self.sql.read(self.table_name).sort_values('col1').reset_index(drop = True)\n",
    "        expect_df = pd.DataFrame({ 'col1' : [1,None,3,4,4,5,6,7,None] , 'col2' : [1,1,2,2,3,3,4,4,5] \n",
    "                                  ,'col3' : [1,1,1,1,2,2,2,2,2]}).sort_values('col1').reset_index(drop = True)\n",
    "\n",
    "        result, expect = help_test(df_read.fillna(99), expect_df.fillna(99))\n",
    "        self.assertEqual(result, expect)\n",
    "\n",
    "unittest.main(argv = ['first-arg-is-ignored'], exit = False)"
   ]
  },
  {
   "cell_type": "code",
   "execution_count": 6,
   "metadata": {
    "scrolled": false
   },
   "outputs": [
    {
     "name": "stdout",
     "output_type": "stream",
     "text": [
      "Connection OK\n",
      "Start Filter Existing data from df at  2021-02-10 18:15:40.064216\n"
     ]
    },
    {
     "name": "stderr",
     "output_type": "stream",
     "text": [
      "."
     ]
    },
    {
     "name": "stdout",
     "output_type": "stream",
     "text": [
      "Dump data to  unit_test_git  End  2021-02-10 18:15:40.394291\n",
      "Connection OK\n",
      "Start Filter Existing data from df at  2021-02-10 18:15:41.241286\n"
     ]
    },
    {
     "name": "stderr",
     "output_type": "stream",
     "text": [
      "."
     ]
    },
    {
     "name": "stdout",
     "output_type": "stream",
     "text": [
      "Dump data to  unit_test_git  End  2021-02-10 18:15:41.533108\n",
      "Connection OK\n",
      "Start Filter Existing data from df at  2021-02-10 18:15:42.435611\n"
     ]
    },
    {
     "name": "stderr",
     "output_type": "stream",
     "text": [
      "."
     ]
    },
    {
     "name": "stdout",
     "output_type": "stream",
     "text": [
      "Dump data to  unit_test_git  End  2021-02-10 18:15:42.727773\n",
      "Connection OK\n"
     ]
    },
    {
     "name": "stderr",
     "output_type": "stream",
     "text": [
      "."
     ]
    },
    {
     "name": "stdout",
     "output_type": "stream",
     "text": [
      "Connection OK\n",
      "Start delete old data at 2021-02-10 18:15:44.641920\n",
      "Delete Last ['col1'] at 2021-02-10 18:15:44.720326\n"
     ]
    },
    {
     "name": "stderr",
     "output_type": "stream",
     "text": [
      "."
     ]
    },
    {
     "name": "stdout",
     "output_type": "stream",
     "text": [
      "Dump data to  unit_test_git  End  2021-02-10 18:15:45.106098\n",
      "Connection OK\n",
      "Start delete old data at 2021-02-10 18:15:46.074059\n",
      "Delete Last col1 at 2021-02-10 18:15:46.152576\n"
     ]
    },
    {
     "name": "stderr",
     "output_type": "stream",
     "text": [
      "."
     ]
    },
    {
     "name": "stdout",
     "output_type": "stream",
     "text": [
      "Dump data to  unit_test_git  End  2021-02-10 18:15:46.522025\n",
      "Connection OK\n",
      "Start delete old data at 2021-02-10 18:15:47.387818\n",
      "Delete Last ['col1', 'col2'] at 2021-02-10 18:15:47.457600\n"
     ]
    },
    {
     "name": "stderr",
     "output_type": "stream",
     "text": [
      "."
     ]
    },
    {
     "name": "stdout",
     "output_type": "stream",
     "text": [
      "Dump data to  unit_test_git  End  2021-02-10 18:15:47.807955\n",
      "Connection OK\n",
      "Start delete old data at 2021-02-10 18:15:48.721596\n",
      "Delete Last ['col1', 'col2', 'col3'] at 2021-02-10 18:15:48.800202\n"
     ]
    },
    {
     "name": "stderr",
     "output_type": "stream",
     "text": [
      "."
     ]
    },
    {
     "name": "stdout",
     "output_type": "stream",
     "text": [
      "Dump data to  unit_test_git  End  2021-02-10 18:15:49.192039\n",
      "Connection OK\n",
      "Start delete old data at 2021-02-10 18:15:50.137055\n",
      "Delete Last ['col1'] at 2021-02-10 18:15:50.213066\n"
     ]
    },
    {
     "name": "stderr",
     "output_type": "stream",
     "text": [
      "."
     ]
    },
    {
     "name": "stdout",
     "output_type": "stream",
     "text": [
      "Dump data to  unit_test_git  End  2021-02-10 18:15:50.619753\n",
      "Connection OK\n",
      "Drop Existing Table at  2021-02-10 18:15:51.488029\n",
      "Dump data to  unit_test_git  End  2021-02-10 18:15:52.471394\n",
      "Start delete old data at 2021-02-10 18:15:52.472444\n",
      "Delete Last ['date'] at 2021-02-10 18:15:52.549968\n"
     ]
    },
    {
     "name": "stderr",
     "output_type": "stream",
     "text": [
      "."
     ]
    },
    {
     "name": "stdout",
     "output_type": "stream",
     "text": [
      "Dump data to  unit_test_git  End  2021-02-10 18:15:52.828454\n",
      "Connection OK\n",
      "Start delete old data at 2021-02-10 18:15:54.105969\n",
      "Delete Last ['col1'] at 2021-02-10 18:15:54.179768\n",
      "delete from unit_test_git where (col1 in ('4.0', '5.0', '6.0', '7.0') OR col1 IS NULL)\n"
     ]
    },
    {
     "name": "stderr",
     "output_type": "stream",
     "text": [
      "."
     ]
    },
    {
     "name": "stdout",
     "output_type": "stream",
     "text": [
      "Dump data to  unit_test_git  End  2021-02-10 18:15:54.541300\n",
      "Connection OK\n",
      "Start delete old data at 2021-02-10 18:15:55.823366\n",
      "Delete Last ['col1', 'col2'] at 2021-02-10 18:15:55.894770\n",
      "delete from unit_test_git where (col1 in ('4.0', '5.0', '6.0', '7.0') OR col1 IS NULL) and col2 in ('3', '4', '5')\n"
     ]
    },
    {
     "name": "stderr",
     "output_type": "stream",
     "text": [
      "."
     ]
    },
    {
     "name": "stdout",
     "output_type": "stream",
     "text": [
      "Dump data to  unit_test_git  End  2021-02-10 18:15:56.249582\n",
      "Connection OK\n"
     ]
    },
    {
     "name": "stderr",
     "output_type": "stream",
     "text": [
      "."
     ]
    },
    {
     "name": "stdout",
     "output_type": "stream",
     "text": [
      "Connection OK\n",
      "Drop Existing Table at  2021-02-10 18:15:58.185760\n"
     ]
    },
    {
     "name": "stderr",
     "output_type": "stream",
     "text": [
      "."
     ]
    },
    {
     "name": "stdout",
     "output_type": "stream",
     "text": [
      "Dump data to  unit_test_git  End  2021-02-10 18:15:58.653925\n"
     ]
    },
    {
     "name": "stderr",
     "output_type": "stream",
     "text": [
      "\n",
      "----------------------------------------------------------------------\n",
      "Ran 14 tests in 19.502s\n",
      "\n",
      "OK\n"
     ]
    },
    {
     "data": {
      "text/plain": [
       "<unittest.main.TestProgram at 0x2d479ad20c8>"
      ]
     },
     "execution_count": 6,
     "metadata": {},
     "output_type": "execute_result"
    }
   ],
   "source": [
    "test_mysql = setting['MYSQL']\n",
    "    \n",
    "class SQL_Test_class(unittest.TestCase):\n",
    "    def setUp(self):\n",
    "        self.sql = da_tran_SQL(sql_type = test_mysql['type'],\n",
    "                                host_name = test_mysql['host'],\n",
    "                                database_name = test_mysql['database'],\n",
    "                                user = test_mysql['user'],\n",
    "                                password = test_mysql['password'],\n",
    "                                partition_size = 2, \n",
    "                                parallel_dump = True, \n",
    "                                max_parallel = 2)\n",
    "        \n",
    "        self.df1 = pd.DataFrame({'col1' : [1,2,3,4,5] , 'col2' : [1,1,2,2,3] , 'col3' : [1,1,1,1,1]})\n",
    "        self.df2 = pd.DataFrame({'col1' : [4,5,6,7,8] , 'col2' : [3,3,4,4,5] , 'col3' : [2,2,2,2,2]})\n",
    "        self.table_name = 'unit_test_git'\n",
    "        self.df1.to_sql(self.table_name, con = self.sql.engine, index = False, if_exists = 'replace')\n",
    "\n",
    "    def test_sp(self):\n",
    "        sql_q = \"\"\" drop procedure if exists unit_test_git_SP;\"\"\"\n",
    "        self.sql.engine.execute(sql_q)\n",
    "        sql_q = \"\"\" CREATE PROCEDURE unit_test_git_SP\n",
    "                    (PARAM1 VARCHAR(100))\n",
    "                    BEGIN\n",
    "                    SELECT * FROM {} WHERE col1 = PARAM1 ;\n",
    "                    end;\"\"\".format(self.table_name)\n",
    "        self.sql.engine.execute(sql_q)\n",
    "        df_read = self.sql.read('unit_test_git_SP', SP = True , param = {'PARAM1' : 1})\n",
    "        expect_df = self.df1[self.df1['col1'] == 1]\n",
    "        result, expect = help_test(df_read, expect_df)\n",
    "        self.assertEqual(result, expect)\n",
    "\n",
    "\n",
    "    def test_read_sql(self):\n",
    "        df_read = self.sql.read(self.table_name)\n",
    "        expect_df = self.df1\n",
    "        result, expect = help_test(df_read, expect_df)\n",
    "        self.assertEqual(result, expect)\n",
    "\n",
    "    def test_whole(self):\n",
    "        self.sql.dump_whole(self.df2, self.table_name)\n",
    "        df_read = self.sql.read(self.table_name)\n",
    "        expect_df = self.df2\n",
    "        result, expect = help_test(df_read, expect_df)\n",
    "        self.assertEqual(result, expect)\n",
    "\n",
    "    def test_replace1(self) :\n",
    "        self.sql.dump_replace(df_in = self.df2 , table_name_in = self.table_name, list_key = ['col1'])\n",
    "        df_read = self.sql.read(self.table_name)\n",
    "        expect_df = pd.DataFrame({'col1' : [1,2,3,4,5,6,7,8] , 'col2' : [1,1,2,3,3,4,4,5] , 'col3' : [1,1,1,2,2,2,2,2]})\n",
    "        result, expect = help_test(df_read, expect_df)\n",
    "        self.assertEqual(result, expect)\n",
    "\n",
    "    def test_replace1_str(self) :\n",
    "        self.sql.dump_replace(df_in = self.df2 , table_name_in = self.table_name, list_key = 'col1')\n",
    "        df_read = self.sql.read(self.table_name)\n",
    "        expect_df = pd.DataFrame({'col1' : [1,2,3,4,5,6,7,8] , 'col2' : [1,1,2,3,3,4,4,5] , 'col3' : [1,1,1,2,2,2,2,2]})\n",
    "        result, expect = help_test(df_read, expect_df)\n",
    "        self.assertEqual(result, expect)\n",
    "\n",
    "    def test_replace2(self) :\n",
    "        self.sql.dump_replace(df_in = self.df2 , table_name_in = self.table_name, list_key = ['col1','col2'])\n",
    "        df_read = self.sql.read(self.table_name)\n",
    "        expect_df = pd.DataFrame({'col1' : [1,2,3,4,4,5,6,7,8] , 'col2' : [1,1,2,2,3,3,4,4,5] , 'col3' : [1,1,1,1,2,2,2,2,2]})\n",
    "        result, expect = help_test(df_read, expect_df)\n",
    "        self.assertEqual(result, expect)\n",
    "        \n",
    "    def test_replace3(self) :\n",
    "        self.sql.dump_replace(df_in = self.df2 , table_name_in = self.table_name, list_key = ['col1','col2','col3'])\n",
    "        df_read = self.sql.read(self.table_name)\n",
    "        expect_df = self.df1.append(self.df2)\n",
    "        result, expect = help_test(df_read, expect_df)\n",
    "        self.assertEqual(result, expect)\n",
    "\n",
    "    def test_replace_logic(self) :\n",
    "        self.sql.dump_replace(df_in = self.df2 , table_name_in = self.table_name, list_key = ['col1'],\n",
    "                             math_logic = {'col1' : {'logic' : '>', 'value' : 1}})\n",
    "        df_read = self.sql.read(self.table_name)\n",
    "        expect_df = self.df1[self.df1['col1'] <= 1].append(self.df2)\n",
    "        result, expect = help_test(df_read, expect_df)\n",
    "        self.assertEqual(result, expect)\n",
    "        \n",
    "    def test_replace_logic_date(self) :\n",
    "        df_date = pd.DataFrame({'col1' : [1,2,3,4,5], \n",
    "                                'date' : pd.date_range('2020-10-10','2020-10-14'), 'col2' :[1,1,1,1,1]})\n",
    "        self.sql.dump_whole(df_date, self.table_name)\n",
    "        expect_df = df_date[df_date['date'] <= '2020-10-12']\n",
    "        df_date['col2'] = 3\n",
    "        self.sql.dump_replace(df_in = df_date , table_name_in = self.table_name, list_key = ['date'],\n",
    "                             math_logic = {'date' : {'logic' : '>', 'value' : '2020-10-12', 'type' : 'date'}})\n",
    "        df_read = self.sql.read(self.table_name)\n",
    "        expect_df = expect_df.append(df_date)\n",
    "        result, expect = help_test(df_read, expect_df)\n",
    "        self.assertEqual(result, expect)\n",
    "        \n",
    "    def test_replace3(self) :\n",
    "        self.sql.dump_replace(df_in = self.df2 , table_name_in = self.table_name, list_key = ['col1','col2','col3'])\n",
    "        df_read = self.sql.read(self.table_name)\n",
    "        expect_df = self.df1.append(self.df2)\n",
    "        result, expect = help_test(df_read, expect_df)\n",
    "        self.assertEqual(result, expect)\n",
    "\n",
    "    def test_new1_str(self) :\n",
    "        self.sql.dump_new(df_in = self.df2 , table_name_in = self.table_name, list_key = 'col1')\n",
    "        df_read = self.sql.read(self.table_name)\n",
    "        expect_df = pd.DataFrame({'col1' : [1,2,3,4,5,6,7,8] , 'col2' : [1,1,2,2,3,4,4,5] , 'col3' : [1,1,1,1,1,2,2,2]})\n",
    "        result, expect = help_test(df_read, expect_df)\n",
    "        self.assertEqual(result, expect)\n",
    "\n",
    "    def test_new1(self) :\n",
    "        self.sql.dump_new(df_in = self.df2 , table_name_in = self.table_name, list_key = ['col1'])\n",
    "        df_read = self.sql.read(self.table_name)\n",
    "        expect_df = pd.DataFrame({'col1' : [1,2,3,4,5,6,7,8] , 'col2' : [1,1,2,2,3,4,4,5] , 'col3' : [1,1,1,1,1,2,2,2]})\n",
    "        result, expect = help_test(df_read, expect_df)\n",
    "        self.assertEqual(result, expect)\n",
    "\n",
    "    def test_new2(self) :\n",
    "        self.sql.dump_new(df_in = self.df2 , table_name_in = self.table_name, list_key = ['col1','col2'], debug = False)\n",
    "        df_read = self.sql.read(self.table_name)\n",
    "        expect_df = pd.DataFrame({'col1' : [1,2,3,4,5,4,6,7,8] , 'col2' : [1,1,2,2,3,3,4,4,5] , 'col3' : [1,1,1,1,1,2,2,2,2]})\n",
    "        result, expect = help_test(df_read, expect_df)\n",
    "        self.assertEqual(result, expect)\n",
    "\n",
    "    def test_replace_null1(self) :\n",
    "        df1_n = pd.DataFrame({'col1' : [1,None,3,4,5] , 'col2' : [1,1,2,2,3] , 'col3' : [1,1,1,1,1]})\n",
    "        df2_n = pd.DataFrame({'col1' : [4,5,6,7,None] , 'col2' : [3,3,4,4,5] , 'col3' : [2,2,2,2,2]})\n",
    "        df1_n.to_sql(self.table_name, con = self.sql.engine, index = False, if_exists = 'replace')\n",
    "        self.sql.dump_replace(df_in = df2_n , table_name_in = self.table_name, list_key = ['col1'] , debug = True)\n",
    "        df_read = self.sql.read(self.table_name).sort_values('col1').reset_index(drop = True)\n",
    "        expect_df = pd.DataFrame({'col1' : [1,3,4,5,6,7,None] , 'col2' : [1,2,3,3,4,4,5] , 'col3' : [1,1,2,2,2,2,2]})\n",
    "        result, expect = help_test(df_read.fillna(99), expect_df.fillna(99))\n",
    "        self.assertEqual(result, expect)\n",
    "\n",
    "    def test_replace_null2(self) :\n",
    "        df1_n = pd.DataFrame({'col1' : [1,None,3,4,5] , 'col2' : [1,1,2,2,3] , 'col3' : [1,1,1,1,1]})\n",
    "        df2_n = pd.DataFrame({'col1' : [4,5,6,7,None] , 'col2' : [3,3,4,4,5] , 'col3' : [2,2,2,2,2]})\n",
    "        df1_n.to_sql(self.table_name, con = self.sql.engine, index = False, if_exists = 'replace')\n",
    "        self.sql.dump_replace(df_in = df2_n , table_name_in = self.table_name, list_key = ['col1','col2'] , debug = True)\n",
    "        df_read = self.sql.read(self.table_name).sort_values('col1').reset_index(drop = True)\n",
    "        expect_df = pd.DataFrame({ 'col1' : [1,None,3,4,4,5,6,7,None] , 'col2' : [1,1,2,2,3,3,4,4,5] \n",
    "                                  ,'col3' : [1,1,1,1,2,2,2,2,2]}).sort_values('col1').reset_index(drop = True)\n",
    "\n",
    "        result, expect = help_test(df_read.fillna(99), expect_df.fillna(99))\n",
    "        self.assertEqual(result, expect)\n",
    "\n",
    "unittest.main(argv = ['first-arg-is-ignored'], exit = False)"
   ]
  },
  {
   "cell_type": "code",
   "execution_count": 7,
   "metadata": {
    "scrolled": false
   },
   "outputs": [
    {
     "name": "stdout",
     "output_type": "stream",
     "text": [
      "Connection OK\n",
      "Start Filter Existing data from df at  2021-02-10 18:16:16.778242\n",
      "Dump data to  unit_test_git  End  2021-02-10 18:16:20.058251\n"
     ]
    },
    {
     "name": "stderr",
     "output_type": "stream",
     "text": [
      "."
     ]
    },
    {
     "name": "stdout",
     "output_type": "stream",
     "text": [
      "Connection OK\n",
      "Start Filter Existing data from df at  2021-02-10 18:16:39.150750\n",
      "Dump data to  unit_test_git  End  2021-02-10 18:16:41.915374\n"
     ]
    },
    {
     "name": "stderr",
     "output_type": "stream",
     "text": [
      "."
     ]
    },
    {
     "name": "stdout",
     "output_type": "stream",
     "text": [
      "Connection OK\n",
      "Start Filter Existing data from df at  2021-02-10 18:17:00.257695\n",
      "Dump data to  unit_test_git  End  2021-02-10 18:17:02.952737\n"
     ]
    },
    {
     "name": "stderr",
     "output_type": "stream",
     "text": [
      "."
     ]
    },
    {
     "name": "stdout",
     "output_type": "stream",
     "text": [
      "Connection OK\n"
     ]
    },
    {
     "name": "stderr",
     "output_type": "stream",
     "text": [
      "."
     ]
    },
    {
     "name": "stdout",
     "output_type": "stream",
     "text": [
      "Connection OK\n",
      "Start delete old data at 2021-02-10 18:17:35.219659\n",
      "Delete Last ['col1'] at 2021-02-10 18:17:36.062118\n",
      "Dump data to  unit_test_git  End  2021-02-10 18:17:37.753421\n"
     ]
    },
    {
     "name": "stderr",
     "output_type": "stream",
     "text": [
      "."
     ]
    },
    {
     "name": "stdout",
     "output_type": "stream",
     "text": [
      "Connection OK\n",
      "Start delete old data at 2021-02-10 18:17:54.433020\n",
      "Delete Last col1 at 2021-02-10 18:17:55.298649\n",
      "Dump data to  unit_test_git  End  2021-02-10 18:17:57.029650\n"
     ]
    },
    {
     "name": "stderr",
     "output_type": "stream",
     "text": [
      "."
     ]
    },
    {
     "name": "stdout",
     "output_type": "stream",
     "text": [
      "Connection OK\n",
      "Start delete old data at 2021-02-10 18:18:12.139211\n",
      "Delete Last ['col1', 'col2'] at 2021-02-10 18:18:12.940569\n",
      "Dump data to  unit_test_git  End  2021-02-10 18:18:14.544197\n"
     ]
    },
    {
     "name": "stderr",
     "output_type": "stream",
     "text": [
      "."
     ]
    },
    {
     "name": "stdout",
     "output_type": "stream",
     "text": [
      "Connection OK\n",
      "Start delete old data at 2021-02-10 18:18:29.482299\n",
      "Delete Last ['col1', 'col2', 'col3'] at 2021-02-10 18:18:30.267140\n",
      "Dump data to  unit_test_git  End  2021-02-10 18:18:31.838777\n"
     ]
    },
    {
     "name": "stderr",
     "output_type": "stream",
     "text": [
      "."
     ]
    },
    {
     "name": "stdout",
     "output_type": "stream",
     "text": [
      "Connection OK\n",
      "Start delete old data at 2021-02-10 18:18:47.394692\n",
      "Delete Last ['col1'] at 2021-02-10 18:18:48.228232\n",
      "Dump data to  unit_test_git  End  2021-02-10 18:18:49.909527\n"
     ]
    },
    {
     "name": "stderr",
     "output_type": "stream",
     "text": [
      "."
     ]
    },
    {
     "name": "stdout",
     "output_type": "stream",
     "text": [
      "Connection OK\n",
      "Drop Existing Table at  2021-02-10 18:19:06.660865\n",
      "Dump data to  unit_test_git  End  2021-02-10 18:19:10.102258\n",
      "Start delete old data at 2021-02-10 18:19:10.103200\n",
      "Delete Last ['date'] at 2021-02-10 18:19:10.963972\n",
      "Dump data to  unit_test_git  End  2021-02-10 18:19:12.684107\n"
     ]
    },
    {
     "name": "stderr",
     "output_type": "stream",
     "text": [
      "."
     ]
    },
    {
     "name": "stdout",
     "output_type": "stream",
     "text": [
      "Connection OK\n",
      "Start delete old data at 2021-02-10 18:19:37.043436\n",
      "Delete Last ['col1'] at 2021-02-10 18:19:37.843328\n",
      "delete from unit_test_git where (\"col1\" in ('4.0', '5.0', '6.0', '7.0') OR \"col1\" IS NULL)\n",
      "Dump data to  unit_test_git  End  2021-02-10 18:19:39.453167\n"
     ]
    },
    {
     "name": "stderr",
     "output_type": "stream",
     "text": [
      "."
     ]
    },
    {
     "name": "stdout",
     "output_type": "stream",
     "text": [
      "Connection OK\n",
      "Start delete old data at 2021-02-10 18:20:04.918986\n",
      "Delete Last ['col1', 'col2'] at 2021-02-10 18:20:05.759958\n",
      "delete from unit_test_git where (\"col1\" in ('4.0', '5.0', '6.0', '7.0') OR \"col1\" IS NULL) and \"col2\" in ('3', '4', '5')\n",
      "Dump data to  unit_test_git  End  2021-02-10 18:20:07.442938\n"
     ]
    },
    {
     "name": "stderr",
     "output_type": "stream",
     "text": [
      "."
     ]
    },
    {
     "name": "stdout",
     "output_type": "stream",
     "text": [
      "Connection OK\n",
      "Drop Existing Table at  2021-02-10 18:20:23.551589\n",
      "Dump data to  unit_test_git  End  2021-02-10 18:20:27.426718\n"
     ]
    },
    {
     "name": "stderr",
     "output_type": "stream",
     "text": [
      ".\n",
      "----------------------------------------------------------------------\n",
      "Ran 13 tests in 269.518s\n",
      "\n",
      "OK\n"
     ]
    },
    {
     "data": {
      "text/plain": [
       "<unittest.main.TestProgram at 0x2d479a2f208>"
      ]
     },
     "execution_count": 7,
     "metadata": {},
     "output_type": "execute_result"
    }
   ],
   "source": [
    "test_postgresql = setting['POSTGRESQL']\n",
    "\n",
    "class SQL_Test_class(unittest.TestCase):\n",
    "    def setUp(self):\n",
    "        self.sql = da_tran_SQL(sql_type = test_postgresql['type'],\n",
    "                                host_name = test_postgresql['host'],\n",
    "                                database_name = test_postgresql['database'],\n",
    "                                user = test_postgresql['user'],\n",
    "                                password = test_postgresql['password'])\n",
    "        self.df1 = pd.DataFrame({'col1' : [1,2,3,4,5] , 'col2' : [1,1,2,2,3] , 'col3' : [1,1,1,1,1]})\n",
    "        self.df2 = pd.DataFrame({'col1' : [4,5,6,7,8] , 'col2' : [3,3,4,4,5] , 'col3' : [2,2,2,2,2]})\n",
    "        self.table_name = 'unit_test_git'\n",
    "        self.df1.to_sql(self.table_name, con = self.sql.engine, index = False, if_exists = 'replace')\n",
    "\n",
    "#     def test_sp(self):\n",
    "#         sql_q = \"\"\" CREATE OR REPLACE PROCEDURE unit_test_git_SP (PARAM1 INT)\n",
    "#                     RETURNS TABLE (col1 int, col2 int, col3 int)\n",
    "#                     language plpgsql\n",
    "#                     AS $$\n",
    "#                     BEGIN\n",
    "#                     RETURN QUERY(SELECT * FROM {} WHERE col1 = PARAM1) ;\n",
    "#                     END ; $$\"\"\".format(self.table_name)\n",
    "#         self.sql.engine.execute(sql_q)\n",
    "#         df_read = self.sql.read('unit_test_git_SP', SP = True , param = {'PARAM1' : 1})\n",
    "#         expect_df = self.df1[self.df1['col1'] == 1]\n",
    "#         result, expect = help_test(df_read, expect_df)\n",
    "#         self.assertEqual(result, expect)\n",
    "        \n",
    "    def test_read_sql(self):\n",
    "        df_read = self.sql.read(self.table_name)\n",
    "        expect_df = self.df1\n",
    "        result, expect = help_test(df_read, expect_df)\n",
    "        self.assertEqual(result, expect)\n",
    "\n",
    "    def test_whole(self):\n",
    "        self.sql.dump_whole(self.df2, self.table_name)\n",
    "        df_read = self.sql.read(self.table_name)\n",
    "        expect_df = self.df2\n",
    "        result, expect = help_test(df_read, expect_df)\n",
    "        self.assertEqual(result, expect)\n",
    "        \n",
    "    def test_replace1(self) :\n",
    "        self.sql.dump_replace(df_in = self.df2 , table_name_in = self.table_name, list_key = ['col1'])\n",
    "        df_read = self.sql.read(self.table_name)\n",
    "        expect_df = pd.DataFrame({'col1' : [1,2,3,4,5,6,7,8] , 'col2' : [1,1,2,3,3,4,4,5] , 'col3' : [1,1,1,2,2,2,2,2]})\n",
    "        result, expect = help_test(df_read, expect_df)\n",
    "        self.assertEqual(result, expect)\n",
    "\n",
    "    def test_replace1_str(self) :\n",
    "        self.sql.dump_replace(df_in = self.df2 , table_name_in = self.table_name, list_key = 'col1')\n",
    "        df_read = self.sql.read(self.table_name)\n",
    "        expect_df = pd.DataFrame({'col1' : [1,2,3,4,5,6,7,8] , 'col2' : [1,1,2,3,3,4,4,5] , 'col3' : [1,1,1,2,2,2,2,2]})\n",
    "        result, expect = help_test(df_read, expect_df)\n",
    "        self.assertEqual(result, expect)\n",
    "\n",
    "    def test_replace2(self) :\n",
    "        self.sql.dump_replace(df_in = self.df2 , table_name_in = self.table_name, list_key = ['col1','col2'])\n",
    "        df_read = self.sql.read(self.table_name)\n",
    "        expect_df = pd.DataFrame({'col1' : [1,2,3,4,4,5,6,7,8] , 'col2' : [1,1,2,2,3,3,4,4,5] , 'col3' : [1,1,1,1,2,2,2,2,2]})\n",
    "        result, expect = help_test(df_read, expect_df)\n",
    "        self.assertEqual(result, expect)\n",
    "        \n",
    "    def test_replace3(self) :\n",
    "        self.sql.dump_replace(df_in = self.df2 , table_name_in = self.table_name, list_key = ['col1','col2','col3'])\n",
    "        df_read = self.sql.read(self.table_name)\n",
    "        expect_df = self.df1.append(self.df2)\n",
    "        result, expect = help_test(df_read, expect_df)\n",
    "        self.assertEqual(result, expect)\n",
    "\n",
    "    def test_replace_logic(self) :\n",
    "        self.sql.dump_replace(df_in = self.df2 , table_name_in = self.table_name, list_key = ['col1'],\n",
    "                             math_logic = {'col1' : {'logic' : '>', 'value' : 1}})\n",
    "        df_read = self.sql.read(self.table_name)\n",
    "        expect_df = self.df1[self.df1['col1'] <= 1].append(self.df2)\n",
    "        result, expect = help_test(df_read, expect_df)\n",
    "        self.assertEqual(result, expect)\n",
    "        \n",
    "    def test_replace_logic_date(self) :\n",
    "        df_date = pd.DataFrame({'col1' : [1,2,3,4,5], \n",
    "                                'date' : pd.date_range('2020-10-10','2020-10-14'), 'col2' :[1,1,1,1,1]})\n",
    "        \n",
    "        self.sql.dump_whole(df_date, self.table_name)\n",
    "        expect_df = df_date[df_date['date'] <= '2020-10-12']\n",
    "        df_date['col2'] = 3\n",
    "        self.sql.dump_replace(df_in = df_date , table_name_in = self.table_name, list_key = ['date'],\n",
    "                             math_logic = {'date' : {'logic' : '>', 'value' : '2020-10-12', 'type' : 'date'}})\n",
    "        df_read = self.sql.read(self.table_name)\n",
    "        expect_df = expect_df.append(df_date)\n",
    "        result, expect = help_test(df_read, expect_df)\n",
    "        self.assertEqual(result, expect)\n",
    "        \n",
    "    def test_replace3(self) :\n",
    "        self.sql.dump_replace(df_in = self.df2 , table_name_in = self.table_name, list_key = ['col1','col2','col3'])\n",
    "        df_read = self.sql.read(self.table_name)\n",
    "        expect_df = self.df1.append(self.df2)\n",
    "        result, expect = help_test(df_read, expect_df)\n",
    "        self.assertEqual(result, expect)\n",
    "\n",
    "    def test_new1_str(self) :\n",
    "        self.sql.dump_new(df_in = self.df2 , table_name_in = self.table_name, list_key = 'col1')\n",
    "        df_read = self.sql.read(self.table_name)\n",
    "        expect_df = pd.DataFrame({'col1' : [1,2,3,4,5,6,7,8] , 'col2' : [1,1,2,2,3,4,4,5] , 'col3' : [1,1,1,1,1,2,2,2]})\n",
    "        result, expect = help_test(df_read, expect_df)\n",
    "        self.assertEqual(result, expect)\n",
    "\n",
    "    def test_new1(self) :\n",
    "        self.sql.dump_new(df_in = self.df2 , table_name_in = self.table_name, list_key = ['col1'])\n",
    "        df_read = self.sql.read(self.table_name)\n",
    "        expect_df = pd.DataFrame({'col1' : [1,2,3,4,5,6,7,8] , 'col2' : [1,1,2,2,3,4,4,5] , 'col3' : [1,1,1,1,1,2,2,2]})\n",
    "        result, expect = help_test(df_read, expect_df)\n",
    "        self.assertEqual(result, expect)\n",
    "\n",
    "    def test_new2(self) :\n",
    "        self.sql.dump_new(df_in = self.df2 , table_name_in = self.table_name, list_key = ['col1','col2'], debug = False)\n",
    "        df_read = self.sql.read(self.table_name)\n",
    "        expect_df = pd.DataFrame({'col1' : [1,2,3,4,5,4,6,7,8] , 'col2' : [1,1,2,2,3,3,4,4,5] , 'col3' : [1,1,1,1,1,2,2,2,2]})\n",
    "        result, expect = help_test(df_read, expect_df)\n",
    "        self.assertEqual(result, expect)\n",
    "        \n",
    "    def test_replace_null1(self) :\n",
    "        df1_n = pd.DataFrame({'col1' : [1,None,3,4,5] , 'col2' : [1,1,2,2,3] , 'col3' : [1,1,1,1,1]})\n",
    "        df2_n = pd.DataFrame({'col1' : [4,5,6,7,None] , 'col2' : [3,3,4,4,5] , 'col3' : [2,2,2,2,2]})\n",
    "        df1_n.to_sql(self.table_name, con = self.sql.engine, index = False, if_exists = 'replace')\n",
    "        self.sql.dump_replace(df_in = df2_n , table_name_in = self.table_name, list_key = ['col1'] , debug = True)\n",
    "        df_read = self.sql.read(self.table_name).sort_values('col1').reset_index(drop = True)\n",
    "        expect_df = pd.DataFrame({'col1' : [1,3,4,5,6,7,None] , 'col2' : [1,2,3,3,4,4,5] , 'col3' : [1,1,2,2,2,2,2]})\n",
    "        result, expect = help_test(df_read.fillna(99), expect_df.fillna(99))\n",
    "        self.assertEqual(result, expect)\n",
    "\n",
    "    def test_replace_null2(self) :\n",
    "        df1_n = pd.DataFrame({'col1' : [1,None,3,4,5] , 'col2' : [1,1,2,2,3] , 'col3' : [1,1,1,1,1]})\n",
    "        df2_n = pd.DataFrame({'col1' : [4,5,6,7,None] , 'col2' : [3,3,4,4,5] , 'col3' : [2,2,2,2,2]})\n",
    "        df1_n.to_sql(self.table_name, con = self.sql.engine, index = False, if_exists = 'replace')\n",
    "        self.sql.dump_replace(df_in = df2_n , table_name_in = self.table_name, list_key = ['col1','col2'] , debug = True)\n",
    "        df_read = self.sql.read(self.table_name).sort_values('col1').reset_index(drop = True)\n",
    "        expect_df = pd.DataFrame({ 'col1' : [1,None,3,4,4,5,6,7,None] , 'col2' : [1,1,2,2,3,3,4,4,5] \n",
    "                                  ,'col3' : [1,1,1,1,2,2,2,2,2]}).sort_values('col1').reset_index(drop = True)\n",
    "\n",
    "        result, expect = help_test(df_read.fillna(99), expect_df.fillna(99))\n",
    "        self.assertEqual(result, expect)\n",
    "        \n",
    "unittest.main(argv = ['first-arg-is-ignored'], exit = False)"
   ]
  },
  {
   "cell_type": "code",
   "execution_count": 8,
   "metadata": {},
   "outputs": [
    {
     "name": "stdout",
     "output_type": "stream",
     "text": [
      "Connection OK\n",
      "Start Filter Existing data from df at  2021-02-10 18:20:43.339619\n",
      "Dump data to  unit_test_git  End  2021-02-10 18:20:47.634924\n"
     ]
    },
    {
     "name": "stderr",
     "output_type": "stream",
     "text": [
      "."
     ]
    },
    {
     "name": "stdout",
     "output_type": "stream",
     "text": [
      "Connection OK\n",
      "Start Filter Existing data from df at  2021-02-10 18:21:04.656602\n",
      "Dump data to  unit_test_git  End  2021-02-10 18:21:08.779427\n"
     ]
    },
    {
     "name": "stderr",
     "output_type": "stream",
     "text": [
      "."
     ]
    },
    {
     "name": "stdout",
     "output_type": "stream",
     "text": [
      "Connection OK\n",
      "Start Filter Existing data from df at  2021-02-10 18:21:24.882192\n",
      "Dump data to  unit_test_git  End  2021-02-10 18:21:29.332393\n"
     ]
    },
    {
     "name": "stderr",
     "output_type": "stream",
     "text": [
      "."
     ]
    },
    {
     "name": "stdout",
     "output_type": "stream",
     "text": [
      "Connection OK\n"
     ]
    },
    {
     "name": "stderr",
     "output_type": "stream",
     "text": [
      "."
     ]
    },
    {
     "name": "stdout",
     "output_type": "stream",
     "text": [
      "Connection OK\n",
      "Start delete old data at 2021-02-10 18:22:01.220511\n",
      "Delete Last ['col1'] at 2021-02-10 18:22:02.019990\n",
      "Dump data to  unit_test_git  End  2021-02-10 18:22:06.921525\n"
     ]
    },
    {
     "name": "stderr",
     "output_type": "stream",
     "text": [
      "."
     ]
    },
    {
     "name": "stdout",
     "output_type": "stream",
     "text": [
      "Connection OK\n",
      "Start delete old data at 2021-02-10 18:22:23.289746\n",
      "Delete Last col1 at 2021-02-10 18:22:24.167476\n",
      "Dump data to  unit_test_git  End  2021-02-10 18:22:29.663168\n"
     ]
    },
    {
     "name": "stderr",
     "output_type": "stream",
     "text": [
      "."
     ]
    },
    {
     "name": "stdout",
     "output_type": "stream",
     "text": [
      "Connection OK\n",
      "Start delete old data at 2021-02-10 18:22:45.011102\n",
      "Delete Last ['col1', 'col2'] at 2021-02-10 18:22:45.822196\n",
      "Dump data to  unit_test_git  End  2021-02-10 18:22:50.881187\n"
     ]
    },
    {
     "name": "stderr",
     "output_type": "stream",
     "text": [
      "."
     ]
    },
    {
     "name": "stdout",
     "output_type": "stream",
     "text": [
      "Connection OK\n",
      "Start delete old data at 2021-02-10 18:23:06.723953\n",
      "Delete Last ['col1', 'col2', 'col3'] at 2021-02-10 18:23:07.562838\n",
      "Dump data to  unit_test_git  End  2021-02-10 18:23:12.465872\n"
     ]
    },
    {
     "name": "stderr",
     "output_type": "stream",
     "text": [
      "."
     ]
    },
    {
     "name": "stdout",
     "output_type": "stream",
     "text": [
      "Connection OK\n",
      "Start delete old data at 2021-02-10 18:23:29.000737\n",
      "Delete Last ['col1'] at 2021-02-10 18:23:29.951885\n",
      "Dump data to  unit_test_git  End  2021-02-10 18:23:35.460055\n"
     ]
    },
    {
     "name": "stderr",
     "output_type": "stream",
     "text": [
      "."
     ]
    },
    {
     "name": "stdout",
     "output_type": "stream",
     "text": [
      "Connection OK\n",
      "Drop Existing Table at  2021-02-10 18:23:52.892116\n",
      "Dump data to  unit_test_git  End  2021-02-10 18:23:59.168891\n",
      "Start delete old data at 2021-02-10 18:23:59.170922\n",
      "Delete Last ['date'] at 2021-02-10 18:24:00.100871\n",
      "Dump data to  unit_test_git  End  2021-02-10 18:24:03.663177\n"
     ]
    },
    {
     "name": "stderr",
     "output_type": "stream",
     "text": [
      "."
     ]
    },
    {
     "name": "stdout",
     "output_type": "stream",
     "text": [
      "Connection OK\n",
      "Start delete old data at 2021-02-10 18:24:29.945937\n",
      "Delete Last ['col1'] at 2021-02-10 18:24:30.870263\n",
      "delete from unit_test_git where (\"col1\" in ('4.0', '5.0', '6.0', '7.0') OR \"col1\" IS NULL)\n",
      "Dump data to  unit_test_git  End  2021-02-10 18:24:36.849317\n"
     ]
    },
    {
     "name": "stderr",
     "output_type": "stream",
     "text": [
      "."
     ]
    },
    {
     "name": "stdout",
     "output_type": "stream",
     "text": [
      "Connection OK\n",
      "Start delete old data at 2021-02-10 18:25:06.009333\n",
      "Delete Last ['col1', 'col2'] at 2021-02-10 18:25:06.891045\n",
      "delete from unit_test_git where (\"col1\" in ('4.0', '5.0', '6.0', '7.0') OR \"col1\" IS NULL) and \"col2\" in ('3', '4', '5')\n",
      "Dump data to  unit_test_git  End  2021-02-10 18:25:11.968741\n"
     ]
    },
    {
     "name": "stderr",
     "output_type": "stream",
     "text": [
      "."
     ]
    },
    {
     "name": "stdout",
     "output_type": "stream",
     "text": [
      "Connection OK\n",
      "Drop Existing Table at  2021-02-10 18:25:27.232234\n",
      "Dump data to  unit_test_git  End  2021-02-10 18:25:33.237248\n"
     ]
    },
    {
     "name": "stderr",
     "output_type": "stream",
     "text": [
      ".\n",
      "----------------------------------------------------------------------\n",
      "Ran 13 tests in 305.771s\n",
      "\n",
      "OK\n"
     ]
    },
    {
     "data": {
      "text/plain": [
       "<unittest.main.TestProgram at 0x2d479e866c8>"
      ]
     },
     "execution_count": 8,
     "metadata": {},
     "output_type": "execute_result"
    }
   ],
   "source": [
    "test_postgresql = setting['POSTGRESQL']\n",
    "\n",
    "class SQL_Test_class(unittest.TestCase):\n",
    "    def setUp(self):\n",
    "        self.sql = da_tran_SQL(sql_type = test_postgresql['type'],\n",
    "                                host_name = test_postgresql['host'],\n",
    "                                database_name = test_postgresql['database'],\n",
    "                                user = test_postgresql['user'],\n",
    "                                password = test_postgresql['password'],\n",
    "                                partition_size = 2, \n",
    "                                parallel_dump = True, \n",
    "                                max_parallel = 2)\n",
    "        \n",
    "        self.df1 = pd.DataFrame({'col1' : [1,2,3,4,5] , 'col2' : [1,1,2,2,3] , 'col3' : [1,1,1,1,1]})\n",
    "        self.df2 = pd.DataFrame({'col1' : [4,5,6,7,8] , 'col2' : [3,3,4,4,5] , 'col3' : [2,2,2,2,2]})\n",
    "        self.table_name = 'unit_test_git'\n",
    "        self.df1.to_sql(self.table_name, con = self.sql.engine, index = False, if_exists = 'replace')\n",
    "\n",
    "#     def test_sp(self):\n",
    "#         sql_q = \"\"\" CREATE OR REPLACE PROCEDURE unit_test_git_SP (PARAM1 INT)\n",
    "#                     RETURNS TABLE (col1 int, col2 int, col3 int)\n",
    "#                     language plpgsql\n",
    "#                     AS $$\n",
    "#                     BEGIN\n",
    "#                     RETURN QUERY(SELECT * FROM {} WHERE col1 = PARAM1) ;\n",
    "#                     END ; $$\"\"\".format(self.table_name)\n",
    "#         self.sql.engine.execute(sql_q)\n",
    "#         df_read = self.sql.read('unit_test_git_SP', SP = True , param = {'PARAM1' : 1})\n",
    "#         expect_df = self.df1[self.df1['col1'] == 1]\n",
    "#         result, expect = help_test(df_read, expect_df)\n",
    "#         self.assertEqual(result, expect)\n",
    "        \n",
    "    def test_read_sql(self):\n",
    "        df_read = self.sql.read(self.table_name)\n",
    "        expect_df = self.df1\n",
    "        result, expect = help_test(df_read, expect_df)\n",
    "        self.assertEqual(result, expect)\n",
    "\n",
    "    def test_whole(self):\n",
    "        self.sql.dump_whole(self.df2, self.table_name)\n",
    "        df_read = self.sql.read(self.table_name)\n",
    "        expect_df = self.df2\n",
    "        result, expect = help_test(df_read, expect_df)\n",
    "        self.assertEqual(result, expect)\n",
    "        \n",
    "    def test_replace1(self) :\n",
    "        self.sql.dump_replace(df_in = self.df2 , table_name_in = self.table_name, list_key = ['col1'])\n",
    "        df_read = self.sql.read(self.table_name)\n",
    "        expect_df = pd.DataFrame({'col1' : [1,2,3,4,5,6,7,8] , 'col2' : [1,1,2,3,3,4,4,5] , 'col3' : [1,1,1,2,2,2,2,2]})\n",
    "        result, expect = help_test(df_read, expect_df)\n",
    "        self.assertEqual(result, expect)\n",
    "\n",
    "    def test_replace1_str(self) :\n",
    "        self.sql.dump_replace(df_in = self.df2 , table_name_in = self.table_name, list_key = 'col1')\n",
    "        df_read = self.sql.read(self.table_name)\n",
    "        expect_df = pd.DataFrame({'col1' : [1,2,3,4,5,6,7,8] , 'col2' : [1,1,2,3,3,4,4,5] , 'col3' : [1,1,1,2,2,2,2,2]})\n",
    "        result, expect = help_test(df_read, expect_df)\n",
    "        self.assertEqual(result, expect)\n",
    "\n",
    "    def test_replace2(self) :\n",
    "        self.sql.dump_replace(df_in = self.df2 , table_name_in = self.table_name, list_key = ['col1','col2'])\n",
    "        df_read = self.sql.read(self.table_name)\n",
    "        expect_df = pd.DataFrame({'col1' : [1,2,3,4,4,5,6,7,8] , 'col2' : [1,1,2,2,3,3,4,4,5] , 'col3' : [1,1,1,1,2,2,2,2,2]})\n",
    "        result, expect = help_test(df_read, expect_df)\n",
    "        self.assertEqual(result, expect)\n",
    "        \n",
    "    def test_replace3(self) :\n",
    "        self.sql.dump_replace(df_in = self.df2 , table_name_in = self.table_name, list_key = ['col1','col2','col3'])\n",
    "        df_read = self.sql.read(self.table_name)\n",
    "        expect_df = self.df1.append(self.df2)\n",
    "        result, expect = help_test(df_read, expect_df)\n",
    "        self.assertEqual(result, expect)\n",
    "\n",
    "    def test_replace_logic(self) :\n",
    "        self.sql.dump_replace(df_in = self.df2 , table_name_in = self.table_name, list_key = ['col1'],\n",
    "                             math_logic = {'col1' : {'logic' : '>', 'value' : 1}})\n",
    "        df_read = self.sql.read(self.table_name)\n",
    "        expect_df = self.df1[self.df1['col1'] <= 1].append(self.df2)\n",
    "        result, expect = help_test(df_read, expect_df)\n",
    "        self.assertEqual(result, expect)\n",
    "        \n",
    "    def test_replace_logic_date(self) :\n",
    "        df_date = pd.DataFrame({'col1' : [1,2,3,4,5], \n",
    "                                'date' : pd.date_range('2020-10-10','2020-10-14'), 'col2' :[1,1,1,1,1]})\n",
    "        \n",
    "        self.sql.dump_whole(df_date, self.table_name)\n",
    "        expect_df = df_date[df_date['date'] <= '2020-10-12']\n",
    "        df_date['col2'] = 3\n",
    "        self.sql.dump_replace(df_in = df_date , table_name_in = self.table_name, list_key = ['date'],\n",
    "                             math_logic = {'date' : {'logic' : '>', 'value' : '2020-10-12', 'type' : 'date'}})\n",
    "        df_read = self.sql.read(self.table_name)\n",
    "        expect_df = expect_df.append(df_date)\n",
    "        result, expect = help_test(df_read, expect_df)\n",
    "        self.assertEqual(result, expect)\n",
    "        \n",
    "    def test_replace3(self) :\n",
    "        self.sql.dump_replace(df_in = self.df2 , table_name_in = self.table_name, list_key = ['col1','col2','col3'])\n",
    "        df_read = self.sql.read(self.table_name)\n",
    "        expect_df = self.df1.append(self.df2)\n",
    "        result, expect = help_test(df_read, expect_df)\n",
    "        self.assertEqual(result, expect)\n",
    "\n",
    "    def test_new1_str(self) :\n",
    "        self.sql.dump_new(df_in = self.df2 , table_name_in = self.table_name, list_key = 'col1')\n",
    "        df_read = self.sql.read(self.table_name)\n",
    "        expect_df = pd.DataFrame({'col1' : [1,2,3,4,5,6,7,8] , 'col2' : [1,1,2,2,3,4,4,5] , 'col3' : [1,1,1,1,1,2,2,2]})\n",
    "        result, expect = help_test(df_read, expect_df)\n",
    "        self.assertEqual(result, expect)\n",
    "\n",
    "    def test_new1(self) :\n",
    "        self.sql.dump_new(df_in = self.df2 , table_name_in = self.table_name, list_key = ['col1'])\n",
    "        df_read = self.sql.read(self.table_name)\n",
    "        expect_df = pd.DataFrame({'col1' : [1,2,3,4,5,6,7,8] , 'col2' : [1,1,2,2,3,4,4,5] , 'col3' : [1,1,1,1,1,2,2,2]})\n",
    "        result, expect = help_test(df_read, expect_df)\n",
    "        self.assertEqual(result, expect)\n",
    "\n",
    "    def test_new2(self) :\n",
    "        self.sql.dump_new(df_in = self.df2 , table_name_in = self.table_name, list_key = ['col1','col2'], debug = False)\n",
    "        df_read = self.sql.read(self.table_name)\n",
    "        expect_df = pd.DataFrame({'col1' : [1,2,3,4,5,4,6,7,8] , 'col2' : [1,1,2,2,3,3,4,4,5] , 'col3' : [1,1,1,1,1,2,2,2,2]})\n",
    "        result, expect = help_test(df_read, expect_df)\n",
    "        self.assertEqual(result, expect)\n",
    "\n",
    "    def test_replace_null1(self) :\n",
    "        df1_n = pd.DataFrame({'col1' : [1,None,3,4,5] , 'col2' : [1,1,2,2,3] , 'col3' : [1,1,1,1,1]})\n",
    "        df2_n = pd.DataFrame({'col1' : [4,5,6,7,None] , 'col2' : [3,3,4,4,5] , 'col3' : [2,2,2,2,2]})\n",
    "        df1_n.to_sql(self.table_name, con = self.sql.engine, index = False, if_exists = 'replace')\n",
    "        self.sql.dump_replace(df_in = df2_n , table_name_in = self.table_name, list_key = ['col1'] , debug = True)\n",
    "        df_read = self.sql.read(self.table_name).sort_values('col1').reset_index(drop = True)\n",
    "        expect_df = pd.DataFrame({'col1' : [1,3,4,5,6,7,None] , 'col2' : [1,2,3,3,4,4,5] , 'col3' : [1,1,2,2,2,2,2]})\n",
    "        result, expect = help_test(df_read.fillna(99), expect_df.fillna(99))\n",
    "        self.assertEqual(result, expect)\n",
    "\n",
    "    def test_replace_null2(self) :\n",
    "        df1_n = pd.DataFrame({'col1' : [1,None,3,4,5] , 'col2' : [1,1,2,2,3] , 'col3' : [1,1,1,1,1]})\n",
    "        df2_n = pd.DataFrame({'col1' : [4,5,6,7,None] , 'col2' : [3,3,4,4,5] , 'col3' : [2,2,2,2,2]})\n",
    "        df1_n.to_sql(self.table_name, con = self.sql.engine, index = False, if_exists = 'replace')\n",
    "        self.sql.dump_replace(df_in = df2_n , table_name_in = self.table_name, list_key = ['col1','col2'] , debug = True)\n",
    "        df_read = self.sql.read(self.table_name).sort_values('col1').reset_index(drop = True)\n",
    "        expect_df = pd.DataFrame({ 'col1' : [1,None,3,4,4,5,6,7,None] , 'col2' : [1,1,2,2,3,3,4,4,5] \n",
    "                                  ,'col3' : [1,1,1,1,2,2,2,2,2]}).sort_values('col1').reset_index(drop = True)\n",
    "\n",
    "        result, expect = help_test(df_read.fillna(99), expect_df.fillna(99))\n",
    "        self.assertEqual(result, expect)\n",
    "        \n",
    "unittest.main(argv = ['first-arg-is-ignored'], exit = False)"
   ]
  },
  {
   "cell_type": "code",
   "execution_count": null,
   "metadata": {},
   "outputs": [],
   "source": []
  }
 ],
 "metadata": {
  "kernelspec": {
   "display_name": "Python 3",
   "language": "python",
   "name": "python3"
  },
  "language_info": {
   "codemirror_mode": {
    "name": "ipython",
    "version": 3
   },
   "file_extension": ".py",
   "mimetype": "text/x-python",
   "name": "python",
   "nbconvert_exporter": "python",
   "pygments_lexer": "ipython3",
   "version": "3.7.6"
  }
 },
 "nbformat": 4,
 "nbformat_minor": 4
}
