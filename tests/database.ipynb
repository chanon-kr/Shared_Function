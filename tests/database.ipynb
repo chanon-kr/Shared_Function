{
 "cells": [
  {
   "cell_type": "code",
   "execution_count": 1,
   "metadata": {},
   "outputs": [
    {
     "name": "stdout",
     "output_type": "stream",
     "text": [
      "First Directory at : \\01_DEV_Function\\Shared_Function\\tests\n",
      "Load Setting OK\n",
      "Change Directory into : \\01_DEV_Function\\Shared_Function\n"
     ]
    }
   ],
   "source": [
    "import os, re,json, imp, unittest\n",
    "import pandas as pd\n",
    "\n",
    "print('First Directory at :', os.getcwd()[2:])\n",
    "\n",
    "#Load Setting File\n",
    "with open('setting.txt','r') as f:\n",
    "    setting = json.load(f)\n",
    "print('Load Setting OK')    \n",
    "\n",
    "os.chdir(re.sub(os.getcwd().split('\\\\')[-1]+'$','',os.getcwd()))\n",
    "print('Change Directory into :', os.getcwd()[2:])"
   ]
  },
  {
   "cell_type": "code",
   "execution_count": 2,
   "metadata": {},
   "outputs": [],
   "source": [
    "local_library = True\n",
    "#local_library = False\n",
    "\n",
    "if local_library : \n",
    "    da_tran_SQL = imp.load_source('da_tran_SQL', 'py_topping/data_connection/database.py').da_tran_SQL\n",
    "else :\n",
    "    from py_topping.data_connection.database import da_tran_SQL\n",
    "    \n",
    "def help_test(df_in1, df_in2) :\n",
    "    result = list()\n",
    "    expect = list()\n",
    "    for i in df_in1.columns :\n",
    "        result.append(list(df_in1[i]))\n",
    "        expect.append(list(df_in2[i]))\n",
    "    return result, expect"
   ]
  },
  {
   "cell_type": "code",
   "execution_count": 3,
   "metadata": {
    "scrolled": false
   },
   "outputs": [
    {
     "name": "stderr",
     "output_type": "stream",
     "text": [
      "C:\\Users\\chanonkr\\Anaconda3\\lib\\site-packages\\sqlalchemy\\dialects\\mssql\\pymssql.py:61: DeprecationWarning: Using or importing the ABCs from 'collections' instead of from 'collections.abc' is deprecated since Python 3.3,and in 3.9 it will stop working\n",
      "  module = __import__(\"pymssql\")\n"
     ]
    },
    {
     "name": "stdout",
     "output_type": "stream",
     "text": [
      "Connection OK\n",
      "Start Filter Existing data from df at  2020-12-09 20:31:53.773019\n"
     ]
    },
    {
     "name": "stderr",
     "output_type": "stream",
     "text": [
      "."
     ]
    },
    {
     "name": "stdout",
     "output_type": "stream",
     "text": [
      "Dump data to  unit_test_git  End  2020-12-09 20:31:54.038552\n",
      "Connection OK\n",
      "Start Filter Existing data from df at  2020-12-09 20:31:55.076582\n"
     ]
    },
    {
     "name": "stderr",
     "output_type": "stream",
     "text": [
      "."
     ]
    },
    {
     "name": "stdout",
     "output_type": "stream",
     "text": [
      "Dump data to  unit_test_git  End  2020-12-09 20:31:55.301862\n",
      "Connection OK\n",
      "Start Filter Existing data from df at  2020-12-09 20:31:56.359859\n",
      "Dump data to  unit_test_git  End  2020-12-09 20:31:56.553447\n"
     ]
    },
    {
     "name": "stderr",
     "output_type": "stream",
     "text": [
      "."
     ]
    },
    {
     "name": "stdout",
     "output_type": "stream",
     "text": [
      "Connection OK\n"
     ]
    },
    {
     "name": "stderr",
     "output_type": "stream",
     "text": [
      "."
     ]
    },
    {
     "name": "stdout",
     "output_type": "stream",
     "text": [
      "Connection OK\n",
      "Start delete old data at 2020-12-09 20:31:58.631963\n",
      "Delete Last ['col1'] at 2020-12-09 20:31:58.703488\n"
     ]
    },
    {
     "name": "stderr",
     "output_type": "stream",
     "text": [
      "."
     ]
    },
    {
     "name": "stdout",
     "output_type": "stream",
     "text": [
      "Dump data to  unit_test_git  End  2020-12-09 20:31:58.840264\n",
      "Connection OK\n",
      "Start delete old data at 2020-12-09 20:31:59.781675\n",
      "Delete Last col1 at 2020-12-09 20:31:59.871728\n"
     ]
    },
    {
     "name": "stderr",
     "output_type": "stream",
     "text": [
      "."
     ]
    },
    {
     "name": "stdout",
     "output_type": "stream",
     "text": [
      "Dump data to  unit_test_git  End  2020-12-09 20:32:00.012013\n",
      "Connection OK\n",
      "Start delete old data at 2020-12-09 20:32:00.978723\n",
      "Delete Last ['col1', 'col2'] at 2020-12-09 20:32:01.080780\n"
     ]
    },
    {
     "name": "stderr",
     "output_type": "stream",
     "text": [
      "."
     ]
    },
    {
     "name": "stdout",
     "output_type": "stream",
     "text": [
      "Dump data to  unit_test_git  End  2020-12-09 20:32:01.215337\n",
      "Connection OK\n",
      "Start delete old data at 2020-12-09 20:32:02.463387\n",
      "Delete Last ['col1', 'col2', 'col3'] at 2020-12-09 20:32:02.574611\n"
     ]
    },
    {
     "name": "stderr",
     "output_type": "stream",
     "text": [
      "."
     ]
    },
    {
     "name": "stdout",
     "output_type": "stream",
     "text": [
      "Dump data to  unit_test_git  End  2020-12-09 20:32:02.708832\n",
      "Connection OK\n",
      "Start delete old data at 2020-12-09 20:32:03.693440\n",
      "Delete Last ['col1'] at 2020-12-09 20:32:03.767368\n"
     ]
    },
    {
     "name": "stderr",
     "output_type": "stream",
     "text": [
      "."
     ]
    },
    {
     "name": "stdout",
     "output_type": "stream",
     "text": [
      "Dump data to  unit_test_git  End  2020-12-09 20:32:03.915513\n",
      "Connection OK\n",
      "Start Filter Existing data from df at  2020-12-09 20:32:04.858119\n",
      "Dump data to  unit_test_git  End  2020-12-09 20:32:05.387802\n",
      "Start delete old data at 2020-12-09 20:32:05.390711\n",
      "Delete Last ['date'] at 2020-12-09 20:32:05.475539\n"
     ]
    },
    {
     "name": "stderr",
     "output_type": "stream",
     "text": [
      "."
     ]
    },
    {
     "name": "stdout",
     "output_type": "stream",
     "text": [
      "Dump data to  unit_test_git  End  2020-12-09 20:32:05.605887\n",
      "Connection OK\n"
     ]
    },
    {
     "name": "stderr",
     "output_type": "stream",
     "text": [
      "."
     ]
    },
    {
     "name": "stdout",
     "output_type": "stream",
     "text": [
      "Connection OK\n",
      "Start Filter Existing data from df at  2020-12-09 20:32:07.614465\n"
     ]
    },
    {
     "name": "stderr",
     "output_type": "stream",
     "text": [
      "."
     ]
    },
    {
     "name": "stdout",
     "output_type": "stream",
     "text": [
      "Dump data to  unit_test_git  End  2020-12-09 20:32:08.127228\n"
     ]
    },
    {
     "name": "stderr",
     "output_type": "stream",
     "text": [
      "\n",
      "----------------------------------------------------------------------\n",
      "Ran 12 tests in 15.715s\n",
      "\n",
      "OK\n"
     ]
    },
    {
     "data": {
      "text/plain": [
       "<unittest.main.TestProgram at 0x28c80b117c8>"
      ]
     },
     "execution_count": 3,
     "metadata": {},
     "output_type": "execute_result"
    }
   ],
   "source": [
    "test_mssql = setting['MSSQL']\n",
    "\n",
    "class SQL_Test_class(unittest.TestCase):\n",
    "    def setUp(self):\n",
    "        self.sql = da_tran_SQL(sql_type = test_mssql['type'],\n",
    "                                host_name = test_mssql['host'],\n",
    "                                database_name = test_mssql['database'],\n",
    "                                user = test_mssql['user'],\n",
    "                                password = test_mssql['password'])\n",
    "        self.df1 = pd.DataFrame({'col1' : [1,2,3,4,5] , 'col2' : [1,1,2,2,3] , 'col3' : [1,1,1,1,1]})\n",
    "        self.df2 = pd.DataFrame({'col1' : [4,5,6,7,8] , 'col2' : [3,3,4,4,5] , 'col3' : [2,2,2,2,2]})\n",
    "        self.table_name = 'unit_test_git'\n",
    "        self.df1.to_sql(self.table_name, con = self.sql.engine, index = False, if_exists = 'replace')\n",
    "\n",
    "    def test_sp(self):\n",
    "        sql_q = \"\"\" CREATE OR ALTER PROCEDURE unit_test_git_SP (@PARAM1 AS VARCHAR(100))\n",
    "                    AS\n",
    "                    BEGIN\n",
    "                    SELECT * FROM {} WHERE col1 = @PARAM1 \n",
    "                    END\"\"\".format(self.table_name)\n",
    "        self.sql.engine.execute(sql_q)\n",
    "        df_read = self.sql.read('unit_test_git_SP', SP = True , param = {'@PARAM1' : 1})\n",
    "        expect_df = self.df1[self.df1['col1'] == 1]\n",
    "        result, expect = help_test(df_read, expect_df)\n",
    "        self.assertEqual(result, expect)\n",
    "        \n",
    "    def test_read_sql(self):\n",
    "        df_read = self.sql.read(self.table_name)\n",
    "        expect_df = self.df1\n",
    "        result, expect = help_test(df_read, expect_df)\n",
    "        self.assertEqual(result, expect)\n",
    "\n",
    "    def test_whole(self):\n",
    "        self.sql.dump_whole(self.df2, self.table_name)\n",
    "        df_read = self.sql.read(self.table_name)\n",
    "        expect_df = self.df2\n",
    "        result, expect = help_test(df_read, expect_df)\n",
    "        self.assertEqual(result, expect)\n",
    "        \n",
    "    def test_replace1(self) :\n",
    "        self.sql.dump_replace(df_in = self.df2 , table_name_in = self.table_name, list_key = ['col1'])\n",
    "        df_read = self.sql.read(self.table_name)\n",
    "        expect_df = pd.DataFrame({'col1' : [1,2,3,4,5,6,7,8] , 'col2' : [1,1,2,3,3,4,4,5] , 'col3' : [1,1,1,2,2,2,2,2]})\n",
    "        result, expect = help_test(df_read, expect_df)\n",
    "        self.assertEqual(result, expect)\n",
    "\n",
    "    def test_replace1_str(self) :\n",
    "        self.sql.dump_replace(df_in = self.df2 , table_name_in = self.table_name, list_key = 'col1')\n",
    "        df_read = self.sql.read(self.table_name)\n",
    "        expect_df = pd.DataFrame({'col1' : [1,2,3,4,5,6,7,8] , 'col2' : [1,1,2,3,3,4,4,5] , 'col3' : [1,1,1,2,2,2,2,2]})\n",
    "        result, expect = help_test(df_read, expect_df)\n",
    "        self.assertEqual(result, expect)\n",
    "\n",
    "    def test_replace2(self) :\n",
    "        self.sql.dump_replace(df_in = self.df2 , table_name_in = self.table_name, list_key = ['col1','col2'])\n",
    "        df_read = self.sql.read(self.table_name)\n",
    "        expect_df = pd.DataFrame({'col1' : [1,2,3,4,4,5,6,7,8] , 'col2' : [1,1,2,2,3,3,4,4,5] , 'col3' : [1,1,1,1,2,2,2,2,2]})\n",
    "        result, expect = help_test(df_read, expect_df)\n",
    "        self.assertEqual(result, expect)\n",
    "        \n",
    "    def test_replace3(self) :\n",
    "        self.sql.dump_replace(df_in = self.df2 , table_name_in = self.table_name, list_key = ['col1','col2','col3'])\n",
    "        df_read = self.sql.read(self.table_name)\n",
    "        expect_df = self.df1.append(self.df2)\n",
    "        result, expect = help_test(df_read, expect_df)\n",
    "        self.assertEqual(result, expect)\n",
    "\n",
    "    def test_replace_logic(self) :\n",
    "        self.sql.dump_replace(df_in = self.df2 , table_name_in = self.table_name, list_key = ['col1'],\n",
    "                             math_logic = {'col1' : {'logic' : '>', 'value' : 1}})\n",
    "        df_read = self.sql.read(self.table_name)\n",
    "        expect_df = self.df1[self.df1['col1'] <= 1].append(self.df2)\n",
    "        result, expect = help_test(df_read, expect_df)\n",
    "        self.assertEqual(result, expect)\n",
    "        \n",
    "    def test_replace_logic_date(self) :\n",
    "        df_date = pd.DataFrame({'col1' : [1,2,3,4,5], \n",
    "                                'date' : pd.date_range('2020-10-10','2020-10-14'), 'col2' :[1,1,1,1,1]})\n",
    "        \n",
    "        self.sql.dump_whole(df_date, self.table_name)\n",
    "        expect_df = df_date[df_date['date'] <= '2020-10-12']\n",
    "        df_date['col2'] = 3\n",
    "        self.sql.dump_replace(df_in = df_date , table_name_in = self.table_name, list_key = ['date'],\n",
    "                             math_logic = {'date' : {'logic' : '>', 'value' : '2020-10-12', 'type' : 'date'}})\n",
    "        df_read = self.sql.read(self.table_name)\n",
    "        expect_df = expect_df.append(df_date)\n",
    "        result, expect = help_test(df_read, expect_df)\n",
    "        self.assertEqual(result, expect)\n",
    "        \n",
    "    def test_replace3(self) :\n",
    "        self.sql.dump_replace(df_in = self.df2 , table_name_in = self.table_name, list_key = ['col1','col2','col3'])\n",
    "        df_read = self.sql.read(self.table_name)\n",
    "        expect_df = self.df1.append(self.df2)\n",
    "        result, expect = help_test(df_read, expect_df)\n",
    "        self.assertEqual(result, expect)\n",
    "\n",
    "    def test_new1_str(self) :\n",
    "        self.sql.dump_new(df_in = self.df2 , table_name_in = self.table_name, list_key = 'col1')\n",
    "        df_read = self.sql.read(self.table_name)\n",
    "        expect_df = pd.DataFrame({'col1' : [1,2,3,4,5,6,7,8] , 'col2' : [1,1,2,2,3,4,4,5] , 'col3' : [1,1,1,1,1,2,2,2]})\n",
    "        result, expect = help_test(df_read, expect_df)\n",
    "        self.assertEqual(result, expect)\n",
    "\n",
    "    def test_new1(self) :\n",
    "        self.sql.dump_new(df_in = self.df2 , table_name_in = self.table_name, list_key = ['col1'])\n",
    "        df_read = self.sql.read(self.table_name)\n",
    "        expect_df = pd.DataFrame({'col1' : [1,2,3,4,5,6,7,8] , 'col2' : [1,1,2,2,3,4,4,5] , 'col3' : [1,1,1,1,1,2,2,2]})\n",
    "        result, expect = help_test(df_read, expect_df)\n",
    "        self.assertEqual(result, expect)\n",
    "\n",
    "    def test_new2(self) :\n",
    "        self.sql.dump_new(df_in = self.df2 , table_name_in = self.table_name, list_key = ['col1','col2'], debug = False)\n",
    "        df_read = self.sql.read(self.table_name)\n",
    "        expect_df = pd.DataFrame({'col1' : [1,2,3,4,5,4,6,7,8] , 'col2' : [1,1,2,2,3,3,4,4,5] , 'col3' : [1,1,1,1,1,2,2,2,2]})\n",
    "        result, expect = help_test(df_read, expect_df)\n",
    "        self.assertEqual(result, expect)\n",
    "        \n",
    "unittest.main(argv = ['first-arg-is-ignored'], exit = False)"
   ]
  },
  {
   "cell_type": "code",
   "execution_count": 4,
   "metadata": {
    "scrolled": false
   },
   "outputs": [
    {
     "name": "stdout",
     "output_type": "stream",
     "text": [
      "Connection OK\n",
      "Start Filter Existing data from df at  2020-12-09 20:32:09.264110\n",
      "Dump data to  unit_test_git  End  2020-12-09 20:32:09.442855\n"
     ]
    },
    {
     "name": "stderr",
     "output_type": "stream",
     "text": [
      "."
     ]
    },
    {
     "name": "stdout",
     "output_type": "stream",
     "text": [
      "Connection OK\n",
      "Start Filter Existing data from df at  2020-12-09 20:32:10.305222\n",
      "Dump data to  unit_test_git  End  2020-12-09 20:32:10.489055\n"
     ]
    },
    {
     "name": "stderr",
     "output_type": "stream",
     "text": [
      "."
     ]
    },
    {
     "name": "stdout",
     "output_type": "stream",
     "text": [
      "Connection OK\n",
      "Start Filter Existing data from df at  2020-12-09 20:32:11.418496\n"
     ]
    },
    {
     "name": "stderr",
     "output_type": "stream",
     "text": [
      "."
     ]
    },
    {
     "name": "stdout",
     "output_type": "stream",
     "text": [
      "Dump data to  unit_test_git  End  2020-12-09 20:32:11.620540\n",
      "Connection OK\n"
     ]
    },
    {
     "name": "stderr",
     "output_type": "stream",
     "text": [
      "."
     ]
    },
    {
     "name": "stdout",
     "output_type": "stream",
     "text": [
      "Connection OK\n",
      "Start delete old data at 2020-12-09 20:32:13.437013\n",
      "Delete Last ['col1'] at 2020-12-09 20:32:13.513758\n"
     ]
    },
    {
     "name": "stderr",
     "output_type": "stream",
     "text": [
      "."
     ]
    },
    {
     "name": "stdout",
     "output_type": "stream",
     "text": [
      "Dump data to  unit_test_git  End  2020-12-09 20:32:13.642290\n",
      "Connection OK\n",
      "Start delete old data at 2020-12-09 20:32:14.653527\n",
      "Delete Last col1 at 2020-12-09 20:32:14.739138\n"
     ]
    },
    {
     "name": "stderr",
     "output_type": "stream",
     "text": [
      "."
     ]
    },
    {
     "name": "stdout",
     "output_type": "stream",
     "text": [
      "Dump data to  unit_test_git  End  2020-12-09 20:32:14.896068\n",
      "Connection OK\n",
      "Start delete old data at 2020-12-09 20:32:15.820075\n",
      "Delete Last ['col1', 'col2'] at 2020-12-09 20:32:15.895897\n"
     ]
    },
    {
     "name": "stderr",
     "output_type": "stream",
     "text": [
      "."
     ]
    },
    {
     "name": "stdout",
     "output_type": "stream",
     "text": [
      "Dump data to  unit_test_git  End  2020-12-09 20:32:16.023932\n",
      "Connection OK\n",
      "Start delete old data at 2020-12-09 20:32:17.030706\n",
      "Delete Last ['col1', 'col2', 'col3'] at 2020-12-09 20:32:17.126586\n"
     ]
    },
    {
     "name": "stderr",
     "output_type": "stream",
     "text": [
      "."
     ]
    },
    {
     "name": "stdout",
     "output_type": "stream",
     "text": [
      "Dump data to  unit_test_git  End  2020-12-09 20:32:17.263133\n",
      "Connection OK\n",
      "Start delete old data at 2020-12-09 20:32:18.331204\n",
      "Delete Last ['col1'] at 2020-12-09 20:32:18.413436\n"
     ]
    },
    {
     "name": "stderr",
     "output_type": "stream",
     "text": [
      "."
     ]
    },
    {
     "name": "stdout",
     "output_type": "stream",
     "text": [
      "Dump data to  unit_test_git  End  2020-12-09 20:32:18.560599\n",
      "Connection OK\n",
      "Start Filter Existing data from df at  2020-12-09 20:32:19.560169\n",
      "Dump data to  unit_test_git  End  2020-12-09 20:32:20.040783\n",
      "Start delete old data at 2020-12-09 20:32:20.041774\n",
      "Delete Last ['date'] at 2020-12-09 20:32:20.120826\n"
     ]
    },
    {
     "name": "stderr",
     "output_type": "stream",
     "text": [
      "."
     ]
    },
    {
     "name": "stdout",
     "output_type": "stream",
     "text": [
      "Dump data to  unit_test_git  End  2020-12-09 20:32:20.258261\n",
      "Connection OK\n"
     ]
    },
    {
     "name": "stderr",
     "output_type": "stream",
     "text": [
      "."
     ]
    },
    {
     "name": "stdout",
     "output_type": "stream",
     "text": [
      "Connection OK\n",
      "Start Filter Existing data from df at  2020-12-09 20:32:22.580229\n"
     ]
    },
    {
     "name": "stderr",
     "output_type": "stream",
     "text": [
      "."
     ]
    },
    {
     "name": "stdout",
     "output_type": "stream",
     "text": [
      "Dump data to  unit_test_git  End  2020-12-09 20:32:23.090661\n"
     ]
    },
    {
     "name": "stderr",
     "output_type": "stream",
     "text": [
      "\n",
      "----------------------------------------------------------------------\n",
      "Ran 12 tests in 14.914s\n",
      "\n",
      "OK\n"
     ]
    },
    {
     "data": {
      "text/plain": [
       "<unittest.main.TestProgram at 0x28c844dbd08>"
      ]
     },
     "execution_count": 4,
     "metadata": {},
     "output_type": "execute_result"
    }
   ],
   "source": [
    "test_mysql = setting['MYSQL']\n",
    "    \n",
    "class SQL_Test_class(unittest.TestCase):\n",
    "    def setUp(self):\n",
    "        self.sql = da_tran_SQL(sql_type = test_mysql['type'],\n",
    "                                host_name = test_mysql['host'],\n",
    "                                database_name = test_mysql['database'],\n",
    "                                user = test_mysql['user'],\n",
    "                                password = test_mysql['password'])\n",
    "        self.df1 = pd.DataFrame({'col1' : [1,2,3,4,5] , 'col2' : [1,1,2,2,3] , 'col3' : [1,1,1,1,1]})\n",
    "        self.df2 = pd.DataFrame({'col1' : [4,5,6,7,8] , 'col2' : [3,3,4,4,5] , 'col3' : [2,2,2,2,2]})\n",
    "        self.table_name = 'unit_test_git'\n",
    "        self.df1.to_sql(self.table_name, con = self.sql.engine, index = False, if_exists = 'replace')\n",
    "\n",
    "    def test_sp(self):\n",
    "        sql_q = \"\"\" drop procedure if exists unit_test_git_SP;\"\"\"\n",
    "        self.sql.engine.execute(sql_q)\n",
    "        sql_q = \"\"\" CREATE PROCEDURE unit_test_git_SP\n",
    "                    (PARAM1 VARCHAR(100))\n",
    "                    BEGIN\n",
    "                    SELECT * FROM {} WHERE col1 = PARAM1 ;\n",
    "                    end;\"\"\".format(self.table_name)\n",
    "        self.sql.engine.execute(sql_q)\n",
    "        df_read = self.sql.read('unit_test_git_SP', SP = True , param = {'PARAM1' : 1})\n",
    "        expect_df = self.df1[self.df1['col1'] == 1]\n",
    "        result, expect = help_test(df_read, expect_df)\n",
    "        self.assertEqual(result, expect)\n",
    "\n",
    "\n",
    "    def test_read_sql(self):\n",
    "        df_read = self.sql.read(self.table_name)\n",
    "        expect_df = self.df1\n",
    "        result, expect = help_test(df_read, expect_df)\n",
    "        self.assertEqual(result, expect)\n",
    "\n",
    "    def test_whole(self):\n",
    "        self.sql.dump_whole(self.df2, self.table_name)\n",
    "        df_read = self.sql.read(self.table_name)\n",
    "        expect_df = self.df2\n",
    "        result, expect = help_test(df_read, expect_df)\n",
    "        self.assertEqual(result, expect)\n",
    "\n",
    "    def test_replace1(self) :\n",
    "        self.sql.dump_replace(df_in = self.df2 , table_name_in = self.table_name, list_key = ['col1'])\n",
    "        df_read = self.sql.read(self.table_name)\n",
    "        expect_df = pd.DataFrame({'col1' : [1,2,3,4,5,6,7,8] , 'col2' : [1,1,2,3,3,4,4,5] , 'col3' : [1,1,1,2,2,2,2,2]})\n",
    "        result, expect = help_test(df_read, expect_df)\n",
    "        self.assertEqual(result, expect)\n",
    "\n",
    "    def test_replace1_str(self) :\n",
    "        self.sql.dump_replace(df_in = self.df2 , table_name_in = self.table_name, list_key = 'col1')\n",
    "        df_read = self.sql.read(self.table_name)\n",
    "        expect_df = pd.DataFrame({'col1' : [1,2,3,4,5,6,7,8] , 'col2' : [1,1,2,3,3,4,4,5] , 'col3' : [1,1,1,2,2,2,2,2]})\n",
    "        result, expect = help_test(df_read, expect_df)\n",
    "        self.assertEqual(result, expect)\n",
    "\n",
    "    def test_replace2(self) :\n",
    "        self.sql.dump_replace(df_in = self.df2 , table_name_in = self.table_name, list_key = ['col1','col2'])\n",
    "        df_read = self.sql.read(self.table_name)\n",
    "        expect_df = pd.DataFrame({'col1' : [1,2,3,4,4,5,6,7,8] , 'col2' : [1,1,2,2,3,3,4,4,5] , 'col3' : [1,1,1,1,2,2,2,2,2]})\n",
    "        result, expect = help_test(df_read, expect_df)\n",
    "        self.assertEqual(result, expect)\n",
    "        \n",
    "    def test_replace3(self) :\n",
    "        self.sql.dump_replace(df_in = self.df2 , table_name_in = self.table_name, list_key = ['col1','col2','col3'])\n",
    "        df_read = self.sql.read(self.table_name)\n",
    "        expect_df = self.df1.append(self.df2)\n",
    "        result, expect = help_test(df_read, expect_df)\n",
    "        self.assertEqual(result, expect)\n",
    "\n",
    "    def test_replace_logic(self) :\n",
    "        self.sql.dump_replace(df_in = self.df2 , table_name_in = self.table_name, list_key = ['col1'],\n",
    "                             math_logic = {'col1' : {'logic' : '>', 'value' : 1}})\n",
    "        df_read = self.sql.read(self.table_name)\n",
    "        expect_df = self.df1[self.df1['col1'] <= 1].append(self.df2)\n",
    "        result, expect = help_test(df_read, expect_df)\n",
    "        self.assertEqual(result, expect)\n",
    "        \n",
    "    def test_replace_logic_date(self) :\n",
    "        df_date = pd.DataFrame({'col1' : [1,2,3,4,5], \n",
    "                                'date' : pd.date_range('2020-10-10','2020-10-14'), 'col2' :[1,1,1,1,1]})\n",
    "        self.sql.dump_whole(df_date, self.table_name)\n",
    "        expect_df = df_date[df_date['date'] <= '2020-10-12']\n",
    "        df_date['col2'] = 3\n",
    "        self.sql.dump_replace(df_in = df_date , table_name_in = self.table_name, list_key = ['date'],\n",
    "                             math_logic = {'date' : {'logic' : '>', 'value' : '2020-10-12', 'type' : 'date'}})\n",
    "        df_read = self.sql.read(self.table_name)\n",
    "        expect_df = expect_df.append(df_date)\n",
    "        result, expect = help_test(df_read, expect_df)\n",
    "        self.assertEqual(result, expect)\n",
    "        \n",
    "    def test_replace3(self) :\n",
    "        self.sql.dump_replace(df_in = self.df2 , table_name_in = self.table_name, list_key = ['col1','col2','col3'])\n",
    "        df_read = self.sql.read(self.table_name)\n",
    "        expect_df = self.df1.append(self.df2)\n",
    "        result, expect = help_test(df_read, expect_df)\n",
    "        self.assertEqual(result, expect)\n",
    "\n",
    "    def test_new1_str(self) :\n",
    "        self.sql.dump_new(df_in = self.df2 , table_name_in = self.table_name, list_key = 'col1')\n",
    "        df_read = self.sql.read(self.table_name)\n",
    "        expect_df = pd.DataFrame({'col1' : [1,2,3,4,5,6,7,8] , 'col2' : [1,1,2,2,3,4,4,5] , 'col3' : [1,1,1,1,1,2,2,2]})\n",
    "        result, expect = help_test(df_read, expect_df)\n",
    "        self.assertEqual(result, expect)\n",
    "\n",
    "    def test_new1(self) :\n",
    "        self.sql.dump_new(df_in = self.df2 , table_name_in = self.table_name, list_key = ['col1'])\n",
    "        df_read = self.sql.read(self.table_name)\n",
    "        expect_df = pd.DataFrame({'col1' : [1,2,3,4,5,6,7,8] , 'col2' : [1,1,2,2,3,4,4,5] , 'col3' : [1,1,1,1,1,2,2,2]})\n",
    "        result, expect = help_test(df_read, expect_df)\n",
    "        self.assertEqual(result, expect)\n",
    "\n",
    "    def test_new2(self) :\n",
    "        self.sql.dump_new(df_in = self.df2 , table_name_in = self.table_name, list_key = ['col1','col2'], debug = False)\n",
    "        df_read = self.sql.read(self.table_name)\n",
    "        expect_df = pd.DataFrame({'col1' : [1,2,3,4,5,4,6,7,8] , 'col2' : [1,1,2,2,3,3,4,4,5] , 'col3' : [1,1,1,1,1,2,2,2,2]})\n",
    "        result, expect = help_test(df_read, expect_df)\n",
    "        self.assertEqual(result, expect)\n",
    "\n",
    "\n",
    "unittest.main(argv = ['first-arg-is-ignored'], exit = False)"
   ]
  },
  {
   "cell_type": "code",
   "execution_count": 6,
   "metadata": {
    "scrolled": false
   },
   "outputs": [
    {
     "name": "stdout",
     "output_type": "stream",
     "text": [
      "Connection OK\n",
      "Start Filter Existing data from df at  2020-12-09 20:37:01.281273\n",
      "Dump data to  unit_test_git  End  2020-12-09 20:37:03.653162\n"
     ]
    },
    {
     "name": "stderr",
     "output_type": "stream",
     "text": [
      "."
     ]
    },
    {
     "name": "stdout",
     "output_type": "stream",
     "text": [
      "Connection OK\n",
      "Start Filter Existing data from df at  2020-12-09 20:37:19.179827\n",
      "Dump data to  unit_test_git  End  2020-12-09 20:37:21.685641\n"
     ]
    },
    {
     "name": "stderr",
     "output_type": "stream",
     "text": [
      "."
     ]
    },
    {
     "name": "stdout",
     "output_type": "stream",
     "text": [
      "Connection OK\n",
      "Start Filter Existing data from df at  2020-12-09 20:37:37.902629\n",
      "Dump data to  unit_test_git  End  2020-12-09 20:37:40.545681\n"
     ]
    },
    {
     "name": "stderr",
     "output_type": "stream",
     "text": [
      "."
     ]
    },
    {
     "name": "stdout",
     "output_type": "stream",
     "text": [
      "Connection OK\n"
     ]
    },
    {
     "name": "stderr",
     "output_type": "stream",
     "text": [
      "."
     ]
    },
    {
     "name": "stdout",
     "output_type": "stream",
     "text": [
      "Connection OK\n",
      "Start delete old data at 2020-12-09 20:38:11.249180\n",
      "Delete Last ['col1'] at 2020-12-09 20:38:12.075490\n",
      "Dump data to  unit_test_git  End  2020-12-09 20:38:13.743411\n"
     ]
    },
    {
     "name": "stderr",
     "output_type": "stream",
     "text": [
      "."
     ]
    },
    {
     "name": "stdout",
     "output_type": "stream",
     "text": [
      "Connection OK\n",
      "Start delete old data at 2020-12-09 20:38:31.447570\n",
      "Delete Last col1 at 2020-12-09 20:38:32.290316\n",
      "Dump data to  unit_test_git  End  2020-12-09 20:38:33.969453\n"
     ]
    },
    {
     "name": "stderr",
     "output_type": "stream",
     "text": [
      "."
     ]
    },
    {
     "name": "stdout",
     "output_type": "stream",
     "text": [
      "Connection OK\n",
      "Start delete old data at 2020-12-09 20:38:50.121785\n",
      "Delete Last ['col1', 'col2'] at 2020-12-09 20:38:50.976138\n",
      "Dump data to  unit_test_git  End  2020-12-09 20:38:52.660725\n"
     ]
    },
    {
     "name": "stderr",
     "output_type": "stream",
     "text": [
      "."
     ]
    },
    {
     "name": "stdout",
     "output_type": "stream",
     "text": [
      "Connection OK\n",
      "Start delete old data at 2020-12-09 20:39:07.788959\n",
      "Delete Last ['col1', 'col2', 'col3'] at 2020-12-09 20:39:08.575921\n",
      "Dump data to  unit_test_git  End  2020-12-09 20:39:10.260540\n"
     ]
    },
    {
     "name": "stderr",
     "output_type": "stream",
     "text": [
      "."
     ]
    },
    {
     "name": "stdout",
     "output_type": "stream",
     "text": [
      "Connection OK\n",
      "Start delete old data at 2020-12-09 20:39:25.927066\n",
      "Delete Last ['col1'] at 2020-12-09 20:39:26.808621\n",
      "Dump data to  unit_test_git  End  2020-12-09 20:39:28.486221\n"
     ]
    },
    {
     "name": "stderr",
     "output_type": "stream",
     "text": [
      "."
     ]
    },
    {
     "name": "stdout",
     "output_type": "stream",
     "text": [
      "Connection OK\n",
      "Start Filter Existing data from df at  2020-12-09 20:39:44.461480\n",
      "Dump data to  unit_test_git  End  2020-12-09 20:39:52.848891\n",
      "Start delete old data at 2020-12-09 20:39:52.850593\n",
      "Delete Last ['date'] at 2020-12-09 20:39:53.682989\n",
      "Dump data to  unit_test_git  End  2020-12-09 20:39:55.324311\n"
     ]
    },
    {
     "name": "stderr",
     "output_type": "stream",
     "text": [
      "."
     ]
    },
    {
     "name": "stdout",
     "output_type": "stream",
     "text": [
      "Connection OK\n",
      "Start Filter Existing data from df at  2020-12-09 20:40:10.814551\n",
      "Dump data to  unit_test_git  End  2020-12-09 20:40:18.816407\n"
     ]
    },
    {
     "name": "stderr",
     "output_type": "stream",
     "text": [
      ".\n",
      "----------------------------------------------------------------------\n",
      "Ran 11 tests in 212.373s\n",
      "\n",
      "OK\n"
     ]
    },
    {
     "data": {
      "text/plain": [
       "<unittest.main.TestProgram at 0x28c844bd3c8>"
      ]
     },
     "execution_count": 6,
     "metadata": {},
     "output_type": "execute_result"
    }
   ],
   "source": [
    "test_postgresql = setting['POSTGRESQL']\n",
    "\n",
    "class SQL_Test_class(unittest.TestCase):\n",
    "    def setUp(self):\n",
    "        self.sql = da_tran_SQL(sql_type = test_postgresql['type'],\n",
    "                                host_name = test_postgresql['host'],\n",
    "                                database_name = test_postgresql['database'],\n",
    "                                user = test_postgresql['user'],\n",
    "                                password = test_postgresql['password'])\n",
    "        self.df1 = pd.DataFrame({'col1' : [1,2,3,4,5] , 'col2' : [1,1,2,2,3] , 'col3' : [1,1,1,1,1]})\n",
    "        self.df2 = pd.DataFrame({'col1' : [4,5,6,7,8] , 'col2' : [3,3,4,4,5] , 'col3' : [2,2,2,2,2]})\n",
    "        self.table_name = 'unit_test_git'\n",
    "        self.df1.to_sql(self.table_name, con = self.sql.engine, index = False, if_exists = 'replace')\n",
    "\n",
    "#     def test_sp(self):\n",
    "#         sql_q = \"\"\" CREATE OR REPLACE PROCEDURE unit_test_git_SP (PARAM1 INT)\n",
    "#                     RETURNS TABLE (col1 int, col2 int, col3 int)\n",
    "#                     language plpgsql\n",
    "#                     AS $$\n",
    "#                     BEGIN\n",
    "#                     RETURN QUERY(SELECT * FROM {} WHERE col1 = PARAM1) ;\n",
    "#                     END ; $$\"\"\".format(self.table_name)\n",
    "#         self.sql.engine.execute(sql_q)\n",
    "#         df_read = self.sql.read('unit_test_git_SP', SP = True , param = {'PARAM1' : 1})\n",
    "#         expect_df = self.df1[self.df1['col1'] == 1]\n",
    "#         result, expect = help_test(df_read, expect_df)\n",
    "#         self.assertEqual(result, expect)\n",
    "        \n",
    "    def test_read_sql(self):\n",
    "        df_read = self.sql.read(self.table_name)\n",
    "        expect_df = self.df1\n",
    "        result, expect = help_test(df_read, expect_df)\n",
    "        self.assertEqual(result, expect)\n",
    "\n",
    "    def test_whole(self):\n",
    "        self.sql.dump_whole(self.df2, self.table_name)\n",
    "        df_read = self.sql.read(self.table_name)\n",
    "        expect_df = self.df2\n",
    "        result, expect = help_test(df_read, expect_df)\n",
    "        self.assertEqual(result, expect)\n",
    "        \n",
    "    def test_replace1(self) :\n",
    "        self.sql.dump_replace(df_in = self.df2 , table_name_in = self.table_name, list_key = ['col1'])\n",
    "        df_read = self.sql.read(self.table_name)\n",
    "        expect_df = pd.DataFrame({'col1' : [1,2,3,4,5,6,7,8] , 'col2' : [1,1,2,3,3,4,4,5] , 'col3' : [1,1,1,2,2,2,2,2]})\n",
    "        result, expect = help_test(df_read, expect_df)\n",
    "        self.assertEqual(result, expect)\n",
    "\n",
    "    def test_replace1_str(self) :\n",
    "        self.sql.dump_replace(df_in = self.df2 , table_name_in = self.table_name, list_key = 'col1')\n",
    "        df_read = self.sql.read(self.table_name)\n",
    "        expect_df = pd.DataFrame({'col1' : [1,2,3,4,5,6,7,8] , 'col2' : [1,1,2,3,3,4,4,5] , 'col3' : [1,1,1,2,2,2,2,2]})\n",
    "        result, expect = help_test(df_read, expect_df)\n",
    "        self.assertEqual(result, expect)\n",
    "\n",
    "    def test_replace2(self) :\n",
    "        self.sql.dump_replace(df_in = self.df2 , table_name_in = self.table_name, list_key = ['col1','col2'])\n",
    "        df_read = self.sql.read(self.table_name)\n",
    "        expect_df = pd.DataFrame({'col1' : [1,2,3,4,4,5,6,7,8] , 'col2' : [1,1,2,2,3,3,4,4,5] , 'col3' : [1,1,1,1,2,2,2,2,2]})\n",
    "        result, expect = help_test(df_read, expect_df)\n",
    "        self.assertEqual(result, expect)\n",
    "        \n",
    "    def test_replace3(self) :\n",
    "        self.sql.dump_replace(df_in = self.df2 , table_name_in = self.table_name, list_key = ['col1','col2','col3'])\n",
    "        df_read = self.sql.read(self.table_name)\n",
    "        expect_df = self.df1.append(self.df2)\n",
    "        result, expect = help_test(df_read, expect_df)\n",
    "        self.assertEqual(result, expect)\n",
    "\n",
    "    def test_replace_logic(self) :\n",
    "        self.sql.dump_replace(df_in = self.df2 , table_name_in = self.table_name, list_key = ['col1'],\n",
    "                             math_logic = {'col1' : {'logic' : '>', 'value' : 1}})\n",
    "        df_read = self.sql.read(self.table_name)\n",
    "        expect_df = self.df1[self.df1['col1'] <= 1].append(self.df2)\n",
    "        result, expect = help_test(df_read, expect_df)\n",
    "        self.assertEqual(result, expect)\n",
    "        \n",
    "    def test_replace_logic_date(self) :\n",
    "        df_date = pd.DataFrame({'col1' : [1,2,3,4,5], \n",
    "                                'date' : pd.date_range('2020-10-10','2020-10-14'), 'col2' :[1,1,1,1,1]})\n",
    "        \n",
    "        self.sql.dump_whole(df_date, self.table_name)\n",
    "        expect_df = df_date[df_date['date'] <= '2020-10-12']\n",
    "        df_date['col2'] = 3\n",
    "        self.sql.dump_replace(df_in = df_date , table_name_in = self.table_name, list_key = ['date'],\n",
    "                             math_logic = {'date' : {'logic' : '>', 'value' : '2020-10-12', 'type' : 'date'}})\n",
    "        df_read = self.sql.read(self.table_name)\n",
    "        expect_df = expect_df.append(df_date)\n",
    "        result, expect = help_test(df_read, expect_df)\n",
    "        self.assertEqual(result, expect)\n",
    "        \n",
    "    def test_replace3(self) :\n",
    "        self.sql.dump_replace(df_in = self.df2 , table_name_in = self.table_name, list_key = ['col1','col2','col3'])\n",
    "        df_read = self.sql.read(self.table_name)\n",
    "        expect_df = self.df1.append(self.df2)\n",
    "        result, expect = help_test(df_read, expect_df)\n",
    "        self.assertEqual(result, expect)\n",
    "\n",
    "    def test_new1_str(self) :\n",
    "        self.sql.dump_new(df_in = self.df2 , table_name_in = self.table_name, list_key = 'col1')\n",
    "        df_read = self.sql.read(self.table_name)\n",
    "        expect_df = pd.DataFrame({'col1' : [1,2,3,4,5,6,7,8] , 'col2' : [1,1,2,2,3,4,4,5] , 'col3' : [1,1,1,1,1,2,2,2]})\n",
    "        result, expect = help_test(df_read, expect_df)\n",
    "        self.assertEqual(result, expect)\n",
    "\n",
    "    def test_new1(self) :\n",
    "        self.sql.dump_new(df_in = self.df2 , table_name_in = self.table_name, list_key = ['col1'])\n",
    "        df_read = self.sql.read(self.table_name)\n",
    "        expect_df = pd.DataFrame({'col1' : [1,2,3,4,5,6,7,8] , 'col2' : [1,1,2,2,3,4,4,5] , 'col3' : [1,1,1,1,1,2,2,2]})\n",
    "        result, expect = help_test(df_read, expect_df)\n",
    "        self.assertEqual(result, expect)\n",
    "\n",
    "    def test_new2(self) :\n",
    "        self.sql.dump_new(df_in = self.df2 , table_name_in = self.table_name, list_key = ['col1','col2'], debug = False)\n",
    "        df_read = self.sql.read(self.table_name)\n",
    "        expect_df = pd.DataFrame({'col1' : [1,2,3,4,5,4,6,7,8] , 'col2' : [1,1,2,2,3,3,4,4,5] , 'col3' : [1,1,1,1,1,2,2,2,2]})\n",
    "        result, expect = help_test(df_read, expect_df)\n",
    "        self.assertEqual(result, expect)\n",
    "        \n",
    "unittest.main(argv = ['first-arg-is-ignored'], exit = False)"
   ]
  }
 ],
 "metadata": {
  "kernelspec": {
   "display_name": "Python 3",
   "language": "python",
   "name": "python3"
  },
  "language_info": {
   "codemirror_mode": {
    "name": "ipython",
    "version": 3
   },
   "file_extension": ".py",
   "mimetype": "text/x-python",
   "name": "python",
   "nbconvert_exporter": "python",
   "pygments_lexer": "ipython3",
   "version": "3.7.6"
  }
 },
 "nbformat": 4,
 "nbformat_minor": 4
}
